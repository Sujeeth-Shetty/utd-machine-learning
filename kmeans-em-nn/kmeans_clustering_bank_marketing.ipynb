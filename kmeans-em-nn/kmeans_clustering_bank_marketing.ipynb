{
  "nbformat": 4,
  "nbformat_minor": 0,
  "metadata": {
    "kernelspec": {
      "language": "python",
      "display_name": "Python 3",
      "name": "python3"
    },
    "language_info": {
      "pygments_lexer": "ipython3",
      "nbconvert_exporter": "python",
      "version": "3.6.4",
      "file_extension": ".py",
      "codemirror_mode": {
        "name": "ipython",
        "version": 3
      },
      "name": "python",
      "mimetype": "text/x-python"
    },
    "colab": {
      "name": "kmeans-clustering-bank-marketing.ipynb",
      "provenance": []
    }
  },
  "cells": [
    {
      "cell_type": "code",
      "metadata": {
        "_uuid": "8f2839f25d086af736a60e9eeb907d3b93b6e0e5",
        "_cell_guid": "b1076dfc-b9ad-4769-8c92-a6c4dae69d19",
        "trusted": true,
        "id": "fjtBFg-hl29v",
        "colab_type": "code",
        "colab": {}
      },
      "source": [
        "from sklearn.decomposition import PCA\n",
        "from sklearn.cluster import KMeans\n",
        "from sklearn.preprocessing import MinMaxScaler, OneHotEncoder, StandardScaler\n",
        "from sklearn.decomposition import FastICA\n",
        "#from sklearn.random_projection import SparseRandomProjection\n",
        "from sklearn.ensemble.forest import RandomForestClassifier\n",
        "from sklearn.feature_selection import SelectFromModel\n",
        "from sklearn.metrics import silhouette_score\n",
        "from sklearn.random_projection import GaussianRandomProjection\n",
        "from sklearn.metrics import classification_report, confusion_matrix\n",
        "from sklearn.metrics import roc_curve,roc_auc_score, precision_score, recall_score,f1_score\n",
        "from sklearn.metrics import make_scorer, accuracy_score\n",
        "\n",
        "import pandas as pd\n",
        "import numpy as np\n",
        "import seaborn as sns\n",
        "import matplotlib.pyplot as plt\n",
        "\n",
        "\n",
        "%matplotlib inline"
      ],
      "execution_count": 0,
      "outputs": []
    },
    {
      "cell_type": "code",
      "metadata": {
        "_uuid": "d629ff2d2480ee46fbb7e2d37f6b5fab8052498a",
        "_cell_guid": "79c7e3d0-c299-4dcb-8224-4455121ee9b0",
        "trusted": true,
        "id": "SWAbIKASl295",
        "colab_type": "code",
        "colab": {},
        "outputId": "5a59bc56-6bce-442d-e479-ef4f42125845"
      },
      "source": [
        "data_1=pd.read_csv(\"/kaggle/input/bankpromotion/bank-additional-full.csv\",sep=\";\")\n",
        "data_2=pd.read_csv(\"/kaggle/input/bankpromotion/bank-additional.csv\",sep=\";\")\n",
        "data=pd.concat([data_1,data_2],axis=0)\n",
        "data.head()"
      ],
      "execution_count": 0,
      "outputs": [
        {
          "output_type": "execute_result",
          "data": {
            "text/plain": [
              "   age        job  marital    education  default housing loan    contact  \\\n",
              "0   56  housemaid  married     basic.4y       no      no   no  telephone   \n",
              "1   57   services  married  high.school  unknown      no   no  telephone   \n",
              "2   37   services  married  high.school       no     yes   no  telephone   \n",
              "3   40     admin.  married     basic.6y       no      no   no  telephone   \n",
              "4   56   services  married  high.school       no      no  yes  telephone   \n",
              "\n",
              "  month day_of_week  ...  campaign  pdays  previous     poutcome emp.var.rate  \\\n",
              "0   may         mon  ...         1    999         0  nonexistent          1.1   \n",
              "1   may         mon  ...         1    999         0  nonexistent          1.1   \n",
              "2   may         mon  ...         1    999         0  nonexistent          1.1   \n",
              "3   may         mon  ...         1    999         0  nonexistent          1.1   \n",
              "4   may         mon  ...         1    999         0  nonexistent          1.1   \n",
              "\n",
              "   cons.price.idx  cons.conf.idx  euribor3m  nr.employed   y  \n",
              "0          93.994          -36.4      4.857       5191.0  no  \n",
              "1          93.994          -36.4      4.857       5191.0  no  \n",
              "2          93.994          -36.4      4.857       5191.0  no  \n",
              "3          93.994          -36.4      4.857       5191.0  no  \n",
              "4          93.994          -36.4      4.857       5191.0  no  \n",
              "\n",
              "[5 rows x 21 columns]"
            ],
            "text/html": [
              "<div>\n",
              "<style scoped>\n",
              "    .dataframe tbody tr th:only-of-type {\n",
              "        vertical-align: middle;\n",
              "    }\n",
              "\n",
              "    .dataframe tbody tr th {\n",
              "        vertical-align: top;\n",
              "    }\n",
              "\n",
              "    .dataframe thead th {\n",
              "        text-align: right;\n",
              "    }\n",
              "</style>\n",
              "<table border=\"1\" class=\"dataframe\">\n",
              "  <thead>\n",
              "    <tr style=\"text-align: right;\">\n",
              "      <th></th>\n",
              "      <th>age</th>\n",
              "      <th>job</th>\n",
              "      <th>marital</th>\n",
              "      <th>education</th>\n",
              "      <th>default</th>\n",
              "      <th>housing</th>\n",
              "      <th>loan</th>\n",
              "      <th>contact</th>\n",
              "      <th>month</th>\n",
              "      <th>day_of_week</th>\n",
              "      <th>...</th>\n",
              "      <th>campaign</th>\n",
              "      <th>pdays</th>\n",
              "      <th>previous</th>\n",
              "      <th>poutcome</th>\n",
              "      <th>emp.var.rate</th>\n",
              "      <th>cons.price.idx</th>\n",
              "      <th>cons.conf.idx</th>\n",
              "      <th>euribor3m</th>\n",
              "      <th>nr.employed</th>\n",
              "      <th>y</th>\n",
              "    </tr>\n",
              "  </thead>\n",
              "  <tbody>\n",
              "    <tr>\n",
              "      <th>0</th>\n",
              "      <td>56</td>\n",
              "      <td>housemaid</td>\n",
              "      <td>married</td>\n",
              "      <td>basic.4y</td>\n",
              "      <td>no</td>\n",
              "      <td>no</td>\n",
              "      <td>no</td>\n",
              "      <td>telephone</td>\n",
              "      <td>may</td>\n",
              "      <td>mon</td>\n",
              "      <td>...</td>\n",
              "      <td>1</td>\n",
              "      <td>999</td>\n",
              "      <td>0</td>\n",
              "      <td>nonexistent</td>\n",
              "      <td>1.1</td>\n",
              "      <td>93.994</td>\n",
              "      <td>-36.4</td>\n",
              "      <td>4.857</td>\n",
              "      <td>5191.0</td>\n",
              "      <td>no</td>\n",
              "    </tr>\n",
              "    <tr>\n",
              "      <th>1</th>\n",
              "      <td>57</td>\n",
              "      <td>services</td>\n",
              "      <td>married</td>\n",
              "      <td>high.school</td>\n",
              "      <td>unknown</td>\n",
              "      <td>no</td>\n",
              "      <td>no</td>\n",
              "      <td>telephone</td>\n",
              "      <td>may</td>\n",
              "      <td>mon</td>\n",
              "      <td>...</td>\n",
              "      <td>1</td>\n",
              "      <td>999</td>\n",
              "      <td>0</td>\n",
              "      <td>nonexistent</td>\n",
              "      <td>1.1</td>\n",
              "      <td>93.994</td>\n",
              "      <td>-36.4</td>\n",
              "      <td>4.857</td>\n",
              "      <td>5191.0</td>\n",
              "      <td>no</td>\n",
              "    </tr>\n",
              "    <tr>\n",
              "      <th>2</th>\n",
              "      <td>37</td>\n",
              "      <td>services</td>\n",
              "      <td>married</td>\n",
              "      <td>high.school</td>\n",
              "      <td>no</td>\n",
              "      <td>yes</td>\n",
              "      <td>no</td>\n",
              "      <td>telephone</td>\n",
              "      <td>may</td>\n",
              "      <td>mon</td>\n",
              "      <td>...</td>\n",
              "      <td>1</td>\n",
              "      <td>999</td>\n",
              "      <td>0</td>\n",
              "      <td>nonexistent</td>\n",
              "      <td>1.1</td>\n",
              "      <td>93.994</td>\n",
              "      <td>-36.4</td>\n",
              "      <td>4.857</td>\n",
              "      <td>5191.0</td>\n",
              "      <td>no</td>\n",
              "    </tr>\n",
              "    <tr>\n",
              "      <th>3</th>\n",
              "      <td>40</td>\n",
              "      <td>admin.</td>\n",
              "      <td>married</td>\n",
              "      <td>basic.6y</td>\n",
              "      <td>no</td>\n",
              "      <td>no</td>\n",
              "      <td>no</td>\n",
              "      <td>telephone</td>\n",
              "      <td>may</td>\n",
              "      <td>mon</td>\n",
              "      <td>...</td>\n",
              "      <td>1</td>\n",
              "      <td>999</td>\n",
              "      <td>0</td>\n",
              "      <td>nonexistent</td>\n",
              "      <td>1.1</td>\n",
              "      <td>93.994</td>\n",
              "      <td>-36.4</td>\n",
              "      <td>4.857</td>\n",
              "      <td>5191.0</td>\n",
              "      <td>no</td>\n",
              "    </tr>\n",
              "    <tr>\n",
              "      <th>4</th>\n",
              "      <td>56</td>\n",
              "      <td>services</td>\n",
              "      <td>married</td>\n",
              "      <td>high.school</td>\n",
              "      <td>no</td>\n",
              "      <td>no</td>\n",
              "      <td>yes</td>\n",
              "      <td>telephone</td>\n",
              "      <td>may</td>\n",
              "      <td>mon</td>\n",
              "      <td>...</td>\n",
              "      <td>1</td>\n",
              "      <td>999</td>\n",
              "      <td>0</td>\n",
              "      <td>nonexistent</td>\n",
              "      <td>1.1</td>\n",
              "      <td>93.994</td>\n",
              "      <td>-36.4</td>\n",
              "      <td>4.857</td>\n",
              "      <td>5191.0</td>\n",
              "      <td>no</td>\n",
              "    </tr>\n",
              "  </tbody>\n",
              "</table>\n",
              "<p>5 rows × 21 columns</p>\n",
              "</div>"
            ]
          },
          "metadata": {
            "tags": []
          },
          "execution_count": 2
        }
      ]
    },
    {
      "cell_type": "code",
      "metadata": {
        "trusted": true,
        "id": "fKwBLg9Zl299",
        "colab_type": "code",
        "colab": {},
        "outputId": "59f4148b-9b04-4d2a-c905-c55da50d3e79"
      },
      "source": [
        "\n",
        "\n",
        "#Correlation Plot\n",
        "plt.figure(figsize=(14,14))\n",
        "sns.set(font_scale=1)\n",
        "sns.heatmap(data.corr(),cmap='GnBu_r',annot=True, square = True ,linewidths=.5);\n",
        "plt.title('Variable Correlation')\n",
        "\n"
      ],
      "execution_count": 0,
      "outputs": [
        {
          "output_type": "execute_result",
          "data": {
            "text/plain": [
              "Text(0.5, 1, 'Variable Correlation')"
            ]
          },
          "metadata": {
            "tags": []
          },
          "execution_count": 3
        },
        {
          "output_type": "display_data",
          "data": {
            "text/plain": [
              "<Figure size 1008x1008 with 2 Axes>"
            ],
            "image/png": "[encoded data removed]"
          },
          "metadata": {
            "tags": [],
            "needs_background": "light"
          }
        }
      ]
    },
    {
      "cell_type": "code",
      "metadata": {
        "trusted": true,
        "id": "L0R22qinl2-A",
        "colab_type": "code",
        "colab": {},
        "outputId": "9d1e6a7d-57bf-4c60-8e5b-3871d3f86799"
      },
      "source": [
        "\n",
        "\n",
        "#To avoid mulicorinality drop the higly correltaed column\n",
        "data = data.drop([\"emp.var.rate\",\"nr.employed\"],axis=1)\n",
        "data.head()\n",
        "\n"
      ],
      "execution_count": 0,
      "outputs": [
        {
          "output_type": "execute_result",
          "data": {
            "text/plain": [
              "   age        job  marital    education  default housing loan    contact  \\\n",
              "0   56  housemaid  married     basic.4y       no      no   no  telephone   \n",
              "1   57   services  married  high.school  unknown      no   no  telephone   \n",
              "2   37   services  married  high.school       no     yes   no  telephone   \n",
              "3   40     admin.  married     basic.6y       no      no   no  telephone   \n",
              "4   56   services  married  high.school       no      no  yes  telephone   \n",
              "\n",
              "  month day_of_week  duration  campaign  pdays  previous     poutcome  \\\n",
              "0   may         mon       261         1    999         0  nonexistent   \n",
              "1   may         mon       149         1    999         0  nonexistent   \n",
              "2   may         mon       226         1    999         0  nonexistent   \n",
              "3   may         mon       151         1    999         0  nonexistent   \n",
              "4   may         mon       307         1    999         0  nonexistent   \n",
              "\n",
              "   cons.price.idx  cons.conf.idx  euribor3m   y  \n",
              "0          93.994          -36.4      4.857  no  \n",
              "1          93.994          -36.4      4.857  no  \n",
              "2          93.994          -36.4      4.857  no  \n",
              "3          93.994          -36.4      4.857  no  \n",
              "4          93.994          -36.4      4.857  no  "
            ],
            "text/html": [
              "<div>\n",
              "<style scoped>\n",
              "    .dataframe tbody tr th:only-of-type {\n",
              "        vertical-align: middle;\n",
              "    }\n",
              "\n",
              "    .dataframe tbody tr th {\n",
              "        vertical-align: top;\n",
              "    }\n",
              "\n",
              "    .dataframe thead th {\n",
              "        text-align: right;\n",
              "    }\n",
              "</style>\n",
              "<table border=\"1\" class=\"dataframe\">\n",
              "  <thead>\n",
              "    <tr style=\"text-align: right;\">\n",
              "      <th></th>\n",
              "      <th>age</th>\n",
              "      <th>job</th>\n",
              "      <th>marital</th>\n",
              "      <th>education</th>\n",
              "      <th>default</th>\n",
              "      <th>housing</th>\n",
              "      <th>loan</th>\n",
              "      <th>contact</th>\n",
              "      <th>month</th>\n",
              "      <th>day_of_week</th>\n",
              "      <th>duration</th>\n",
              "      <th>campaign</th>\n",
              "      <th>pdays</th>\n",
              "      <th>previous</th>\n",
              "      <th>poutcome</th>\n",
              "      <th>cons.price.idx</th>\n",
              "      <th>cons.conf.idx</th>\n",
              "      <th>euribor3m</th>\n",
              "      <th>y</th>\n",
              "    </tr>\n",
              "  </thead>\n",
              "  <tbody>\n",
              "    <tr>\n",
              "      <th>0</th>\n",
              "      <td>56</td>\n",
              "      <td>housemaid</td>\n",
              "      <td>married</td>\n",
              "      <td>basic.4y</td>\n",
              "      <td>no</td>\n",
              "      <td>no</td>\n",
              "      <td>no</td>\n",
              "      <td>telephone</td>\n",
              "      <td>may</td>\n",
              "      <td>mon</td>\n",
              "      <td>261</td>\n",
              "      <td>1</td>\n",
              "      <td>999</td>\n",
              "      <td>0</td>\n",
              "      <td>nonexistent</td>\n",
              "      <td>93.994</td>\n",
              "      <td>-36.4</td>\n",
              "      <td>4.857</td>\n",
              "      <td>no</td>\n",
              "    </tr>\n",
              "    <tr>\n",
              "      <th>1</th>\n",
              "      <td>57</td>\n",
              "      <td>services</td>\n",
              "      <td>married</td>\n",
              "      <td>high.school</td>\n",
              "      <td>unknown</td>\n",
              "      <td>no</td>\n",
              "      <td>no</td>\n",
              "      <td>telephone</td>\n",
              "      <td>may</td>\n",
              "      <td>mon</td>\n",
              "      <td>149</td>\n",
              "      <td>1</td>\n",
              "      <td>999</td>\n",
              "      <td>0</td>\n",
              "      <td>nonexistent</td>\n",
              "      <td>93.994</td>\n",
              "      <td>-36.4</td>\n",
              "      <td>4.857</td>\n",
              "      <td>no</td>\n",
              "    </tr>\n",
              "    <tr>\n",
              "      <th>2</th>\n",
              "      <td>37</td>\n",
              "      <td>services</td>\n",
              "      <td>married</td>\n",
              "      <td>high.school</td>\n",
              "      <td>no</td>\n",
              "      <td>yes</td>\n",
              "      <td>no</td>\n",
              "      <td>telephone</td>\n",
              "      <td>may</td>\n",
              "      <td>mon</td>\n",
              "      <td>226</td>\n",
              "      <td>1</td>\n",
              "      <td>999</td>\n",
              "      <td>0</td>\n",
              "      <td>nonexistent</td>\n",
              "      <td>93.994</td>\n",
              "      <td>-36.4</td>\n",
              "      <td>4.857</td>\n",
              "      <td>no</td>\n",
              "    </tr>\n",
              "    <tr>\n",
              "      <th>3</th>\n",
              "      <td>40</td>\n",
              "      <td>admin.</td>\n",
              "      <td>married</td>\n",
              "      <td>basic.6y</td>\n",
              "      <td>no</td>\n",
              "      <td>no</td>\n",
              "      <td>no</td>\n",
              "      <td>telephone</td>\n",
              "      <td>may</td>\n",
              "      <td>mon</td>\n",
              "      <td>151</td>\n",
              "      <td>1</td>\n",
              "      <td>999</td>\n",
              "      <td>0</td>\n",
              "      <td>nonexistent</td>\n",
              "      <td>93.994</td>\n",
              "      <td>-36.4</td>\n",
              "      <td>4.857</td>\n",
              "      <td>no</td>\n",
              "    </tr>\n",
              "    <tr>\n",
              "      <th>4</th>\n",
              "      <td>56</td>\n",
              "      <td>services</td>\n",
              "      <td>married</td>\n",
              "      <td>high.school</td>\n",
              "      <td>no</td>\n",
              "      <td>no</td>\n",
              "      <td>yes</td>\n",
              "      <td>telephone</td>\n",
              "      <td>may</td>\n",
              "      <td>mon</td>\n",
              "      <td>307</td>\n",
              "      <td>1</td>\n",
              "      <td>999</td>\n",
              "      <td>0</td>\n",
              "      <td>nonexistent</td>\n",
              "      <td>93.994</td>\n",
              "      <td>-36.4</td>\n",
              "      <td>4.857</td>\n",
              "      <td>no</td>\n",
              "    </tr>\n",
              "  </tbody>\n",
              "</table>\n",
              "</div>"
            ]
          },
          "metadata": {
            "tags": []
          },
          "execution_count": 4
        }
      ]
    },
    {
      "cell_type": "code",
      "metadata": {
        "trusted": true,
        "id": "hRJao3o6l2-F",
        "colab_type": "code",
        "colab": {},
        "outputId": "8bad4791-0eef-4f9c-f84a-788b934325f8"
      },
      "source": [
        "#label encoding\n",
        "\n",
        "jobDummies = pd.get_dummies(data['job'], prefix = 'job')\n",
        "maritalDummies = pd.get_dummies(data['marital'], prefix = 'marital')\n",
        "educationDummies = pd.get_dummies(data['education'], prefix = 'education')\n",
        "defaultDummies = pd.get_dummies(data['default'], prefix = 'default')\n",
        "housingDummies = pd.get_dummies(data['housing'], prefix = 'housing')\n",
        "loanDummies = pd.get_dummies(data['loan'], prefix = 'loan')\n",
        "contactDummies = pd.get_dummies(data['contact'], prefix = 'contact')\n",
        "poutcomeDummies = pd.get_dummies(data['poutcome'], prefix = 'poutcome')\n",
        "data['month']=data['month'].astype('category')\n",
        "data['day_of_week']=data['day_of_week'].astype('category')\n",
        "data['y']=data['y'].astype('category')\n",
        "\n",
        "# Assigning numerical values and storing in another column\n",
        "data['month'] = data['month'].cat.codes\n",
        "data['day_of_week'] = data['day_of_week'].cat.codes\n",
        "data['y'] = data['y'].cat.codes\n",
        "\n",
        "data['y'].dtype"
      ],
      "execution_count": 0,
      "outputs": [
        {
          "output_type": "execute_result",
          "data": {
            "text/plain": [
              "dtype('int8')"
            ]
          },
          "metadata": {
            "tags": []
          },
          "execution_count": 5
        }
      ]
    },
    {
      "cell_type": "code",
      "metadata": {
        "trusted": true,
        "id": "zswD6Pb3l2-I",
        "colab_type": "code",
        "colab": {},
        "outputId": "aec34861-018c-4581-9d4b-526c4f570805"
      },
      "source": [
        "\n",
        "\n",
        "data[\"age\"]=data[\"age\"].astype(\"int\")\n",
        "data[\"duration\"]=data[\"duration\"].astype(\"int\")\n",
        "data[\"pdays\"]=data[\"pdays\"].astype(\"int\")\n",
        "data[\"previous\"]=data[\"previous\"].astype(\"int\")\n",
        "data[\"campaign\"]=data[\"campaign\"].astype(\"int\")\n",
        "data_int=data.select_dtypes(include=['int','float64','bool'])\n",
        "#data_int\n",
        "bank_df=pd.concat([data_int,jobDummies,maritalDummies,educationDummies,defaultDummies,housingDummies,loanDummies\n",
        "                  ,contactDummies,poutcomeDummies,data['month'],data['day_of_week'],data['y']],axis=1)\n",
        "bank_df.head()\n",
        "\n"
      ],
      "execution_count": 0,
      "outputs": [
        {
          "output_type": "execute_result",
          "data": {
            "text/plain": [
              "   age  duration  campaign  pdays  previous  cons.price.idx  cons.conf.idx  \\\n",
              "0   56       261         1    999         0          93.994          -36.4   \n",
              "1   57       149         1    999         0          93.994          -36.4   \n",
              "2   37       226         1    999         0          93.994          -36.4   \n",
              "3   40       151         1    999         0          93.994          -36.4   \n",
              "4   56       307         1    999         0          93.994          -36.4   \n",
              "\n",
              "   euribor3m  job_admin.  job_blue-collar  ...  loan_unknown  loan_yes  \\\n",
              "0      4.857           0                0  ...             0         0   \n",
              "1      4.857           0                0  ...             0         0   \n",
              "2      4.857           0                0  ...             0         0   \n",
              "3      4.857           1                0  ...             0         0   \n",
              "4      4.857           0                0  ...             0         1   \n",
              "\n",
              "   contact_cellular  contact_telephone  poutcome_failure  \\\n",
              "0                 0                  1                 0   \n",
              "1                 0                  1                 0   \n",
              "2                 0                  1                 0   \n",
              "3                 0                  1                 0   \n",
              "4                 0                  1                 0   \n",
              "\n",
              "   poutcome_nonexistent  poutcome_success  month  day_of_week  y  \n",
              "0                     1                 0      6            1  0  \n",
              "1                     1                 0      6            1  0  \n",
              "2                     1                 0      6            1  0  \n",
              "3                     1                 0      6            1  0  \n",
              "4                     1                 0      6            1  0  \n",
              "\n",
              "[5 rows x 49 columns]"
            ],
            "text/html": [
              "<div>\n",
              "<style scoped>\n",
              "    .dataframe tbody tr th:only-of-type {\n",
              "        vertical-align: middle;\n",
              "    }\n",
              "\n",
              "    .dataframe tbody tr th {\n",
              "        vertical-align: top;\n",
              "    }\n",
              "\n",
              "    .dataframe thead th {\n",
              "        text-align: right;\n",
              "    }\n",
              "</style>\n",
              "<table border=\"1\" class=\"dataframe\">\n",
              "  <thead>\n",
              "    <tr style=\"text-align: right;\">\n",
              "      <th></th>\n",
              "      <th>age</th>\n",
              "      <th>duration</th>\n",
              "      <th>campaign</th>\n",
              "      <th>pdays</th>\n",
              "      <th>previous</th>\n",
              "      <th>cons.price.idx</th>\n",
              "      <th>cons.conf.idx</th>\n",
              "      <th>euribor3m</th>\n",
              "      <th>job_admin.</th>\n",
              "      <th>job_blue-collar</th>\n",
              "      <th>...</th>\n",
              "      <th>loan_unknown</th>\n",
              "      <th>loan_yes</th>\n",
              "      <th>contact_cellular</th>\n",
              "      <th>contact_telephone</th>\n",
              "      <th>poutcome_failure</th>\n",
              "      <th>poutcome_nonexistent</th>\n",
              "      <th>poutcome_success</th>\n",
              "      <th>month</th>\n",
              "      <th>day_of_week</th>\n",
              "      <th>y</th>\n",
              "    </tr>\n",
              "  </thead>\n",
              "  <tbody>\n",
              "    <tr>\n",
              "      <th>0</th>\n",
              "      <td>56</td>\n",
              "      <td>261</td>\n",
              "      <td>1</td>\n",
              "      <td>999</td>\n",
              "      <td>0</td>\n",
              "      <td>93.994</td>\n",
              "      <td>-36.4</td>\n",
              "      <td>4.857</td>\n",
              "      <td>0</td>\n",
              "      <td>0</td>\n",
              "      <td>...</td>\n",
              "      <td>0</td>\n",
              "      <td>0</td>\n",
              "      <td>0</td>\n",
              "      <td>1</td>\n",
              "      <td>0</td>\n",
              "      <td>1</td>\n",
              "      <td>0</td>\n",
              "      <td>6</td>\n",
              "      <td>1</td>\n",
              "      <td>0</td>\n",
              "    </tr>\n",
              "    <tr>\n",
              "      <th>1</th>\n",
              "      <td>57</td>\n",
              "      <td>149</td>\n",
              "      <td>1</td>\n",
              "      <td>999</td>\n",
              "      <td>0</td>\n",
              "      <td>93.994</td>\n",
              "      <td>-36.4</td>\n",
              "      <td>4.857</td>\n",
              "      <td>0</td>\n",
              "      <td>0</td>\n",
              "      <td>...</td>\n",
              "      <td>0</td>\n",
              "      <td>0</td>\n",
              "      <td>0</td>\n",
              "      <td>1</td>\n",
              "      <td>0</td>\n",
              "      <td>1</td>\n",
              "      <td>0</td>\n",
              "      <td>6</td>\n",
              "      <td>1</td>\n",
              "      <td>0</td>\n",
              "    </tr>\n",
              "    <tr>\n",
              "      <th>2</th>\n",
              "      <td>37</td>\n",
              "      <td>226</td>\n",
              "      <td>1</td>\n",
              "      <td>999</td>\n",
              "      <td>0</td>\n",
              "      <td>93.994</td>\n",
              "      <td>-36.4</td>\n",
              "      <td>4.857</td>\n",
              "      <td>0</td>\n",
              "      <td>0</td>\n",
              "      <td>...</td>\n",
              "      <td>0</td>\n",
              "      <td>0</td>\n",
              "      <td>0</td>\n",
              "      <td>1</td>\n",
              "      <td>0</td>\n",
              "      <td>1</td>\n",
              "      <td>0</td>\n",
              "      <td>6</td>\n",
              "      <td>1</td>\n",
              "      <td>0</td>\n",
              "    </tr>\n",
              "    <tr>\n",
              "      <th>3</th>\n",
              "      <td>40</td>\n",
              "      <td>151</td>\n",
              "      <td>1</td>\n",
              "      <td>999</td>\n",
              "      <td>0</td>\n",
              "      <td>93.994</td>\n",
              "      <td>-36.4</td>\n",
              "      <td>4.857</td>\n",
              "      <td>1</td>\n",
              "      <td>0</td>\n",
              "      <td>...</td>\n",
              "      <td>0</td>\n",
              "      <td>0</td>\n",
              "      <td>0</td>\n",
              "      <td>1</td>\n",
              "      <td>0</td>\n",
              "      <td>1</td>\n",
              "      <td>0</td>\n",
              "      <td>6</td>\n",
              "      <td>1</td>\n",
              "      <td>0</td>\n",
              "    </tr>\n",
              "    <tr>\n",
              "      <th>4</th>\n",
              "      <td>56</td>\n",
              "      <td>307</td>\n",
              "      <td>1</td>\n",
              "      <td>999</td>\n",
              "      <td>0</td>\n",
              "      <td>93.994</td>\n",
              "      <td>-36.4</td>\n",
              "      <td>4.857</td>\n",
              "      <td>0</td>\n",
              "      <td>0</td>\n",
              "      <td>...</td>\n",
              "      <td>0</td>\n",
              "      <td>1</td>\n",
              "      <td>0</td>\n",
              "      <td>1</td>\n",
              "      <td>0</td>\n",
              "      <td>1</td>\n",
              "      <td>0</td>\n",
              "      <td>6</td>\n",
              "      <td>1</td>\n",
              "      <td>0</td>\n",
              "    </tr>\n",
              "  </tbody>\n",
              "</table>\n",
              "<p>5 rows × 49 columns</p>\n",
              "</div>"
            ]
          },
          "metadata": {
            "tags": []
          },
          "execution_count": 6
        }
      ]
    },
    {
      "cell_type": "code",
      "metadata": {
        "trusted": true,
        "id": "J-i3qzaPl2-L",
        "colab_type": "code",
        "colab": {},
        "outputId": "dbc62ac6-e657-4243-d49d-04276261285e"
      },
      "source": [
        "\n",
        "\n",
        "#checking variable distribution\n",
        "print(len(bank_df.columns))\n",
        "df_test = bank_df.iloc[:,0:25]\n",
        "for index in range(25):\n",
        "    df_test.iloc[:,index] = (df_test.iloc[:,index]-df_test.iloc[:,index].mean()) / df_test.iloc[:,index].std();\n",
        "df_test.hist(figsize= (14,16));\n",
        "\n"
      ],
      "execution_count": 0,
      "outputs": [
        {
          "output_type": "stream",
          "text": [
            "49\n"
          ],
          "name": "stdout"
        },
        {
          "output_type": "display_data",
          "data": {
            "text/plain": [
              "<Figure size 1008x1152 with 25 Axes>"
            ],
            "image/png": "[encoded data removed]"
          },
          "metadata": {
            "tags": []
          }
        }
      ]
    },
    {
      "cell_type": "code",
      "metadata": {
        "trusted": true,
        "id": "14ubUNncl2-P",
        "colab_type": "code",
        "colab": {},
        "outputId": "3c176bab-e8ce-4438-a3e1-f04a815ffa30"
      },
      "source": [
        "\n",
        "\n",
        "#Predictors count\n",
        "bank_df.groupby('y').size()\n",
        "\n"
      ],
      "execution_count": 0,
      "outputs": [
        {
          "output_type": "execute_result",
          "data": {
            "text/plain": [
              "y\n",
              "0    40216\n",
              "1     5091\n",
              "dtype: int64"
            ]
          },
          "metadata": {
            "tags": []
          },
          "execution_count": 8
        }
      ]
    },
    {
      "cell_type": "code",
      "metadata": {
        "trusted": true,
        "id": "yV4HIl-hl2-S",
        "colab_type": "code",
        "colab": {},
        "outputId": "f770a4d1-485d-4abf-8272-887fb49e2154"
      },
      "source": [
        "#Total features after one-hot-encoding\n",
        "features = bank_df.columns\n",
        "len(features)"
      ],
      "execution_count": 0,
      "outputs": [
        {
          "output_type": "execute_result",
          "data": {
            "text/plain": [
              "49"
            ]
          },
          "metadata": {
            "tags": []
          },
          "execution_count": 9
        }
      ]
    },
    {
      "cell_type": "code",
      "metadata": {
        "trusted": true,
        "id": "Ec-4zycbl2-V",
        "colab_type": "code",
        "colab": {}
      },
      "source": [
        "#Variables and Output\n",
        "y=np.array(bank_df[\"y\"])\n",
        "X=np.array(bank_df.iloc[:,0:48])"
      ],
      "execution_count": 0,
      "outputs": []
    },
    {
      "cell_type": "code",
      "metadata": {
        "trusted": true,
        "id": "6LEFw2_fl2-X",
        "colab_type": "code",
        "colab": {}
      },
      "source": [
        "sc = StandardScaler()\n",
        "X_scaled = sc.fit_transform(X)\n"
      ],
      "execution_count": 0,
      "outputs": []
    },
    {
      "cell_type": "markdown",
      "metadata": {
        "id": "y8HZHBa2l2-a",
        "colab_type": "text"
      },
      "source": [
        "# K-Means"
      ]
    },
    {
      "cell_type": "code",
      "metadata": {
        "trusted": true,
        "id": "3UetVuxpl2-b",
        "colab_type": "code",
        "colab": {}
      },
      "source": [
        "#kmeans\n",
        "wcss = []\n",
        "for i in range(1, 11):\n",
        "    kmeans = KMeans(n_clusters=i, init='k-means++', max_iter=300, n_init=10, random_state=0)\n",
        "    kmeans.fit(X)\n",
        "    wcss.append(kmeans.inertia_)"
      ],
      "execution_count": 0,
      "outputs": []
    },
    {
      "cell_type": "code",
      "metadata": {
        "trusted": true,
        "id": "VuzukQh_l2-e",
        "colab_type": "code",
        "colab": {},
        "outputId": "813b32fb-262a-420b-a75e-9db1e820f443"
      },
      "source": [
        "plt.plot(range(1, 11), wcss)\n",
        "plt.title('Elbow Method')\n",
        "plt.xlabel('Number of clusters')\n",
        "plt.ylabel('WCSS')\n",
        "plt.show()"
      ],
      "execution_count": 0,
      "outputs": [
        {
          "output_type": "display_data",
          "data": {
            "text/plain": [
              "<Figure size 432x288 with 1 Axes>"
            ],
            "image/png": "[encoded data removed]"
          },
          "metadata": {
            "tags": []
          }
        }
      ]
    },
    {
      "cell_type": "code",
      "metadata": {
        "trusted": true,
        "id": "BXzwBuFcl2-h",
        "colab_type": "code",
        "colab": {}
      },
      "source": [
        "#kmeans\n",
        "wcss = []\n",
        "for i in range(1, 21):\n",
        "    kmeans = KMeans(n_clusters=i, init='k-means++', max_iter=300, n_init=10, random_state=0)\n",
        "    kmeans.fit(X_scaled)\n",
        "    wcss.append(kmeans.inertia_)"
      ],
      "execution_count": 0,
      "outputs": []
    },
    {
      "cell_type": "code",
      "metadata": {
        "trusted": true,
        "id": "Av6RIJyEl2-j",
        "colab_type": "code",
        "colab": {},
        "outputId": "6a2afdf1-4c1b-440a-da82-8ef7e790f522"
      },
      "source": [
        "plt.plot(range(1, 21), wcss)\n",
        "plt.title('Elbow Method')\n",
        "plt.xlabel('Number of clusters')\n",
        "plt.ylabel('WCSS')\n",
        "plt.show()"
      ],
      "execution_count": 0,
      "outputs": [
        {
          "output_type": "display_data",
          "data": {
            "text/plain": [
              "<Figure size 432x288 with 1 Axes>"
            ],
            "image/png": "[encoded data removed]"
          },
          "metadata": {
            "tags": []
          }
        }
      ]
    },
    {
      "cell_type": "code",
      "metadata": {
        "trusted": true,
        "id": "FDN1laoxl2-m",
        "colab_type": "code",
        "colab": {},
        "outputId": "2e16071a-893c-42dd-c640-7e1b8253db65"
      },
      "source": [
        "kmeans = KMeans(n_clusters=2, init='k-means++', max_iter=300, n_init=10, random_state=0)\n",
        "pred_y = kmeans.fit_predict(X)\n",
        "\n",
        "\n",
        "bank_df['clusters1'] = pred_y\n",
        "\n",
        "bank_df.clusters1.unique()\n",
        "bank_df['clusters1'].value_counts()"
      ],
      "execution_count": 0,
      "outputs": [
        {
          "output_type": "execute_result",
          "data": {
            "text/plain": [
              "0    39679\n",
              "1     5628\n",
              "Name: clusters1, dtype: int64"
            ]
          },
          "metadata": {
            "tags": []
          },
          "execution_count": 16
        }
      ]
    },
    {
      "cell_type": "code",
      "metadata": {
        "trusted": true,
        "id": "4He39Ecol2-o",
        "colab_type": "code",
        "colab": {},
        "outputId": "78e9d43e-42b2-4782-932b-bdaa010b6dcf"
      },
      "source": [
        "matrix = confusion_matrix(y, bank_df['clusters1'])\n",
        "print(matrix)\n",
        "# accuracy: (tp + tn) / (p + n)\n",
        "accuracy = accuracy_score(y, bank_df['clusters1'])\n",
        "print('Accuracy: %f' % accuracy)\n",
        "#precision tp / (tp + fp)\n",
        "precision = precision_score(y, bank_df['clusters1'])\n",
        "print('Precision: %f' % precision)"
      ],
      "execution_count": 0,
      "outputs": [
        {
          "output_type": "stream",
          "text": [
            "[[36966  3250]\n",
            " [ 2713  2378]]\n",
            "Accuracy: 0.868387\n",
            "Precision: 0.422530\n"
          ],
          "name": "stdout"
        }
      ]
    },
    {
      "cell_type": "code",
      "metadata": {
        "trusted": true,
        "id": "D8VN459Pl2-s",
        "colab_type": "code",
        "colab": {},
        "outputId": "83b00837-42fc-404a-d7d5-5d81ed7eb13a"
      },
      "source": [
        "s = silhouette_score(X, kmeans.labels_)\n",
        "print('Silhouette Score:', s)"
      ],
      "execution_count": 0,
      "outputs": [
        {
          "output_type": "stream",
          "text": [
            "Silhouette Score: 0.6729937621796622\n"
          ],
          "name": "stdout"
        }
      ]
    },
    {
      "cell_type": "code",
      "metadata": {
        "trusted": true,
        "id": "G4rUO02Dl2-u",
        "colab_type": "code",
        "colab": {},
        "outputId": "00e9ea22-6c79-44b3-c4d4-ce8728e3b332"
      },
      "source": [
        "kmeans = KMeans(n_clusters=3, init='k-means++', max_iter=300, n_init=10, random_state=0)\n",
        "pred_y = kmeans.fit_predict(X)\n",
        "\n",
        "\n",
        "bank_df['clusters2'] = pred_y\n",
        "\n",
        "bank_df.clusters2.unique()\n",
        "bank_df['clusters2'].value_counts()"
      ],
      "execution_count": 0,
      "outputs": [
        {
          "output_type": "execute_result",
          "data": {
            "text/plain": [
              "0    38363\n",
              "1     5278\n",
              "2     1666\n",
              "Name: clusters2, dtype: int64"
            ]
          },
          "metadata": {
            "tags": []
          },
          "execution_count": 18
        }
      ]
    },
    {
      "cell_type": "code",
      "metadata": {
        "trusted": true,
        "id": "DcRh0Tnjl2-x",
        "colab_type": "code",
        "colab": {},
        "outputId": "8c7b4faf-2fb3-4499-f81b-cac8cb6659f1"
      },
      "source": [
        "s = silhouette_score(X, kmeans.labels_)\n",
        "print('Silhouette Score:', s)"
      ],
      "execution_count": 0,
      "outputs": [
        {
          "output_type": "stream",
          "text": [
            "Silhouette Score: 0.7323201381474364\n"
          ],
          "name": "stdout"
        }
      ]
    },
    {
      "cell_type": "markdown",
      "metadata": {
        "id": "gzMZ7arBl2-z",
        "colab_type": "text"
      },
      "source": [
        "# PCA"
      ]
    },
    {
      "cell_type": "code",
      "metadata": {
        "trusted": true,
        "id": "u-raDukel2-z",
        "colab_type": "code",
        "colab": {},
        "outputId": "441ed3e5-310f-42df-8b9d-26f5aebf703c"
      },
      "source": [
        "# Create a PCA instance: pca\n",
        "pca = PCA(n_components=14)\n",
        "principalComponents = pca.fit_transform(X)# Plot the explained variances\n",
        "features = range(pca.n_components_)\n",
        "plt.bar(features, pca.explained_variance_ratio_, color='black')\n",
        "plt.xlabel('PCA features')\n",
        "plt.ylabel('variance %')\n",
        "plt.xticks(features)\n",
        "print(pca.explained_variance_ratio_)\n",
        "# Save components to a DataFrame\n",
        "PCA_components = pd.DataFrame(principalComponents)"
      ],
      "execution_count": 0,
      "outputs": [
        {
          "output_type": "stream",
          "text": [
            "[6.56847580e-01 3.41670954e-01 1.06343975e-03 2.07113969e-04\n",
            " 7.51425802e-05 5.25227929e-05 2.56822419e-05 1.88938423e-05\n",
            " 4.79060387e-06 4.21212630e-06 3.48435933e-06 2.98854738e-06\n",
            " 2.71868267e-06 2.57999582e-06]\n"
          ],
          "name": "stdout"
        },
        {
          "output_type": "display_data",
          "data": {
            "text/plain": [
              "<Figure size 432x288 with 1 Axes>"
            ],
            "image/png": "[encoded data removed]"
          },
          "metadata": {
            "tags": []
          }
        }
      ]
    },
    {
      "cell_type": "code",
      "metadata": {
        "trusted": true,
        "id": "KSFwDQOol2-2",
        "colab_type": "code",
        "colab": {},
        "outputId": "67e626f5-b403-451c-919a-4f75c1a27077"
      },
      "source": [
        "plt.scatter(PCA_components[0], PCA_components[1], alpha=.1, color='black')\n",
        "plt.xlabel('PCA 1')\n",
        "plt.ylabel('PCA 2')"
      ],
      "execution_count": 0,
      "outputs": [
        {
          "output_type": "execute_result",
          "data": {
            "text/plain": [
              "Text(0, 0.5, 'PCA 2')"
            ]
          },
          "metadata": {
            "tags": []
          },
          "execution_count": 24
        },
        {
          "output_type": "display_data",
          "data": {
            "text/plain": [
              "<Figure size 432x288 with 1 Axes>"
            ],
            "image/png": "[encoded data removed]"
          },
          "metadata": {
            "tags": []
          }
        }
      ]
    },
    {
      "cell_type": "code",
      "metadata": {
        "trusted": true,
        "id": "RA16Uxx2l2-4",
        "colab_type": "code",
        "colab": {},
        "outputId": "293554a1-f59e-4bd2-b6bc-38e2079a2caa"
      },
      "source": [
        "ks = range(1, 11)\n",
        "inertias = []\n",
        "for k in ks:\n",
        "    # Create a KMeans instance with k clusters: model\n",
        "    model = KMeans(n_clusters=k)\n",
        "    \n",
        "    # Fit model to samples\n",
        "    model.fit(PCA_components.iloc[:,:2])\n",
        "    \n",
        "    # Append the inertia to the list of inertias\n",
        "    inertias.append(model.inertia_)\n",
        "    \n",
        "plt.plot(ks, inertias, '-o', color='black')\n",
        "plt.xlabel('number of clusters, k')\n",
        "plt.ylabel('inertia')\n",
        "plt.xticks(ks)\n",
        "plt.show()"
      ],
      "execution_count": 0,
      "outputs": [
        {
          "output_type": "display_data",
          "data": {
            "text/plain": [
              "<Figure size 432x288 with 1 Axes>"
            ],
            "image/png": "[encoded data removed]"
          },
          "metadata": {
            "tags": []
          }
        }
      ]
    },
    {
      "cell_type": "code",
      "metadata": {
        "trusted": true,
        "id": "hd6dbElol2-7",
        "colab_type": "code",
        "colab": {},
        "outputId": "48d012b0-85d2-4fb2-e86a-8037567d8105"
      },
      "source": [
        "PCA_components.iloc[:,:2]"
      ],
      "execution_count": 0,
      "outputs": [
        {
          "output_type": "execute_result",
          "data": {
            "text/plain": [
              "                0          1\n",
              "0        0.215547 -36.782440\n",
              "1     -111.496146 -28.752251\n",
              "2      -34.698006 -34.310547\n",
              "3     -109.504450 -28.928350\n",
              "4       46.097183 -40.079961\n",
              "...           ...        ...\n",
              "45302 -207.253570 -21.938576\n",
              "45303  -41.679321 -33.821248\n",
              "45304 -196.281413 -22.727219\n",
              "45305  266.528546 -55.920054\n",
              "45306  -85.565987 -30.669580\n",
              "\n",
              "[45307 rows x 2 columns]"
            ],
            "text/html": [
              "<div>\n",
              "<style scoped>\n",
              "    .dataframe tbody tr th:only-of-type {\n",
              "        vertical-align: middle;\n",
              "    }\n",
              "\n",
              "    .dataframe tbody tr th {\n",
              "        vertical-align: top;\n",
              "    }\n",
              "\n",
              "    .dataframe thead th {\n",
              "        text-align: right;\n",
              "    }\n",
              "</style>\n",
              "<table border=\"1\" class=\"dataframe\">\n",
              "  <thead>\n",
              "    <tr style=\"text-align: right;\">\n",
              "      <th></th>\n",
              "      <th>0</th>\n",
              "      <th>1</th>\n",
              "    </tr>\n",
              "  </thead>\n",
              "  <tbody>\n",
              "    <tr>\n",
              "      <th>0</th>\n",
              "      <td>0.215547</td>\n",
              "      <td>-36.782440</td>\n",
              "    </tr>\n",
              "    <tr>\n",
              "      <th>1</th>\n",
              "      <td>-111.496146</td>\n",
              "      <td>-28.752251</td>\n",
              "    </tr>\n",
              "    <tr>\n",
              "      <th>2</th>\n",
              "      <td>-34.698006</td>\n",
              "      <td>-34.310547</td>\n",
              "    </tr>\n",
              "    <tr>\n",
              "      <th>3</th>\n",
              "      <td>-109.504450</td>\n",
              "      <td>-28.928350</td>\n",
              "    </tr>\n",
              "    <tr>\n",
              "      <th>4</th>\n",
              "      <td>46.097183</td>\n",
              "      <td>-40.079961</td>\n",
              "    </tr>\n",
              "    <tr>\n",
              "      <th>...</th>\n",
              "      <td>...</td>\n",
              "      <td>...</td>\n",
              "    </tr>\n",
              "    <tr>\n",
              "      <th>45302</th>\n",
              "      <td>-207.253570</td>\n",
              "      <td>-21.938576</td>\n",
              "    </tr>\n",
              "    <tr>\n",
              "      <th>45303</th>\n",
              "      <td>-41.679321</td>\n",
              "      <td>-33.821248</td>\n",
              "    </tr>\n",
              "    <tr>\n",
              "      <th>45304</th>\n",
              "      <td>-196.281413</td>\n",
              "      <td>-22.727219</td>\n",
              "    </tr>\n",
              "    <tr>\n",
              "      <th>45305</th>\n",
              "      <td>266.528546</td>\n",
              "      <td>-55.920054</td>\n",
              "    </tr>\n",
              "    <tr>\n",
              "      <th>45306</th>\n",
              "      <td>-85.565987</td>\n",
              "      <td>-30.669580</td>\n",
              "    </tr>\n",
              "  </tbody>\n",
              "</table>\n",
              "<p>45307 rows × 2 columns</p>\n",
              "</div>"
            ]
          },
          "metadata": {
            "tags": []
          },
          "execution_count": 26
        }
      ]
    },
    {
      "cell_type": "code",
      "metadata": {
        "trusted": true,
        "id": "wEue5O--l2-9",
        "colab_type": "code",
        "colab": {},
        "outputId": "839e1b6c-3fc8-42db-ab1b-1dd92017bdd4"
      },
      "source": [
        "kmeans = KMeans(n_clusters=2, init='k-means++', max_iter=300, n_init=10, random_state=0)\n",
        "pred_y = kmeans.fit_predict(PCA_components.iloc[:,:2])\n",
        "\n",
        "bank_df['clusters_pca'] = pred_y\n",
        "\n",
        "\n",
        "bank_df.clusters_pca.unique()\n",
        "bank_df['clusters_pca'].value_counts()"
      ],
      "execution_count": 0,
      "outputs": [
        {
          "output_type": "execute_result",
          "data": {
            "text/plain": [
              "0    39679\n",
              "1     5628\n",
              "Name: clusters_pca, dtype: int64"
            ]
          },
          "metadata": {
            "tags": []
          },
          "execution_count": 27
        }
      ]
    },
    {
      "cell_type": "code",
      "metadata": {
        "trusted": true,
        "id": "w_CNh4WRl2_B",
        "colab_type": "code",
        "colab": {},
        "outputId": "c71fe9f8-3496-48d3-ed0d-a9e8d1f88578"
      },
      "source": [
        "s = silhouette_score(PCA_components.iloc[:,:2], kmeans.labels_)\n",
        "print('Silhouette Score:', s)"
      ],
      "execution_count": 0,
      "outputs": [
        {
          "output_type": "stream",
          "text": [
            "Silhouette Score: 0.6762420215476166\n"
          ],
          "name": "stdout"
        }
      ]
    },
    {
      "cell_type": "code",
      "metadata": {
        "trusted": true,
        "id": "32EZhG4Bl2_H",
        "colab_type": "code",
        "colab": {},
        "outputId": "a86ab655-b530-4ab6-e649-6f95251b3131"
      },
      "source": [
        "plt.subplots(figsize=(9,6))\n",
        "plt.scatter(x=PCA_components.iloc[:,0], y=PCA_components.iloc[:,1], \n",
        "            c=kmeans.labels_, cmap=plt.cm.Spectral);\n",
        "plt.xlabel('PCA1')\n",
        "plt.ylabel('PCA2')\n",
        "centers = kmeans.cluster_centers_\n",
        "plt.scatter(centers[:, 0], centers[:, 1], c='red', s=200, alpha=0.5)\n",
        "plt.title('KMeans - PCA')\n",
        "#plt.savefig('initial_clusters', bpi=150)"
      ],
      "execution_count": 0,
      "outputs": [
        {
          "output_type": "execute_result",
          "data": {
            "text/plain": [
              "Text(0.5, 1.0, 'KMeans - PCA')"
            ]
          },
          "metadata": {
            "tags": []
          },
          "execution_count": 29
        },
        {
          "output_type": "display_data",
          "data": {
            "text/plain": [
              "<Figure size 648x432 with 1 Axes>"
            ],
            "image/png": "[encoded data removed]"
          },
          "metadata": {
            "tags": []
          }
        }
      ]
    },
    {
      "cell_type": "code",
      "metadata": {
        "trusted": true,
        "id": "teczvvcdl2_J",
        "colab_type": "code",
        "colab": {},
        "outputId": "15b1f239-fad0-476a-bd98-c98f51260253"
      },
      "source": [
        "plt.scatter(PCA_components.iloc[:,0],PCA_components.iloc[:,1], c=kmeans.labels_, cmap='rainbow')\n",
        "\n"
      ],
      "execution_count": 0,
      "outputs": [
        {
          "output_type": "execute_result",
          "data": {
            "text/plain": [
              "<matplotlib.collections.PathCollection at 0x7fad1a52e710>"
            ]
          },
          "metadata": {
            "tags": []
          },
          "execution_count": 30
        },
        {
          "output_type": "display_data",
          "data": {
            "text/plain": [
              "<Figure size 432x288 with 1 Axes>"
            ],
            "image/png": "[encoded data removed]"
          },
          "metadata": {
            "tags": []
          }
        }
      ]
    },
    {
      "cell_type": "code",
      "metadata": {
        "trusted": true,
        "id": "NOd87hCxl2_M",
        "colab_type": "code",
        "colab": {},
        "outputId": "089bc447-4e1f-4560-8f81-5371dedf98ec"
      },
      "source": [
        "matrix = confusion_matrix(y, bank_df['clusters_pca'])\n",
        "print(matrix)\n",
        "# accuracy: (tp + tn) / (p + n)\n",
        "accuracy = accuracy_score(y, bank_df['clusters_pca'])\n",
        "print('Accuracy: %f' % accuracy)\n",
        "#precision tp / (tp + fp)\n",
        "precision = precision_score(y, bank_df['clusters_pca'])\n",
        "print('Precision: %f' % precision)"
      ],
      "execution_count": 0,
      "outputs": [
        {
          "output_type": "stream",
          "text": [
            "[[36966  3250]\n",
            " [ 2713  2378]]\n",
            "Accuracy: 0.868387\n",
            "Precision: 0.422530\n"
          ],
          "name": "stdout"
        }
      ]
    },
    {
      "cell_type": "markdown",
      "metadata": {
        "id": "rZX0BHG9l2_P",
        "colab_type": "text"
      },
      "source": [
        "# **Random Forest - Feature Selection**"
      ]
    },
    {
      "cell_type": "code",
      "metadata": {
        "trusted": true,
        "id": "GzYNHStml2_Q",
        "colab_type": "code",
        "colab": {}
      },
      "source": [
        "from sklearn.model_selection import train_test_split\n",
        "X_train,X_test,y_train,y_test = train_test_split(X,y,test_size=0.3,random_state=42)"
      ],
      "execution_count": 0,
      "outputs": []
    },
    {
      "cell_type": "code",
      "metadata": {
        "trusted": true,
        "id": "Rv1_UJCEl2_S",
        "colab_type": "code",
        "colab": {},
        "outputId": "0c2ecd02-3d86-496a-9787-1fa3d662dbfa"
      },
      "source": [
        "sel = SelectFromModel(RandomForestClassifier(n_estimators = 100))\n",
        "sel.fit(X_train, y_train)"
      ],
      "execution_count": 0,
      "outputs": [
        {
          "output_type": "execute_result",
          "data": {
            "text/plain": [
              "SelectFromModel(estimator=RandomForestClassifier(bootstrap=True, ccp_alpha=0.0,\n",
              "                                                 class_weight=None,\n",
              "                                                 criterion='gini',\n",
              "                                                 max_depth=None,\n",
              "                                                 max_features='auto',\n",
              "                                                 max_leaf_nodes=None,\n",
              "                                                 max_samples=None,\n",
              "                                                 min_impurity_decrease=0.0,\n",
              "                                                 min_impurity_split=None,\n",
              "                                                 min_samples_leaf=1,\n",
              "                                                 min_samples_split=2,\n",
              "                                                 min_weight_fraction_leaf=0.0,\n",
              "                                                 n_estimators=100, n_jobs=None,\n",
              "                                                 oob_score=False,\n",
              "                                                 random_state=None, verbose=0,\n",
              "                                                 warm_start=False),\n",
              "                max_features=None, norm_order=1, prefit=False, threshold=None)"
            ]
          },
          "metadata": {
            "tags": []
          },
          "execution_count": 32
        }
      ]
    },
    {
      "cell_type": "code",
      "metadata": {
        "trusted": true,
        "id": "k6CkLH9Jl2_V",
        "colab_type": "code",
        "colab": {},
        "outputId": "1ecb86ee-bb32-405a-8fc4-2598c781dd0f"
      },
      "source": [
        "boolvec=sel.get_support()\n",
        "boolvec.astype(bool)\n",
        "boolvec"
      ],
      "execution_count": 0,
      "outputs": [
        {
          "output_type": "execute_result",
          "data": {
            "text/plain": [
              "array([ True,  True,  True,  True, False,  True,  True,  True, False,\n",
              "       False, False, False, False, False, False, False, False, False,\n",
              "       False, False, False, False, False, False, False, False, False,\n",
              "       False, False, False, False, False, False, False, False, False,\n",
              "       False, False, False, False, False, False, False, False, False,\n",
              "        True,  True,  True])"
            ]
          },
          "metadata": {
            "tags": []
          },
          "execution_count": 33
        }
      ]
    },
    {
      "cell_type": "code",
      "metadata": {
        "trusted": true,
        "id": "5dyt_cA-l2_Z",
        "colab_type": "code",
        "colab": {},
        "outputId": "0f58e347-bb17-48a7-c145-9dc982d8922c"
      },
      "source": [
        "input_file=bank_df.iloc[:,0:48]\n",
        "#X_RF=input_file.loc[:, sel.get_support()]\n",
        "#input_file=sgemm_df.loc[:, sel.get_support()].head()\n",
        "selected_feat= input_file.columns[(sel.get_support())]\n",
        "#selected_feat = np.where(boolvec[:,None], X_train,X_train)\n",
        "len(selected_feat)"
      ],
      "execution_count": 0,
      "outputs": [
        {
          "output_type": "execute_result",
          "data": {
            "text/plain": [
              "10"
            ]
          },
          "metadata": {
            "tags": []
          },
          "execution_count": 34
        }
      ]
    },
    {
      "cell_type": "code",
      "metadata": {
        "trusted": true,
        "id": "SIFkUdpcl2_b",
        "colab_type": "code",
        "colab": {},
        "outputId": "b6755b23-8b86-4cbe-a79c-f8ffc5893f3b"
      },
      "source": [
        "print(selected_feat)\n",
        "#sgemm_df\n"
      ],
      "execution_count": 0,
      "outputs": [
        {
          "output_type": "stream",
          "text": [
            "Index(['age', 'duration', 'campaign', 'pdays', 'cons.price.idx',\n",
            "       'cons.conf.idx', 'euribor3m', 'poutcome_success', 'month',\n",
            "       'day_of_week'],\n",
            "      dtype='object')\n"
          ],
          "name": "stdout"
        }
      ]
    },
    {
      "cell_type": "code",
      "metadata": {
        "trusted": true,
        "id": "oMiiFgwfl2_e",
        "colab_type": "code",
        "colab": {}
      },
      "source": [
        "X_RF=input_file.loc[:, sel.get_support()]\n"
      ],
      "execution_count": 0,
      "outputs": []
    },
    {
      "cell_type": "code",
      "metadata": {
        "trusted": true,
        "id": "A3HI9rn2l2_h",
        "colab_type": "code",
        "colab": {},
        "outputId": "eb3e3886-5f74-4068-c1ea-3c4da42a296b"
      },
      "source": [
        "ks = range(1, 11)\n",
        "inertias = []\n",
        "for k in ks:\n",
        "    # Create a KMeans instance with k clusters: model\n",
        "    model = KMeans(n_clusters=k)\n",
        "    \n",
        "    # Fit model to samples\n",
        "    model.fit(X_RF)\n",
        "    \n",
        "    # Append the inertia to the list of inertias\n",
        "    inertias.append(model.inertia_)\n",
        "    \n",
        "plt.plot(ks, inertias, '-o', color='black')\n",
        "plt.xlabel('number of clusters, k')\n",
        "plt.ylabel('inertia')\n",
        "plt.xticks(ks)\n",
        "plt.show()"
      ],
      "execution_count": 0,
      "outputs": [
        {
          "output_type": "display_data",
          "data": {
            "text/plain": [
              "<Figure size 432x288 with 1 Axes>"
            ],
            "image/png": "[encoded data removed]"
          },
          "metadata": {
            "tags": []
          }
        }
      ]
    },
    {
      "cell_type": "code",
      "metadata": {
        "trusted": true,
        "id": "vlABu0Osl2_k",
        "colab_type": "code",
        "colab": {},
        "outputId": "7dbaabf1-c331-4840-cbdf-c629b249d240"
      },
      "source": [
        "kmeans = KMeans(n_clusters=2, init='k-means++', max_iter=300, n_init=10, random_state=0)\n",
        "pred_y = kmeans.fit_predict(X_RF)\n",
        "\n",
        "bank_df['clusters_rf'] = pred_y\n",
        "\n",
        "\n",
        "bank_df.clusters_rf.unique()\n",
        "bank_df['clusters_rf'].value_counts()"
      ],
      "execution_count": 0,
      "outputs": [
        {
          "output_type": "execute_result",
          "data": {
            "text/plain": [
              "0    39679\n",
              "1     5628\n",
              "Name: clusters_rf, dtype: int64"
            ]
          },
          "metadata": {
            "tags": []
          },
          "execution_count": 38
        }
      ]
    },
    {
      "cell_type": "code",
      "metadata": {
        "trusted": true,
        "id": "Cri50vnul2_n",
        "colab_type": "code",
        "colab": {},
        "outputId": "473c8d89-d985-45cd-d1ee-1909941363a6"
      },
      "source": [
        "s = silhouette_score(X_RF, kmeans.labels_)\n",
        "print('Silhouette Score:', s)"
      ],
      "execution_count": 0,
      "outputs": [
        {
          "output_type": "stream",
          "text": [
            "Silhouette Score: 0.6730846681712902\n"
          ],
          "name": "stdout"
        }
      ]
    },
    {
      "cell_type": "code",
      "metadata": {
        "trusted": true,
        "id": "U3mnrTvKl2_p",
        "colab_type": "code",
        "colab": {},
        "outputId": "bab93a69-8dbc-4dd8-cc4d-67e0e216f263"
      },
      "source": [
        "matrix = confusion_matrix(y, bank_df['clusters_rf'])\n",
        "print(matrix)\n",
        "# accuracy: (tp + tn) / (p + n)\n",
        "accuracy = accuracy_score(y, bank_df['clusters_rf'])\n",
        "print('Accuracy: %f' % accuracy)\n",
        "#precision tp / (tp + fp)\n",
        "precision = precision_score(y, bank_df['clusters_rf'])\n",
        "print('Precision: %f' % precision)"
      ],
      "execution_count": 0,
      "outputs": [
        {
          "output_type": "stream",
          "text": [
            "[[36966  3250]\n",
            " [ 2713  2378]]\n",
            "Accuracy: 0.868387\n",
            "Precision: 0.422530\n"
          ],
          "name": "stdout"
        }
      ]
    },
    {
      "cell_type": "code",
      "metadata": {
        "trusted": true,
        "id": "YuUy6BjBl2_v",
        "colab_type": "code",
        "colab": {}
      },
      "source": [
        ""
      ],
      "execution_count": 0,
      "outputs": []
    },
    {
      "cell_type": "markdown",
      "metadata": {
        "id": "inum98k2l2_z",
        "colab_type": "text"
      },
      "source": [
        "# ICA"
      ]
    },
    {
      "cell_type": "code",
      "metadata": {
        "trusted": true,
        "id": "YM-007vSl2_z",
        "colab_type": "code",
        "colab": {}
      },
      "source": [
        "ICA = FastICA(n_components=2, random_state=42) \n",
        "X_ica=ICA.fit_transform(X)\n"
      ],
      "execution_count": 0,
      "outputs": []
    },
    {
      "cell_type": "code",
      "metadata": {
        "trusted": true,
        "id": "JHAaW9Jql2_1",
        "colab_type": "code",
        "colab": {},
        "outputId": "da0a623e-7f40-4b43-e5a4-1a767fb34820"
      },
      "source": [
        "## K-Means Clustering Algorithm using ICA\n",
        "kmeans = KMeans(n_clusters=2, init='k-means++', max_iter=300, n_init=10, random_state=0)\n",
        "pred_y = kmeans.fit_predict(X_ica)\n",
        "\n",
        "bank_df['clusters_ica'] = pred_y        \n",
        "#print(correct/len(X_ica))\n",
        "#yp=kmeans.predict(ica_X_train)\n",
        "plt.scatter(X_ica[:, 0], X_ica[:, 1], c=pred_y, s=50, cmap='viridis')\n",
        "centers = kmeans.cluster_centers_\n",
        "plt.scatter(centers[:, 0], centers[:, 1], c='red', s=200, alpha=0.5)\n",
        "plt.title('KMeans - ICA')"
      ],
      "execution_count": 0,
      "outputs": [
        {
          "output_type": "execute_result",
          "data": {
            "text/plain": [
              "Text(0.5, 1.0, 'KMeans - ICA')"
            ]
          },
          "metadata": {
            "tags": []
          },
          "execution_count": 57
        },
        {
          "output_type": "display_data",
          "data": {
            "text/plain": [
              "<Figure size 432x288 with 1 Axes>"
            ],
            "image/png": "[encoded data removed]"
          },
          "metadata": {
            "tags": [],
            "needs_background": "light"
          }
        }
      ]
    },
    {
      "cell_type": "code",
      "metadata": {
        "trusted": true,
        "id": "qWPyBMhMl2_4",
        "colab_type": "code",
        "colab": {},
        "outputId": "9077d5f8-b122-4433-b185-251a668d85bb"
      },
      "source": [
        "s = silhouette_score(X_ica, kmeans.labels_)\n",
        "print('Silhouette Score:', s)"
      ],
      "execution_count": 0,
      "outputs": [
        {
          "output_type": "stream",
          "text": [
            "Silhouette Score: 0.8378181918856107\n"
          ],
          "name": "stdout"
        }
      ]
    },
    {
      "cell_type": "code",
      "metadata": {
        "trusted": true,
        "id": "KPzTLeS-l2_6",
        "colab_type": "code",
        "colab": {},
        "outputId": "99e21f0b-6f22-44df-d58f-9650b79a127a"
      },
      "source": [
        "bank_df['clusters_ica'].value_counts()"
      ],
      "execution_count": 0,
      "outputs": [
        {
          "output_type": "execute_result",
          "data": {
            "text/plain": [
              "0    43632\n",
              "1     1675\n",
              "Name: clusters_ica, dtype: int64"
            ]
          },
          "metadata": {
            "tags": []
          },
          "execution_count": 59
        }
      ]
    },
    {
      "cell_type": "code",
      "metadata": {
        "trusted": true,
        "id": "BkmPLgxUl2_9",
        "colab_type": "code",
        "colab": {},
        "outputId": "e2a4a226-2b33-4a5c-ba22-ad95717ef744"
      },
      "source": [
        "# confusion matrix\n",
        "\n",
        "matrix = confusion_matrix(y, bank_df['clusters_ica'])\n",
        "print(matrix)"
      ],
      "execution_count": 0,
      "outputs": [
        {
          "output_type": "stream",
          "text": [
            "[[39608   608]\n",
            " [ 4024  1067]]\n"
          ],
          "name": "stdout"
        }
      ]
    },
    {
      "cell_type": "code",
      "metadata": {
        "trusted": true,
        "id": "hIpcy4VRl3AB",
        "colab_type": "code",
        "colab": {},
        "outputId": "dce9f6f5-5e81-4146-925e-1ad6ca1ded70"
      },
      "source": [
        "\n",
        "\n",
        "# accuracy: (tp + tn) / (p + n)\n",
        "accuracy = accuracy_score(y, bank_df['clusters_ica'])\n",
        "print('Accuracy: %f' % accuracy)\n",
        "#precision tp / (tp + fp)\n",
        "precision = precision_score(y, bank_df['clusters_ica'])\n",
        "print('Precision: %f' % precision)"
      ],
      "execution_count": 0,
      "outputs": [
        {
          "output_type": "stream",
          "text": [
            "Accuracy: 0.897764\n",
            "Precision: 0.637015\n"
          ],
          "name": "stdout"
        }
      ]
    },
    {
      "cell_type": "markdown",
      "metadata": {
        "id": "-fxJHs_nl3AF",
        "colab_type": "text"
      },
      "source": [
        "# RCA"
      ]
    },
    {
      "cell_type": "code",
      "metadata": {
        "trusted": true,
        "id": "nWIRrXScl3AF",
        "colab_type": "code",
        "colab": {}
      },
      "source": [
        "rca = GaussianRandomProjection(n_components=2, eps=0.1, random_state=42)\n",
        "X_rca=rca.fit_transform(X)\n"
      ],
      "execution_count": 0,
      "outputs": []
    },
    {
      "cell_type": "code",
      "metadata": {
        "trusted": true,
        "id": "keHOHE9Nl3AJ",
        "colab_type": "code",
        "colab": {},
        "outputId": "09eb100a-fe3a-4992-d603-dd373bf7a981"
      },
      "source": [
        "## K-Means Clustering Algorithm using RCA\n",
        "kmeans = KMeans(n_clusters=2, init='k-means++', max_iter=300, n_init=10, random_state=0)\n",
        "pred_y = kmeans.fit_predict(X_rca)\n",
        "\n",
        "bank_df['clusters_rca'] = pred_y        \n",
        "#print(correct/len(X_ica))\n",
        "#yp=kmeans.predict(ica_X_train)\n",
        "plt.scatter(X_rca[:, 0], X_rca[:, 1], c=pred_y, s=50, cmap='viridis')\n",
        "centers = kmeans.cluster_centers_\n",
        "plt.scatter(centers[:, 0], centers[:, 1], c='red', s=200, alpha=0.5)\n",
        "plt.title('KMeans - RCA')"
      ],
      "execution_count": 0,
      "outputs": [
        {
          "output_type": "execute_result",
          "data": {
            "text/plain": [
              "Text(0.5, 1.0, 'KMeans - RCA')"
            ]
          },
          "metadata": {
            "tags": []
          },
          "execution_count": 66
        },
        {
          "output_type": "display_data",
          "data": {
            "text/plain": [
              "<Figure size 432x288 with 1 Axes>"
            ],
            "image/png": "[encoded data removed]"
          },
          "metadata": {
            "tags": [],
            "needs_background": "light"
          }
        }
      ]
    },
    {
      "cell_type": "code",
      "metadata": {
        "trusted": true,
        "id": "nc8_sZQkl3AL",
        "colab_type": "code",
        "colab": {},
        "outputId": "d34a7b37-b91b-4220-ca3f-093f20566eb4"
      },
      "source": [
        "s = silhouette_score(X_rca, kmeans.labels_)\n",
        "print('Silhouette Score:', s)"
      ],
      "execution_count": 0,
      "outputs": [
        {
          "output_type": "stream",
          "text": [
            "Silhouette Score: 0.6739651580579746\n"
          ],
          "name": "stdout"
        }
      ]
    },
    {
      "cell_type": "code",
      "metadata": {
        "trusted": true,
        "id": "tW8T2rbsl3AO",
        "colab_type": "code",
        "colab": {},
        "outputId": "99b8c661-afcc-4319-c933-9d4c9765f5c6"
      },
      "source": [
        "\n",
        "# accuracy: (tp + tn) / (p + n)\n",
        "accuracy = accuracy_score(y, bank_df['clusters_rca'])\n",
        "print('Accuracy: %f' % accuracy)\n",
        "#precision tp / (tp + fp)\n",
        "precision = precision_score(y, bank_df['clusters_rca'])\n",
        "print('Precision: %f' % precision)"
      ],
      "execution_count": 0,
      "outputs": [
        {
          "output_type": "stream",
          "text": [
            "Accuracy: 0.136977\n",
            "Precision: 0.070776\n"
          ],
          "name": "stdout"
        }
      ]
    }
  ]
}