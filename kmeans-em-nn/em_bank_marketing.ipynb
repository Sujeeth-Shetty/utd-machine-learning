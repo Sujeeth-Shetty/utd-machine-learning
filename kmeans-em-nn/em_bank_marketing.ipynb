{
  "nbformat": 4,
  "nbformat_minor": 0,
  "metadata": {
    "kernelspec": {
      "language": "python",
      "display_name": "Python 3",
      "name": "python3"
    },
    "language_info": {
      "pygments_lexer": "ipython3",
      "nbconvert_exporter": "python",
      "version": "3.6.4",
      "file_extension": ".py",
      "codemirror_mode": {
        "name": "ipython",
        "version": 3
      },
      "name": "python",
      "mimetype": "text/x-python"
    },
    "colab": {
      "name": "em-bank-marketing.ipynb",
      "provenance": [],
      "collapsed_sections": [
        "8Dnxuj3pmCRt",
        "ubpCTGlpmCR_",
        "1S7rWweDmCSY",
        "rs0H8MYMmCSo"
      ]
    }
  },
  "cells": [
    {
      "cell_type": "code",
      "metadata": {
        "_uuid": "8f2839f25d086af736a60e9eeb907d3b93b6e0e5",
        "_cell_guid": "b1076dfc-b9ad-4769-8c92-a6c4dae69d19",
        "trusted": true,
        "id": "ltc8_zTUmCQs",
        "colab_type": "code",
        "colab": {}
      },
      "source": [
        "from sklearn.decomposition import PCA\n",
        "from sklearn.mixture import GaussianMixture\n",
        "from sklearn.preprocessing import MinMaxScaler, OneHotEncoder, StandardScaler\n",
        "from sklearn.decomposition import FastICA\n",
        "#from sklearn.random_projection import SparseRandomProjection\n",
        "from sklearn.ensemble.forest import RandomForestClassifier\n",
        "from sklearn.feature_selection import SelectFromModel\n",
        "from sklearn.metrics import silhouette_score\n",
        "from sklearn.random_projection import GaussianRandomProjection\n",
        "from keras.models import Sequential\n",
        "from keras.layers import Dense\n",
        "from keras.utils import to_categorical\n",
        "from sklearn.metrics import classification_report, confusion_matrix\n",
        "from sklearn.metrics import roc_curve,roc_auc_score, precision_score, recall_score,f1_score\n",
        "from sklearn.metrics import make_scorer, accuracy_score\n",
        "import time\n",
        "\n",
        "import pandas as pd\n",
        "import numpy as np\n",
        "import seaborn as sns\n",
        "import matplotlib.pyplot as plt\n",
        "\n",
        "\n",
        "%matplotlib inline"
      ],
      "execution_count": 0,
      "outputs": []
    },
    {
      "cell_type": "code",
      "metadata": {
        "_uuid": "d629ff2d2480ee46fbb7e2d37f6b5fab8052498a",
        "_cell_guid": "79c7e3d0-c299-4dcb-8224-4455121ee9b0",
        "trusted": true,
        "id": "k9Zjr7hmmCQw",
        "colab_type": "code",
        "colab": {},
        "outputId": "e847e1ad-9e46-4ae0-acf7-4df6d5305831"
      },
      "source": [
        "data_1=pd.read_csv(\"/kaggle/input/bankpromotion/bank-additional-full.csv\",sep=\";\")\n",
        "data_2=pd.read_csv(\"/kaggle/input/bankpromotion/bank-additional.csv\",sep=\";\")\n",
        "data=pd.concat([data_1,data_2],axis=0)\n",
        "data.head()"
      ],
      "execution_count": 0,
      "outputs": [
        {
          "output_type": "execute_result",
          "data": {
            "text/plain": [
              "   age        job  marital    education  default housing loan    contact  \\\n",
              "0   56  housemaid  married     basic.4y       no      no   no  telephone   \n",
              "1   57   services  married  high.school  unknown      no   no  telephone   \n",
              "2   37   services  married  high.school       no     yes   no  telephone   \n",
              "3   40     admin.  married     basic.6y       no      no   no  telephone   \n",
              "4   56   services  married  high.school       no      no  yes  telephone   \n",
              "\n",
              "  month day_of_week  ...  campaign  pdays  previous     poutcome emp.var.rate  \\\n",
              "0   may         mon  ...         1    999         0  nonexistent          1.1   \n",
              "1   may         mon  ...         1    999         0  nonexistent          1.1   \n",
              "2   may         mon  ...         1    999         0  nonexistent          1.1   \n",
              "3   may         mon  ...         1    999         0  nonexistent          1.1   \n",
              "4   may         mon  ...         1    999         0  nonexistent          1.1   \n",
              "\n",
              "   cons.price.idx  cons.conf.idx  euribor3m  nr.employed   y  \n",
              "0          93.994          -36.4      4.857       5191.0  no  \n",
              "1          93.994          -36.4      4.857       5191.0  no  \n",
              "2          93.994          -36.4      4.857       5191.0  no  \n",
              "3          93.994          -36.4      4.857       5191.0  no  \n",
              "4          93.994          -36.4      4.857       5191.0  no  \n",
              "\n",
              "[5 rows x 21 columns]"
            ],
            "text/html": [
              "<div>\n",
              "<style scoped>\n",
              "    .dataframe tbody tr th:only-of-type {\n",
              "        vertical-align: middle;\n",
              "    }\n",
              "\n",
              "    .dataframe tbody tr th {\n",
              "        vertical-align: top;\n",
              "    }\n",
              "\n",
              "    .dataframe thead th {\n",
              "        text-align: right;\n",
              "    }\n",
              "</style>\n",
              "<table border=\"1\" class=\"dataframe\">\n",
              "  <thead>\n",
              "    <tr style=\"text-align: right;\">\n",
              "      <th></th>\n",
              "      <th>age</th>\n",
              "      <th>job</th>\n",
              "      <th>marital</th>\n",
              "      <th>education</th>\n",
              "      <th>default</th>\n",
              "      <th>housing</th>\n",
              "      <th>loan</th>\n",
              "      <th>contact</th>\n",
              "      <th>month</th>\n",
              "      <th>day_of_week</th>\n",
              "      <th>...</th>\n",
              "      <th>campaign</th>\n",
              "      <th>pdays</th>\n",
              "      <th>previous</th>\n",
              "      <th>poutcome</th>\n",
              "      <th>emp.var.rate</th>\n",
              "      <th>cons.price.idx</th>\n",
              "      <th>cons.conf.idx</th>\n",
              "      <th>euribor3m</th>\n",
              "      <th>nr.employed</th>\n",
              "      <th>y</th>\n",
              "    </tr>\n",
              "  </thead>\n",
              "  <tbody>\n",
              "    <tr>\n",
              "      <th>0</th>\n",
              "      <td>56</td>\n",
              "      <td>housemaid</td>\n",
              "      <td>married</td>\n",
              "      <td>basic.4y</td>\n",
              "      <td>no</td>\n",
              "      <td>no</td>\n",
              "      <td>no</td>\n",
              "      <td>telephone</td>\n",
              "      <td>may</td>\n",
              "      <td>mon</td>\n",
              "      <td>...</td>\n",
              "      <td>1</td>\n",
              "      <td>999</td>\n",
              "      <td>0</td>\n",
              "      <td>nonexistent</td>\n",
              "      <td>1.1</td>\n",
              "      <td>93.994</td>\n",
              "      <td>-36.4</td>\n",
              "      <td>4.857</td>\n",
              "      <td>5191.0</td>\n",
              "      <td>no</td>\n",
              "    </tr>\n",
              "    <tr>\n",
              "      <th>1</th>\n",
              "      <td>57</td>\n",
              "      <td>services</td>\n",
              "      <td>married</td>\n",
              "      <td>high.school</td>\n",
              "      <td>unknown</td>\n",
              "      <td>no</td>\n",
              "      <td>no</td>\n",
              "      <td>telephone</td>\n",
              "      <td>may</td>\n",
              "      <td>mon</td>\n",
              "      <td>...</td>\n",
              "      <td>1</td>\n",
              "      <td>999</td>\n",
              "      <td>0</td>\n",
              "      <td>nonexistent</td>\n",
              "      <td>1.1</td>\n",
              "      <td>93.994</td>\n",
              "      <td>-36.4</td>\n",
              "      <td>4.857</td>\n",
              "      <td>5191.0</td>\n",
              "      <td>no</td>\n",
              "    </tr>\n",
              "    <tr>\n",
              "      <th>2</th>\n",
              "      <td>37</td>\n",
              "      <td>services</td>\n",
              "      <td>married</td>\n",
              "      <td>high.school</td>\n",
              "      <td>no</td>\n",
              "      <td>yes</td>\n",
              "      <td>no</td>\n",
              "      <td>telephone</td>\n",
              "      <td>may</td>\n",
              "      <td>mon</td>\n",
              "      <td>...</td>\n",
              "      <td>1</td>\n",
              "      <td>999</td>\n",
              "      <td>0</td>\n",
              "      <td>nonexistent</td>\n",
              "      <td>1.1</td>\n",
              "      <td>93.994</td>\n",
              "      <td>-36.4</td>\n",
              "      <td>4.857</td>\n",
              "      <td>5191.0</td>\n",
              "      <td>no</td>\n",
              "    </tr>\n",
              "    <tr>\n",
              "      <th>3</th>\n",
              "      <td>40</td>\n",
              "      <td>admin.</td>\n",
              "      <td>married</td>\n",
              "      <td>basic.6y</td>\n",
              "      <td>no</td>\n",
              "      <td>no</td>\n",
              "      <td>no</td>\n",
              "      <td>telephone</td>\n",
              "      <td>may</td>\n",
              "      <td>mon</td>\n",
              "      <td>...</td>\n",
              "      <td>1</td>\n",
              "      <td>999</td>\n",
              "      <td>0</td>\n",
              "      <td>nonexistent</td>\n",
              "      <td>1.1</td>\n",
              "      <td>93.994</td>\n",
              "      <td>-36.4</td>\n",
              "      <td>4.857</td>\n",
              "      <td>5191.0</td>\n",
              "      <td>no</td>\n",
              "    </tr>\n",
              "    <tr>\n",
              "      <th>4</th>\n",
              "      <td>56</td>\n",
              "      <td>services</td>\n",
              "      <td>married</td>\n",
              "      <td>high.school</td>\n",
              "      <td>no</td>\n",
              "      <td>no</td>\n",
              "      <td>yes</td>\n",
              "      <td>telephone</td>\n",
              "      <td>may</td>\n",
              "      <td>mon</td>\n",
              "      <td>...</td>\n",
              "      <td>1</td>\n",
              "      <td>999</td>\n",
              "      <td>0</td>\n",
              "      <td>nonexistent</td>\n",
              "      <td>1.1</td>\n",
              "      <td>93.994</td>\n",
              "      <td>-36.4</td>\n",
              "      <td>4.857</td>\n",
              "      <td>5191.0</td>\n",
              "      <td>no</td>\n",
              "    </tr>\n",
              "  </tbody>\n",
              "</table>\n",
              "<p>5 rows × 21 columns</p>\n",
              "</div>"
            ]
          },
          "metadata": {
            "tags": []
          },
          "execution_count": 9
        }
      ]
    },
    {
      "cell_type": "code",
      "metadata": {
        "trusted": true,
        "id": "6GxJY6cImCQ0",
        "colab_type": "code",
        "colab": {},
        "outputId": "746db417-70d1-4854-b653-56deb18b6016"
      },
      "source": [
        "#Correlation Plot\n",
        "plt.figure(figsize=(14,14))\n",
        "sns.set(font_scale=1)\n",
        "sns.heatmap(data.corr(),cmap='GnBu_r',annot=True, square = True ,linewidths=.5);\n",
        "plt.title('Variable Correlation')"
      ],
      "execution_count": 0,
      "outputs": [
        {
          "output_type": "execute_result",
          "data": {
            "text/plain": [
              "Text(0.5, 1, 'Variable Correlation')"
            ]
          },
          "metadata": {
            "tags": []
          },
          "execution_count": 10
        },
        {
          "output_type": "display_data",
          "data": {
            "text/plain": [
              "<Figure size 1008x1008 with 2 Axes>"
            ],
            "image/png": "[encoded data removed]"
          },
          "metadata": {
            "tags": []
          }
        }
      ]
    },
    {
      "cell_type": "code",
      "metadata": {
        "trusted": true,
        "id": "a9gLDXhgmCQ3",
        "colab_type": "code",
        "colab": {},
        "outputId": "17c7244c-db9b-45f9-e542-244e11acc4d3"
      },
      "source": [
        "#To avoid mulicorinality drop the higly correltaed column\n",
        "data = data.drop([\"emp.var.rate\",\"nr.employed\"],axis=1)\n",
        "data.head()"
      ],
      "execution_count": 0,
      "outputs": [
        {
          "output_type": "execute_result",
          "data": {
            "text/plain": [
              "   age        job  marital    education  default housing loan    contact  \\\n",
              "0   56  housemaid  married     basic.4y       no      no   no  telephone   \n",
              "1   57   services  married  high.school  unknown      no   no  telephone   \n",
              "2   37   services  married  high.school       no     yes   no  telephone   \n",
              "3   40     admin.  married     basic.6y       no      no   no  telephone   \n",
              "4   56   services  married  high.school       no      no  yes  telephone   \n",
              "\n",
              "  month day_of_week  duration  campaign  pdays  previous     poutcome  \\\n",
              "0   may         mon       261         1    999         0  nonexistent   \n",
              "1   may         mon       149         1    999         0  nonexistent   \n",
              "2   may         mon       226         1    999         0  nonexistent   \n",
              "3   may         mon       151         1    999         0  nonexistent   \n",
              "4   may         mon       307         1    999         0  nonexistent   \n",
              "\n",
              "   cons.price.idx  cons.conf.idx  euribor3m   y  \n",
              "0          93.994          -36.4      4.857  no  \n",
              "1          93.994          -36.4      4.857  no  \n",
              "2          93.994          -36.4      4.857  no  \n",
              "3          93.994          -36.4      4.857  no  \n",
              "4          93.994          -36.4      4.857  no  "
            ],
            "text/html": [
              "<div>\n",
              "<style scoped>\n",
              "    .dataframe tbody tr th:only-of-type {\n",
              "        vertical-align: middle;\n",
              "    }\n",
              "\n",
              "    .dataframe tbody tr th {\n",
              "        vertical-align: top;\n",
              "    }\n",
              "\n",
              "    .dataframe thead th {\n",
              "        text-align: right;\n",
              "    }\n",
              "</style>\n",
              "<table border=\"1\" class=\"dataframe\">\n",
              "  <thead>\n",
              "    <tr style=\"text-align: right;\">\n",
              "      <th></th>\n",
              "      <th>age</th>\n",
              "      <th>job</th>\n",
              "      <th>marital</th>\n",
              "      <th>education</th>\n",
              "      <th>default</th>\n",
              "      <th>housing</th>\n",
              "      <th>loan</th>\n",
              "      <th>contact</th>\n",
              "      <th>month</th>\n",
              "      <th>day_of_week</th>\n",
              "      <th>duration</th>\n",
              "      <th>campaign</th>\n",
              "      <th>pdays</th>\n",
              "      <th>previous</th>\n",
              "      <th>poutcome</th>\n",
              "      <th>cons.price.idx</th>\n",
              "      <th>cons.conf.idx</th>\n",
              "      <th>euribor3m</th>\n",
              "      <th>y</th>\n",
              "    </tr>\n",
              "  </thead>\n",
              "  <tbody>\n",
              "    <tr>\n",
              "      <th>0</th>\n",
              "      <td>56</td>\n",
              "      <td>housemaid</td>\n",
              "      <td>married</td>\n",
              "      <td>basic.4y</td>\n",
              "      <td>no</td>\n",
              "      <td>no</td>\n",
              "      <td>no</td>\n",
              "      <td>telephone</td>\n",
              "      <td>may</td>\n",
              "      <td>mon</td>\n",
              "      <td>261</td>\n",
              "      <td>1</td>\n",
              "      <td>999</td>\n",
              "      <td>0</td>\n",
              "      <td>nonexistent</td>\n",
              "      <td>93.994</td>\n",
              "      <td>-36.4</td>\n",
              "      <td>4.857</td>\n",
              "      <td>no</td>\n",
              "    </tr>\n",
              "    <tr>\n",
              "      <th>1</th>\n",
              "      <td>57</td>\n",
              "      <td>services</td>\n",
              "      <td>married</td>\n",
              "      <td>high.school</td>\n",
              "      <td>unknown</td>\n",
              "      <td>no</td>\n",
              "      <td>no</td>\n",
              "      <td>telephone</td>\n",
              "      <td>may</td>\n",
              "      <td>mon</td>\n",
              "      <td>149</td>\n",
              "      <td>1</td>\n",
              "      <td>999</td>\n",
              "      <td>0</td>\n",
              "      <td>nonexistent</td>\n",
              "      <td>93.994</td>\n",
              "      <td>-36.4</td>\n",
              "      <td>4.857</td>\n",
              "      <td>no</td>\n",
              "    </tr>\n",
              "    <tr>\n",
              "      <th>2</th>\n",
              "      <td>37</td>\n",
              "      <td>services</td>\n",
              "      <td>married</td>\n",
              "      <td>high.school</td>\n",
              "      <td>no</td>\n",
              "      <td>yes</td>\n",
              "      <td>no</td>\n",
              "      <td>telephone</td>\n",
              "      <td>may</td>\n",
              "      <td>mon</td>\n",
              "      <td>226</td>\n",
              "      <td>1</td>\n",
              "      <td>999</td>\n",
              "      <td>0</td>\n",
              "      <td>nonexistent</td>\n",
              "      <td>93.994</td>\n",
              "      <td>-36.4</td>\n",
              "      <td>4.857</td>\n",
              "      <td>no</td>\n",
              "    </tr>\n",
              "    <tr>\n",
              "      <th>3</th>\n",
              "      <td>40</td>\n",
              "      <td>admin.</td>\n",
              "      <td>married</td>\n",
              "      <td>basic.6y</td>\n",
              "      <td>no</td>\n",
              "      <td>no</td>\n",
              "      <td>no</td>\n",
              "      <td>telephone</td>\n",
              "      <td>may</td>\n",
              "      <td>mon</td>\n",
              "      <td>151</td>\n",
              "      <td>1</td>\n",
              "      <td>999</td>\n",
              "      <td>0</td>\n",
              "      <td>nonexistent</td>\n",
              "      <td>93.994</td>\n",
              "      <td>-36.4</td>\n",
              "      <td>4.857</td>\n",
              "      <td>no</td>\n",
              "    </tr>\n",
              "    <tr>\n",
              "      <th>4</th>\n",
              "      <td>56</td>\n",
              "      <td>services</td>\n",
              "      <td>married</td>\n",
              "      <td>high.school</td>\n",
              "      <td>no</td>\n",
              "      <td>no</td>\n",
              "      <td>yes</td>\n",
              "      <td>telephone</td>\n",
              "      <td>may</td>\n",
              "      <td>mon</td>\n",
              "      <td>307</td>\n",
              "      <td>1</td>\n",
              "      <td>999</td>\n",
              "      <td>0</td>\n",
              "      <td>nonexistent</td>\n",
              "      <td>93.994</td>\n",
              "      <td>-36.4</td>\n",
              "      <td>4.857</td>\n",
              "      <td>no</td>\n",
              "    </tr>\n",
              "  </tbody>\n",
              "</table>\n",
              "</div>"
            ]
          },
          "metadata": {
            "tags": []
          },
          "execution_count": 11
        }
      ]
    },
    {
      "cell_type": "code",
      "metadata": {
        "trusted": true,
        "id": "Aomc_M25mCQ7",
        "colab_type": "code",
        "colab": {},
        "outputId": "dd5e548e-6d95-4ebf-d195-5ba5b62e5f4b"
      },
      "source": [
        "\n",
        "\n",
        "#label encoding\n",
        "\n",
        "jobDummies = pd.get_dummies(data['job'], prefix = 'job')\n",
        "maritalDummies = pd.get_dummies(data['marital'], prefix = 'marital')\n",
        "educationDummies = pd.get_dummies(data['education'], prefix = 'education')\n",
        "defaultDummies = pd.get_dummies(data['default'], prefix = 'default')\n",
        "housingDummies = pd.get_dummies(data['housing'], prefix = 'housing')\n",
        "loanDummies = pd.get_dummies(data['loan'], prefix = 'loan')\n",
        "contactDummies = pd.get_dummies(data['contact'], prefix = 'contact')\n",
        "poutcomeDummies = pd.get_dummies(data['poutcome'], prefix = 'poutcome')\n",
        "data['month']=data['month'].astype('category')\n",
        "data['day_of_week']=data['day_of_week'].astype('category')\n",
        "data['y']=data['y'].astype('category')\n",
        "\n",
        "# Assigning numerical values and storing in another column\n",
        "data['month'] = data['month'].cat.codes\n",
        "data['day_of_week'] = data['day_of_week'].cat.codes\n",
        "data['y'] = data['y'].cat.codes\n",
        "\n",
        "data['y'].dtype\n",
        "\n"
      ],
      "execution_count": 0,
      "outputs": [
        {
          "output_type": "execute_result",
          "data": {
            "text/plain": [
              "dtype('int8')"
            ]
          },
          "metadata": {
            "tags": []
          },
          "execution_count": 12
        }
      ]
    },
    {
      "cell_type": "code",
      "metadata": {
        "trusted": true,
        "id": "rJG9eyvymCQ-",
        "colab_type": "code",
        "colab": {},
        "outputId": "f1a9b2b7-1a59-4bea-f236-15cdbd72cedf"
      },
      "source": [
        "data[\"age\"]=data[\"age\"].astype(\"int\")\n",
        "data[\"duration\"]=data[\"duration\"].astype(\"int\")\n",
        "data[\"pdays\"]=data[\"pdays\"].astype(\"int\")\n",
        "data[\"previous\"]=data[\"previous\"].astype(\"int\")\n",
        "data[\"campaign\"]=data[\"campaign\"].astype(\"int\")\n",
        "data_int=data.select_dtypes(include=['int','float64','bool'])\n",
        "#data_int\n",
        "bank_df=pd.concat([data_int,jobDummies,maritalDummies,educationDummies,defaultDummies,housingDummies,loanDummies\n",
        "                  ,contactDummies,poutcomeDummies,data['month'],data['day_of_week'],data['y']],axis=1)\n",
        "bank_df.head()"
      ],
      "execution_count": 0,
      "outputs": [
        {
          "output_type": "execute_result",
          "data": {
            "text/plain": [
              "   age  duration  campaign  pdays  previous  cons.price.idx  cons.conf.idx  \\\n",
              "0   56       261         1    999         0          93.994          -36.4   \n",
              "1   57       149         1    999         0          93.994          -36.4   \n",
              "2   37       226         1    999         0          93.994          -36.4   \n",
              "3   40       151         1    999         0          93.994          -36.4   \n",
              "4   56       307         1    999         0          93.994          -36.4   \n",
              "\n",
              "   euribor3m  job_admin.  job_blue-collar  ...  loan_unknown  loan_yes  \\\n",
              "0      4.857           0                0  ...             0         0   \n",
              "1      4.857           0                0  ...             0         0   \n",
              "2      4.857           0                0  ...             0         0   \n",
              "3      4.857           1                0  ...             0         0   \n",
              "4      4.857           0                0  ...             0         1   \n",
              "\n",
              "   contact_cellular  contact_telephone  poutcome_failure  \\\n",
              "0                 0                  1                 0   \n",
              "1                 0                  1                 0   \n",
              "2                 0                  1                 0   \n",
              "3                 0                  1                 0   \n",
              "4                 0                  1                 0   \n",
              "\n",
              "   poutcome_nonexistent  poutcome_success  month  day_of_week  y  \n",
              "0                     1                 0      6            1  0  \n",
              "1                     1                 0      6            1  0  \n",
              "2                     1                 0      6            1  0  \n",
              "3                     1                 0      6            1  0  \n",
              "4                     1                 0      6            1  0  \n",
              "\n",
              "[5 rows x 49 columns]"
            ],
            "text/html": [
              "<div>\n",
              "<style scoped>\n",
              "    .dataframe tbody tr th:only-of-type {\n",
              "        vertical-align: middle;\n",
              "    }\n",
              "\n",
              "    .dataframe tbody tr th {\n",
              "        vertical-align: top;\n",
              "    }\n",
              "\n",
              "    .dataframe thead th {\n",
              "        text-align: right;\n",
              "    }\n",
              "</style>\n",
              "<table border=\"1\" class=\"dataframe\">\n",
              "  <thead>\n",
              "    <tr style=\"text-align: right;\">\n",
              "      <th></th>\n",
              "      <th>age</th>\n",
              "      <th>duration</th>\n",
              "      <th>campaign</th>\n",
              "      <th>pdays</th>\n",
              "      <th>previous</th>\n",
              "      <th>cons.price.idx</th>\n",
              "      <th>cons.conf.idx</th>\n",
              "      <th>euribor3m</th>\n",
              "      <th>job_admin.</th>\n",
              "      <th>job_blue-collar</th>\n",
              "      <th>...</th>\n",
              "      <th>loan_unknown</th>\n",
              "      <th>loan_yes</th>\n",
              "      <th>contact_cellular</th>\n",
              "      <th>contact_telephone</th>\n",
              "      <th>poutcome_failure</th>\n",
              "      <th>poutcome_nonexistent</th>\n",
              "      <th>poutcome_success</th>\n",
              "      <th>month</th>\n",
              "      <th>day_of_week</th>\n",
              "      <th>y</th>\n",
              "    </tr>\n",
              "  </thead>\n",
              "  <tbody>\n",
              "    <tr>\n",
              "      <th>0</th>\n",
              "      <td>56</td>\n",
              "      <td>261</td>\n",
              "      <td>1</td>\n",
              "      <td>999</td>\n",
              "      <td>0</td>\n",
              "      <td>93.994</td>\n",
              "      <td>-36.4</td>\n",
              "      <td>4.857</td>\n",
              "      <td>0</td>\n",
              "      <td>0</td>\n",
              "      <td>...</td>\n",
              "      <td>0</td>\n",
              "      <td>0</td>\n",
              "      <td>0</td>\n",
              "      <td>1</td>\n",
              "      <td>0</td>\n",
              "      <td>1</td>\n",
              "      <td>0</td>\n",
              "      <td>6</td>\n",
              "      <td>1</td>\n",
              "      <td>0</td>\n",
              "    </tr>\n",
              "    <tr>\n",
              "      <th>1</th>\n",
              "      <td>57</td>\n",
              "      <td>149</td>\n",
              "      <td>1</td>\n",
              "      <td>999</td>\n",
              "      <td>0</td>\n",
              "      <td>93.994</td>\n",
              "      <td>-36.4</td>\n",
              "      <td>4.857</td>\n",
              "      <td>0</td>\n",
              "      <td>0</td>\n",
              "      <td>...</td>\n",
              "      <td>0</td>\n",
              "      <td>0</td>\n",
              "      <td>0</td>\n",
              "      <td>1</td>\n",
              "      <td>0</td>\n",
              "      <td>1</td>\n",
              "      <td>0</td>\n",
              "      <td>6</td>\n",
              "      <td>1</td>\n",
              "      <td>0</td>\n",
              "    </tr>\n",
              "    <tr>\n",
              "      <th>2</th>\n",
              "      <td>37</td>\n",
              "      <td>226</td>\n",
              "      <td>1</td>\n",
              "      <td>999</td>\n",
              "      <td>0</td>\n",
              "      <td>93.994</td>\n",
              "      <td>-36.4</td>\n",
              "      <td>4.857</td>\n",
              "      <td>0</td>\n",
              "      <td>0</td>\n",
              "      <td>...</td>\n",
              "      <td>0</td>\n",
              "      <td>0</td>\n",
              "      <td>0</td>\n",
              "      <td>1</td>\n",
              "      <td>0</td>\n",
              "      <td>1</td>\n",
              "      <td>0</td>\n",
              "      <td>6</td>\n",
              "      <td>1</td>\n",
              "      <td>0</td>\n",
              "    </tr>\n",
              "    <tr>\n",
              "      <th>3</th>\n",
              "      <td>40</td>\n",
              "      <td>151</td>\n",
              "      <td>1</td>\n",
              "      <td>999</td>\n",
              "      <td>0</td>\n",
              "      <td>93.994</td>\n",
              "      <td>-36.4</td>\n",
              "      <td>4.857</td>\n",
              "      <td>1</td>\n",
              "      <td>0</td>\n",
              "      <td>...</td>\n",
              "      <td>0</td>\n",
              "      <td>0</td>\n",
              "      <td>0</td>\n",
              "      <td>1</td>\n",
              "      <td>0</td>\n",
              "      <td>1</td>\n",
              "      <td>0</td>\n",
              "      <td>6</td>\n",
              "      <td>1</td>\n",
              "      <td>0</td>\n",
              "    </tr>\n",
              "    <tr>\n",
              "      <th>4</th>\n",
              "      <td>56</td>\n",
              "      <td>307</td>\n",
              "      <td>1</td>\n",
              "      <td>999</td>\n",
              "      <td>0</td>\n",
              "      <td>93.994</td>\n",
              "      <td>-36.4</td>\n",
              "      <td>4.857</td>\n",
              "      <td>0</td>\n",
              "      <td>0</td>\n",
              "      <td>...</td>\n",
              "      <td>0</td>\n",
              "      <td>1</td>\n",
              "      <td>0</td>\n",
              "      <td>1</td>\n",
              "      <td>0</td>\n",
              "      <td>1</td>\n",
              "      <td>0</td>\n",
              "      <td>6</td>\n",
              "      <td>1</td>\n",
              "      <td>0</td>\n",
              "    </tr>\n",
              "  </tbody>\n",
              "</table>\n",
              "<p>5 rows × 49 columns</p>\n",
              "</div>"
            ]
          },
          "metadata": {
            "tags": []
          },
          "execution_count": 13
        }
      ]
    },
    {
      "cell_type": "code",
      "metadata": {
        "trusted": true,
        "id": "iFIeQdw6mCRA",
        "colab_type": "code",
        "colab": {},
        "outputId": "7c9354fa-8b10-4c45-c065-7dab358087ac"
      },
      "source": [
        "#Total features after one-hot-encoding\n",
        "features = bank_df.columns\n",
        "len(features)"
      ],
      "execution_count": 0,
      "outputs": [
        {
          "output_type": "execute_result",
          "data": {
            "text/plain": [
              "49"
            ]
          },
          "metadata": {
            "tags": []
          },
          "execution_count": 14
        }
      ]
    },
    {
      "cell_type": "code",
      "metadata": {
        "trusted": true,
        "id": "L6NxTwxUmCRG",
        "colab_type": "code",
        "colab": {}
      },
      "source": [
        "\n",
        "\n",
        "#Variables and Output\n",
        "y=np.array(bank_df[\"y\"])\n",
        "X=np.array(bank_df.iloc[:,0:48])\n",
        "\n"
      ],
      "execution_count": 0,
      "outputs": []
    },
    {
      "cell_type": "markdown",
      "metadata": {
        "id": "JIjCyy71mCRM",
        "colab_type": "text"
      },
      "source": [
        "# EM - Identify Clusters"
      ]
    },
    {
      "cell_type": "code",
      "metadata": {
        "trusted": true,
        "id": "JaI415TCmCRN",
        "colab_type": "code",
        "colab": {}
      },
      "source": [
        "def SelBest(arr:list, X:int)->list:\n",
        "    '''\n",
        "    returns the set of X configurations with shorter distance\n",
        "    '''\n",
        "    dx=np.argsort(arr)[:X]\n",
        "    return arr[dx]"
      ],
      "execution_count": 0,
      "outputs": []
    },
    {
      "cell_type": "code",
      "metadata": {
        "trusted": true,
        "id": "306OX9NDmCRP",
        "colab_type": "code",
        "colab": {}
      },
      "source": [
        "n_clusters=np.arange(2, 20)\n",
        "sils=[]\n",
        "sils_err=[]\n",
        "iterations=20\n",
        "for n in n_clusters:\n",
        "    tmp_sil=[]\n",
        "    for _ in range(iterations):\n",
        "        gmm=GMM(n, n_init=2).fit(X) \n",
        "        labels=gmm.predict(X)\n",
        "        sil=silhouette_score(X, labels, metric='euclidean')\n",
        "        tmp_sil.append(sil)\n",
        "    val=np.mean(SelBest(np.array(tmp_sil), int(iterations/5)))\n",
        "    err=np.std(tmp_sil)\n",
        "    sils.append(val)\n",
        "    sils_err.append(err)"
      ],
      "execution_count": 0,
      "outputs": []
    },
    {
      "cell_type": "code",
      "metadata": {
        "trusted": true,
        "id": "8dDgotP3mCRS",
        "colab_type": "code",
        "colab": {}
      },
      "source": [
        "plt.errorbar(n_clusters, sils, yerr=sils_err)\n",
        "plt.title(\"Silhouette Scores\", fontsize=20)\n",
        "plt.xticks(n_clusters)\n",
        "plt.xlabel(\"N. of clusters\")\n",
        "plt.ylabel(\"Score\")"
      ],
      "execution_count": 0,
      "outputs": []
    },
    {
      "cell_type": "code",
      "metadata": {
        "trusted": true,
        "id": "gsvyyXXFmCRV",
        "colab_type": "code",
        "colab": {}
      },
      "source": [
        "n_clusters=np.arange(2, 20)\n",
        "bics=[]\n",
        "bics_err=[]\n",
        "iterations=20\n",
        "for n in n_clusters:\n",
        "    tmp_bic=[]\n",
        "    for _ in range(iterations):\n",
        "        gmm=GMM(n, n_init=2).fit(X) \n",
        "        \n",
        "        tmp_bic.append(gmm.bic(X))\n",
        "    val=np.mean(SelBest(np.array(tmp_bic), int(iterations/5)))\n",
        "    err=np.std(tmp_bic)\n",
        "    bics.append(val)\n",
        "    bics_err.append(err)"
      ],
      "execution_count": 0,
      "outputs": []
    },
    {
      "cell_type": "code",
      "metadata": {
        "trusted": true,
        "id": "AKCN8GjRmCRY",
        "colab_type": "code",
        "colab": {},
        "outputId": "f22c9dad-d508-4e95-e0f2-c64bec03b127"
      },
      "source": [
        "plt.errorbar(n_clusters,bics, yerr=bics_err, label='BIC')\n",
        "plt.title(\"BIC Scores\", fontsize=20)\n",
        "plt.xticks(n_clusters)\n",
        "plt.xlabel(\"N. of clusters\")\n",
        "plt.ylabel(\"Score\")\n",
        "plt.legend()"
      ],
      "execution_count": 0,
      "outputs": [
        {
          "output_type": "execute_result",
          "data": {
            "text/plain": [
              "<matplotlib.legend.Legend at 0x7fec392c9c50>"
            ]
          },
          "metadata": {
            "tags": []
          },
          "execution_count": 18
        },
        {
          "output_type": "display_data",
          "data": {
            "text/plain": [
              "<Figure size 432x288 with 1 Axes>"
            ],
            "image/png": "[encoded data removed]"
          },
          "metadata": {
            "tags": []
          }
        }
      ]
    },
    {
      "cell_type": "code",
      "metadata": {
        "trusted": true,
        "id": "6YKCvVY0mCRd",
        "colab_type": "code",
        "colab": {},
        "outputId": "f82d6732-aab9-48a2-e223-3e538faec2ee"
      },
      "source": [
        "\n",
        "plt.errorbar(n_clusters, np.gradient(bics), yerr=bics_err, label='BIC')\n",
        "plt.title(\"Gradient of BIC Scores\", fontsize=20)\n",
        "plt.xticks(n_clusters)\n",
        "plt.xlabel(\"N. of clusters\")\n",
        "plt.ylabel(\"grad(BIC)\")\n",
        "plt.legend()"
      ],
      "execution_count": 0,
      "outputs": [
        {
          "output_type": "execute_result",
          "data": {
            "text/plain": [
              "<matplotlib.legend.Legend at 0x7fec39254650>"
            ]
          },
          "metadata": {
            "tags": []
          },
          "execution_count": 19
        },
        {
          "output_type": "display_data",
          "data": {
            "text/plain": [
              "<Figure size 432x288 with 1 Axes>"
            ],
            "image/png": "[encoded data removed]"
          },
          "metadata": {
            "tags": []
          }
        }
      ]
    },
    {
      "cell_type": "code",
      "metadata": {
        "trusted": true,
        "id": "nkOtZxFDmCRg",
        "colab_type": "code",
        "colab": {}
      },
      "source": [
        "\n",
        "# fit model\n",
        "model = GaussianMixture(n_components=2,covariance_type='tied',random_state=42)\n",
        "model.fit(X)\n",
        "# predict latent values\n",
        "yhat = model.predict(X)\n"
      ],
      "execution_count": 0,
      "outputs": []
    },
    {
      "cell_type": "code",
      "metadata": {
        "trusted": true,
        "id": "ektuJ_nTmCRj",
        "colab_type": "code",
        "colab": {},
        "outputId": "01fee4c2-96a9-452c-9b3f-22191442a6bd"
      },
      "source": [
        "s = silhouette_score(X, yhat)\n",
        "print('Silhouette Score:', s)"
      ],
      "execution_count": 0,
      "outputs": [
        {
          "output_type": "stream",
          "text": [
            "Silhouette Score: 0.714372980384508\n"
          ],
          "name": "stdout"
        }
      ]
    },
    {
      "cell_type": "code",
      "metadata": {
        "trusted": true,
        "id": "gbXQV2j3mCRm",
        "colab_type": "code",
        "colab": {}
      },
      "source": [
        "\n",
        "# fit model\n",
        "model = GaussianMixture(n_components=3,covariance_type='tied',random_state=42)\n",
        "model.fit(X)\n",
        "# predict latent values\n",
        "yhat = model.predict(X)"
      ],
      "execution_count": 0,
      "outputs": []
    },
    {
      "cell_type": "code",
      "metadata": {
        "trusted": true,
        "id": "3UG7v0GkmCRq",
        "colab_type": "code",
        "colab": {},
        "outputId": "164676d2-188e-4291-aff7-96550ef83bb4"
      },
      "source": [
        "s = silhouette_score(X, yhat)\n",
        "print('Silhouette Score:', s)"
      ],
      "execution_count": 0,
      "outputs": [
        {
          "output_type": "stream",
          "text": [
            "Silhouette Score: 0.7651916716622669\n"
          ],
          "name": "stdout"
        }
      ]
    },
    {
      "cell_type": "markdown",
      "metadata": {
        "id": "8Dnxuj3pmCRt",
        "colab_type": "text"
      },
      "source": [
        "# PCA - EM"
      ]
    },
    {
      "cell_type": "code",
      "metadata": {
        "trusted": true,
        "id": "4CfmEtkemCRt",
        "colab_type": "code",
        "colab": {},
        "outputId": "5c623c0a-44ff-413a-e494-66d180499690"
      },
      "source": [
        "# Create a PCA instance: pca\n",
        "pca = PCA(n_components=14)\n",
        "principalComponents = pca.fit_transform(X)# Plot the explained variances\n",
        "features = range(pca.n_components_)\n",
        "plt.bar(features, pca.explained_variance_ratio_, color='black')\n",
        "plt.xlabel('PCA features')\n",
        "plt.ylabel('variance %')\n",
        "plt.xticks(features)\n",
        "print(pca.explained_variance_ratio_)\n",
        "# Save components to a DataFrame\n",
        "PCA_components = pd.DataFrame(principalComponents)"
      ],
      "execution_count": 0,
      "outputs": [
        {
          "output_type": "stream",
          "text": [
            "[6.56847580e-01 3.41670954e-01 1.06343975e-03 2.07113969e-04\n",
            " 7.51425802e-05 5.25227929e-05 2.56822419e-05 1.88938423e-05\n",
            " 4.79060387e-06 4.21212631e-06 3.48435939e-06 2.98854638e-06\n",
            " 2.71867573e-06 2.57997050e-06]\n"
          ],
          "name": "stdout"
        },
        {
          "output_type": "display_data",
          "data": {
            "text/plain": [
              "<Figure size 432x288 with 1 Axes>"
            ],
            "image/png": "[encoded data removed]"
          },
          "metadata": {
            "tags": [],
            "needs_background": "light"
          }
        }
      ]
    },
    {
      "cell_type": "code",
      "metadata": {
        "trusted": true,
        "id": "guYMdWFVmCRx",
        "colab_type": "code",
        "colab": {},
        "outputId": "c5f08ee5-f03d-4294-ebc1-a19fe05f9987"
      },
      "source": [
        "plt.scatter(PCA_components[0], PCA_components[1], alpha=.1, color='black')\n",
        "plt.xlabel('PCA 1')\n",
        "plt.ylabel('PCA 2')"
      ],
      "execution_count": 0,
      "outputs": [
        {
          "output_type": "execute_result",
          "data": {
            "text/plain": [
              "Text(0, 0.5, 'PCA 2')"
            ]
          },
          "metadata": {
            "tags": []
          },
          "execution_count": 27
        },
        {
          "output_type": "display_data",
          "data": {
            "text/plain": [
              "<Figure size 432x288 with 1 Axes>"
            ],
            "image/png": "[encoded data removed]"
          },
          "metadata": {
            "tags": [],
            "needs_background": "light"
          }
        }
      ]
    },
    {
      "cell_type": "code",
      "metadata": {
        "trusted": true,
        "id": "k2cVtJzbmCRz",
        "colab_type": "code",
        "colab": {},
        "outputId": "07affd07-3137-42c0-dd9f-63f126b69852"
      },
      "source": [
        "PCA_components.iloc[:,:2]"
      ],
      "execution_count": 0,
      "outputs": [
        {
          "output_type": "execute_result",
          "data": {
            "text/plain": [
              "                0          1\n",
              "0        0.215547 -36.782440\n",
              "1     -111.496146 -28.752251\n",
              "2      -34.698006 -34.310547\n",
              "3     -109.504450 -28.928350\n",
              "4       46.097183 -40.079961\n",
              "...           ...        ...\n",
              "45302 -207.253570 -21.938576\n",
              "45303  -41.679321 -33.821248\n",
              "45304 -196.281413 -22.727219\n",
              "45305  266.528546 -55.920054\n",
              "45306  -85.565987 -30.669580\n",
              "\n",
              "[45307 rows x 2 columns]"
            ],
            "text/html": [
              "<div>\n",
              "<style scoped>\n",
              "    .dataframe tbody tr th:only-of-type {\n",
              "        vertical-align: middle;\n",
              "    }\n",
              "\n",
              "    .dataframe tbody tr th {\n",
              "        vertical-align: top;\n",
              "    }\n",
              "\n",
              "    .dataframe thead th {\n",
              "        text-align: right;\n",
              "    }\n",
              "</style>\n",
              "<table border=\"1\" class=\"dataframe\">\n",
              "  <thead>\n",
              "    <tr style=\"text-align: right;\">\n",
              "      <th></th>\n",
              "      <th>0</th>\n",
              "      <th>1</th>\n",
              "    </tr>\n",
              "  </thead>\n",
              "  <tbody>\n",
              "    <tr>\n",
              "      <th>0</th>\n",
              "      <td>0.215547</td>\n",
              "      <td>-36.782440</td>\n",
              "    </tr>\n",
              "    <tr>\n",
              "      <th>1</th>\n",
              "      <td>-111.496146</td>\n",
              "      <td>-28.752251</td>\n",
              "    </tr>\n",
              "    <tr>\n",
              "      <th>2</th>\n",
              "      <td>-34.698006</td>\n",
              "      <td>-34.310547</td>\n",
              "    </tr>\n",
              "    <tr>\n",
              "      <th>3</th>\n",
              "      <td>-109.504450</td>\n",
              "      <td>-28.928350</td>\n",
              "    </tr>\n",
              "    <tr>\n",
              "      <th>4</th>\n",
              "      <td>46.097183</td>\n",
              "      <td>-40.079961</td>\n",
              "    </tr>\n",
              "    <tr>\n",
              "      <th>...</th>\n",
              "      <td>...</td>\n",
              "      <td>...</td>\n",
              "    </tr>\n",
              "    <tr>\n",
              "      <th>45302</th>\n",
              "      <td>-207.253570</td>\n",
              "      <td>-21.938576</td>\n",
              "    </tr>\n",
              "    <tr>\n",
              "      <th>45303</th>\n",
              "      <td>-41.679321</td>\n",
              "      <td>-33.821248</td>\n",
              "    </tr>\n",
              "    <tr>\n",
              "      <th>45304</th>\n",
              "      <td>-196.281413</td>\n",
              "      <td>-22.727219</td>\n",
              "    </tr>\n",
              "    <tr>\n",
              "      <th>45305</th>\n",
              "      <td>266.528546</td>\n",
              "      <td>-55.920054</td>\n",
              "    </tr>\n",
              "    <tr>\n",
              "      <th>45306</th>\n",
              "      <td>-85.565987</td>\n",
              "      <td>-30.669580</td>\n",
              "    </tr>\n",
              "  </tbody>\n",
              "</table>\n",
              "<p>45307 rows × 2 columns</p>\n",
              "</div>"
            ]
          },
          "metadata": {
            "tags": []
          },
          "execution_count": 28
        }
      ]
    },
    {
      "cell_type": "code",
      "metadata": {
        "trusted": true,
        "id": "LI9NF2tOmCR2",
        "colab_type": "code",
        "colab": {}
      },
      "source": [
        "# fit model\n",
        "model = GaussianMixture(n_components=2,covariance_type='tied',random_state=42)\n",
        "model.fit(PCA_components.iloc[:,:2])\n",
        "# predict latent values\n",
        "yhat_pca = model.predict(PCA_components.iloc[:,:2])\n",
        "yhat_prob_pca=model.predict_proba(PCA_components.iloc[:,:2])"
      ],
      "execution_count": 0,
      "outputs": []
    },
    {
      "cell_type": "code",
      "metadata": {
        "trusted": true,
        "id": "Bp0uZvhEmCR4",
        "colab_type": "code",
        "colab": {},
        "outputId": "f4421e5b-02fd-47c6-f507-04e5fde23b6c"
      },
      "source": [
        "s = silhouette_score(PCA_components.iloc[:,:2], yhat_pca)\n",
        "print('Silhouette Score:', s)"
      ],
      "execution_count": 0,
      "outputs": [
        {
          "output_type": "stream",
          "text": [
            "Silhouette Score: 0.7174724027917543\n"
          ],
          "name": "stdout"
        }
      ]
    },
    {
      "cell_type": "code",
      "metadata": {
        "trusted": true,
        "id": "NpDJJ5rMmCR7",
        "colab_type": "code",
        "colab": {},
        "outputId": "864cd6d9-6430-4839-e3e5-8f9341b231ea"
      },
      "source": [
        "plt.scatter(PCA_components.iloc[:,0], PCA_components.iloc[:,1], c=yhat_pca, s=50, cmap='viridis')\n",
        "plt.title('EM - PCA')"
      ],
      "execution_count": 0,
      "outputs": [
        {
          "output_type": "execute_result",
          "data": {
            "text/plain": [
              "Text(0.5, 1.0, 'EM - PCA')"
            ]
          },
          "metadata": {
            "tags": []
          },
          "execution_count": 32
        },
        {
          "output_type": "display_data",
          "data": {
            "text/plain": [
              "<Figure size 432x288 with 1 Axes>"
            ],
            "image/png": "[encoded data removed]"
          },
          "metadata": {
            "tags": [],
            "needs_background": "light"
          }
        }
      ]
    },
    {
      "cell_type": "markdown",
      "metadata": {
        "id": "ubpCTGlpmCR_",
        "colab_type": "text"
      },
      "source": [
        "# Random Forest - EM"
      ]
    },
    {
      "cell_type": "code",
      "metadata": {
        "trusted": true,
        "id": "r3Co2XdGmCSA",
        "colab_type": "code",
        "colab": {}
      },
      "source": [
        "from sklearn.model_selection import train_test_split\n",
        "X_train,X_test,y_train,y_test = train_test_split(X,y,test_size=0.3,random_state=42)"
      ],
      "execution_count": 0,
      "outputs": []
    },
    {
      "cell_type": "code",
      "metadata": {
        "trusted": true,
        "id": "O4bDgADHmCSE",
        "colab_type": "code",
        "colab": {},
        "outputId": "da2cabb5-5880-4ef8-e3a1-6ec1cacee82c"
      },
      "source": [
        "sel = SelectFromModel(RandomForestClassifier(n_estimators = 100))\n",
        "sel.fit(X_train, y_train)"
      ],
      "execution_count": 0,
      "outputs": [
        {
          "output_type": "execute_result",
          "data": {
            "text/plain": [
              "SelectFromModel(estimator=RandomForestClassifier(bootstrap=True, ccp_alpha=0.0,\n",
              "                                                 class_weight=None,\n",
              "                                                 criterion='gini',\n",
              "                                                 max_depth=None,\n",
              "                                                 max_features='auto',\n",
              "                                                 max_leaf_nodes=None,\n",
              "                                                 max_samples=None,\n",
              "                                                 min_impurity_decrease=0.0,\n",
              "                                                 min_impurity_split=None,\n",
              "                                                 min_samples_leaf=1,\n",
              "                                                 min_samples_split=2,\n",
              "                                                 min_weight_fraction_leaf=0.0,\n",
              "                                                 n_estimators=100, n_jobs=None,\n",
              "                                                 oob_score=False,\n",
              "                                                 random_state=None, verbose=0,\n",
              "                                                 warm_start=False),\n",
              "                max_features=None, norm_order=1, prefit=False, threshold=None)"
            ]
          },
          "metadata": {
            "tags": []
          },
          "execution_count": 35
        }
      ]
    },
    {
      "cell_type": "code",
      "metadata": {
        "trusted": true,
        "id": "xqLgo2mQmCSH",
        "colab_type": "code",
        "colab": {},
        "outputId": "be41f4e5-c35a-43a8-ef70-61546c59ef13"
      },
      "source": [
        "boolvec=sel.get_support()\n",
        "boolvec.astype(bool)\n",
        "boolvec"
      ],
      "execution_count": 0,
      "outputs": [
        {
          "output_type": "execute_result",
          "data": {
            "text/plain": [
              "array([ True,  True,  True,  True, False,  True,  True,  True, False,\n",
              "       False, False, False, False, False, False, False, False, False,\n",
              "       False, False, False, False, False, False, False, False, False,\n",
              "       False, False, False, False, False, False, False, False, False,\n",
              "       False, False, False, False, False, False, False, False, False,\n",
              "        True,  True,  True])"
            ]
          },
          "metadata": {
            "tags": []
          },
          "execution_count": 36
        }
      ]
    },
    {
      "cell_type": "code",
      "metadata": {
        "trusted": true,
        "id": "xHxOa6N9mCSK",
        "colab_type": "code",
        "colab": {},
        "outputId": "b883e4be-4575-4753-a01e-2810ec4ea725"
      },
      "source": [
        "input_file=bank_df.iloc[:,0:48]\n",
        "#X_RF=input_file.loc[:, sel.get_support()]\n",
        "#input_file=sgemm_df.loc[:, sel.get_support()].head()\n",
        "selected_feat= input_file.columns[(sel.get_support())]\n",
        "#selected_feat = np.where(boolvec[:,None], X_train,X_train)\n",
        "len(selected_feat)"
      ],
      "execution_count": 0,
      "outputs": [
        {
          "output_type": "execute_result",
          "data": {
            "text/plain": [
              "10"
            ]
          },
          "metadata": {
            "tags": []
          },
          "execution_count": 38
        }
      ]
    },
    {
      "cell_type": "code",
      "metadata": {
        "trusted": true,
        "id": "qC-f4KAgmCSO",
        "colab_type": "code",
        "colab": {},
        "outputId": "8bf1a540-ecf6-4bd5-e939-9256ff9432af"
      },
      "source": [
        "print(selected_feat)\n",
        "#sgemm_df"
      ],
      "execution_count": 0,
      "outputs": [
        {
          "output_type": "stream",
          "text": [
            "Index(['age', 'duration', 'campaign', 'pdays', 'cons.price.idx',\n",
            "       'cons.conf.idx', 'euribor3m', 'poutcome_success', 'month',\n",
            "       'day_of_week'],\n",
            "      dtype='object')\n"
          ],
          "name": "stdout"
        }
      ]
    },
    {
      "cell_type": "code",
      "metadata": {
        "trusted": true,
        "id": "HAFYf9sMmCSR",
        "colab_type": "code",
        "colab": {}
      },
      "source": [
        "X_RF=input_file.loc[:, sel.get_support()]"
      ],
      "execution_count": 0,
      "outputs": []
    },
    {
      "cell_type": "code",
      "metadata": {
        "trusted": true,
        "id": "iTozvSesmCST",
        "colab_type": "code",
        "colab": {}
      },
      "source": [
        "# fit model\n",
        "model = GaussianMixture(n_components=2,covariance_type='tied',random_state=42)\n",
        "model.fit(X_RF)\n",
        "# predict latent values\n",
        "yhat_rf = model.predict(X_RF)\n",
        "yhat_prob_rf = model.predict(X_RF)"
      ],
      "execution_count": 0,
      "outputs": []
    },
    {
      "cell_type": "code",
      "metadata": {
        "trusted": true,
        "id": "Lts4ZkF7mCSV",
        "colab_type": "code",
        "colab": {},
        "outputId": "a7b2fc7c-54f1-4141-9bfd-ff3163a7c51b"
      },
      "source": [
        "#labels=gmm.predict(X)\n",
        "sil=silhouette_score(X_RF, yhat_rf, metric='euclidean')\n",
        "print('Silhouette Score:', s)"
      ],
      "execution_count": 0,
      "outputs": [
        {
          "output_type": "stream",
          "text": [
            "Silhouette Score: 0.7174724027917543\n"
          ],
          "name": "stdout"
        }
      ]
    },
    {
      "cell_type": "markdown",
      "metadata": {
        "id": "1S7rWweDmCSY",
        "colab_type": "text"
      },
      "source": [
        "# RCA"
      ]
    },
    {
      "cell_type": "code",
      "metadata": {
        "trusted": true,
        "id": "wARJnaaWmCSY",
        "colab_type": "code",
        "colab": {}
      },
      "source": [
        "rca = GaussianRandomProjection(n_components=2, eps=0.1, random_state=42)\n",
        "X_rca=rca.fit_transform(X)"
      ],
      "execution_count": 0,
      "outputs": []
    },
    {
      "cell_type": "code",
      "metadata": {
        "trusted": true,
        "id": "xqh9CV7UmCSa",
        "colab_type": "code",
        "colab": {}
      },
      "source": [
        "# fit model\n",
        "model = GaussianMixture(n_components=2,covariance_type='tied',random_state=42)\n",
        "model.fit(X_rca)\n",
        "# predict latent values\n",
        "yhat_rca = model.predict(X_rca)\n",
        "yhat_prob_rca = model.predict(X_rca)"
      ],
      "execution_count": 0,
      "outputs": []
    },
    {
      "cell_type": "code",
      "metadata": {
        "trusted": true,
        "id": "xIFP1cFCmCSe",
        "colab_type": "code",
        "colab": {},
        "outputId": "3465eb1c-ffc5-4ba7-ca70-0e5aa1fd5b9e"
      },
      "source": [
        "#labels=gmm.predict(X)\n",
        "sil=silhouette_score(X_rca, yhat_rca, metric='euclidean')\n",
        "print('Silhouette Score:', s)"
      ],
      "execution_count": 0,
      "outputs": [
        {
          "output_type": "stream",
          "text": [
            "Silhouette Score: 0.7174724027917543\n"
          ],
          "name": "stdout"
        }
      ]
    },
    {
      "cell_type": "code",
      "metadata": {
        "trusted": true,
        "id": "_ArydT8MmCSi",
        "colab_type": "code",
        "colab": {},
        "outputId": "1e76d677-d241-4820-d0a9-8041d1c09554"
      },
      "source": [
        "plt.scatter(X_rca[:, 0], X_rca[:, 1], c=yhat_rca, s=50, cmap='viridis')\n",
        "plt.title('EM - RCA')"
      ],
      "execution_count": 0,
      "outputs": [
        {
          "output_type": "execute_result",
          "data": {
            "text/plain": [
              "Text(0.5, 1.0, 'EM - RCA')"
            ]
          },
          "metadata": {
            "tags": []
          },
          "execution_count": 46
        },
        {
          "output_type": "display_data",
          "data": {
            "text/plain": [
              "<Figure size 432x288 with 1 Axes>"
            ],
            "image/png": "[encoded data removed]"
          },
          "metadata": {
            "tags": [],
            "needs_background": "light"
          }
        }
      ]
    },
    {
      "cell_type": "markdown",
      "metadata": {
        "id": "rs0H8MYMmCSo",
        "colab_type": "text"
      },
      "source": [
        "# ICA"
      ]
    },
    {
      "cell_type": "code",
      "metadata": {
        "trusted": true,
        "id": "21a2nP-_mCSp",
        "colab_type": "code",
        "colab": {}
      },
      "source": [
        "ICA = FastICA(n_components=2, random_state=42) \n",
        "X_ica=ICA.fit_transform(X)"
      ],
      "execution_count": 0,
      "outputs": []
    },
    {
      "cell_type": "code",
      "metadata": {
        "trusted": true,
        "id": "vhA4IEwCmCSr",
        "colab_type": "code",
        "colab": {}
      },
      "source": [
        "# fit model\n",
        "model = GaussianMixture(n_components=2,covariance_type='tied',random_state=42)\n",
        "model.fit(X_ica)\n",
        "# predict latent values\n",
        "yhat_ica = model.predict(X_ica)\n",
        "yhat_prob_ica = model.predict(X_ica)"
      ],
      "execution_count": 0,
      "outputs": []
    },
    {
      "cell_type": "code",
      "metadata": {
        "trusted": true,
        "id": "tY2Agdo_mCSv",
        "colab_type": "code",
        "colab": {},
        "outputId": "8f1b4f8d-64c9-4511-aaa9-0a246b835a32"
      },
      "source": [
        "#labels=gmm.predict(X)\n",
        "sil=silhouette_score(X_rca, yhat_ica, metric='euclidean')\n",
        "print('Silhouette Score:', s)"
      ],
      "execution_count": 0,
      "outputs": [
        {
          "output_type": "stream",
          "text": [
            "Silhouette Score: 0.7174724027917543\n"
          ],
          "name": "stdout"
        }
      ]
    },
    {
      "cell_type": "code",
      "metadata": {
        "trusted": true,
        "id": "PjeafCj-mCS0",
        "colab_type": "code",
        "colab": {},
        "outputId": "da986fae-98dd-4276-dca5-2d17c6a3cba7"
      },
      "source": [
        "plt.scatter(X_ica[:, 0], X_ica[:, 1], c=yhat_ica, s=50, cmap='viridis')\n",
        "plt.title('EM - ICA')"
      ],
      "execution_count": 0,
      "outputs": [
        {
          "output_type": "execute_result",
          "data": {
            "text/plain": [
              "Text(0.5, 1.0, 'EM - ICA')"
            ]
          },
          "metadata": {
            "tags": []
          },
          "execution_count": 50
        },
        {
          "output_type": "display_data",
          "data": {
            "text/plain": [
              "<Figure size 432x288 with 1 Axes>"
            ],
            "image/png": "[encoded data removed]"
          },
          "metadata": {
            "tags": [],
            "needs_background": "light"
          }
        }
      ]
    },
    {
      "cell_type": "markdown",
      "metadata": {
        "id": "BeWJfXpHmCS4",
        "colab_type": "text"
      },
      "source": [
        "# Neural Network on Cluster Output"
      ]
    },
    {
      "cell_type": "code",
      "metadata": {
        "trusted": true,
        "id": "lu4wh7dCmCS4",
        "colab_type": "code",
        "colab": {},
        "outputId": "14d878b6-1950-4b6b-e55f-640f6c474236"
      },
      "source": [
        "from keras.models import Sequential\n",
        "from keras.layers import Dense\n",
        "from keras.utils import to_categorical\n",
        "from sklearn.metrics import classification_report, confusion_matrix\n",
        "from sklearn.metrics import roc_curve,roc_auc_score, precision_score, recall_score,f1_score\n",
        "from sklearn.metrics import make_scorer, accuracy_score\n",
        "import time"
      ],
      "execution_count": 0,
      "outputs": [
        {
          "output_type": "stream",
          "text": [
            "Using TensorFlow backend.\n"
          ],
          "name": "stderr"
        }
      ]
    },
    {
      "cell_type": "code",
      "metadata": {
        "trusted": true,
        "id": "IhPQ8KvdmCS6",
        "colab_type": "code",
        "colab": {}
      },
      "source": [
        "X=np.array(yhat_prob_pca)\n",
        "y=np.array(yhat_pca)"
      ],
      "execution_count": 0,
      "outputs": []
    },
    {
      "cell_type": "code",
      "metadata": {
        "trusted": true,
        "id": "sTDuSsaXmCS9",
        "colab_type": "code",
        "colab": {}
      },
      "source": [
        "#Train Test Validation Split\n",
        "from sklearn.model_selection import train_test_split\n",
        "\n",
        "X_train, X_test, y_train, y_test = train_test_split(X, y, test_size=0.2, random_state=1)"
      ],
      "execution_count": 0,
      "outputs": []
    },
    {
      "cell_type": "code",
      "metadata": {
        "trusted": true,
        "id": "xLgM9ezHmCTB",
        "colab_type": "code",
        "colab": {},
        "outputId": "28342fb7-90fd-4be3-df8c-983107c4c550"
      },
      "source": [
        "\n",
        "y_train_enc = to_categorical(y_train)\n",
        "y_test_enc = to_categorical(y_test)\n",
        "print(y_train_enc.shape)"
      ],
      "execution_count": 0,
      "outputs": [
        {
          "output_type": "stream",
          "text": [
            "(36245, 2)\n"
          ],
          "name": "stdout"
        }
      ]
    },
    {
      "cell_type": "code",
      "metadata": {
        "trusted": true,
        "id": "EDDd_UR8mCTF",
        "colab_type": "code",
        "colab": {}
      },
      "source": [
        "# define the model\n",
        "#get number of columns in training data\n",
        "n_cols=X_train.shape[1]\n",
        "\n",
        "# define model 1 layers\n",
        "model = Sequential()\n",
        "model.add(Dense(100, input_dim=n_cols, activation='relu'))\n",
        "model.add(Dense(2, activation='sigmoid'))\n",
        "# compile model\n",
        "model.compile(loss='binary_crossentropy', optimizer='adam', metrics=['accuracy'])"
      ],
      "execution_count": 0,
      "outputs": []
    },
    {
      "cell_type": "code",
      "metadata": {
        "trusted": true,
        "id": "D-jCRze5mCTI",
        "colab_type": "code",
        "colab": {},
        "outputId": "88dd0ae4-0bbd-4940-c809-16d88ad29fe7"
      },
      "source": [
        "epochs= 100\n",
        "start=time.time()\n",
        "#fit model\n",
        "hist=model.fit(X_train, y_train_enc,  validation_split=0.2, epochs=epochs,batch_size=100, verbose=1)\n",
        "end=time.time()\n",
        "print(\"Elapsed Time: \", end-start)"
      ],
      "execution_count": 0,
      "outputs": [
        {
          "output_type": "stream",
          "text": [
            "Train on 28996 samples, validate on 7249 samples\n",
            "Epoch 1/100\n",
            "28996/28996 [==============================] - 1s 24us/step - loss: 0.1835 - accuracy: 0.9941 - val_loss: 0.0230 - val_accuracy: 0.9983\n",
            "Epoch 2/100\n",
            "28996/28996 [==============================] - 0s 14us/step - loss: 0.0118 - accuracy: 0.9994 - val_loss: 0.0077 - val_accuracy: 0.9999\n",
            "Epoch 3/100\n",
            "28996/28996 [==============================] - 0s 14us/step - loss: 0.0053 - accuracy: 0.9998 - val_loss: 0.0049 - val_accuracy: 1.0000\n",
            "Epoch 4/100\n",
            "28996/28996 [==============================] - 0s 13us/step - loss: 0.0036 - accuracy: 0.9999 - val_loss: 0.0038 - val_accuracy: 0.9999\n",
            "Epoch 5/100\n",
            "28996/28996 [==============================] - 0s 14us/step - loss: 0.0029 - accuracy: 0.9999 - val_loss: 0.0033 - val_accuracy: 0.9999\n",
            "Epoch 6/100\n",
            "28996/28996 [==============================] - 0s 13us/step - loss: 0.0025 - accuracy: 0.9999 - val_loss: 0.0029 - val_accuracy: 0.9999\n",
            "Epoch 7/100\n",
            "28996/28996 [==============================] - 0s 13us/step - loss: 0.0022 - accuracy: 0.9999 - val_loss: 0.0026 - val_accuracy: 0.9999\n",
            "Epoch 8/100\n",
            "28996/28996 [==============================] - 0s 13us/step - loss: 0.0020 - accuracy: 0.9999 - val_loss: 0.0024 - val_accuracy: 1.0000\n",
            "Epoch 9/100\n",
            "28996/28996 [==============================] - 0s 13us/step - loss: 0.0018 - accuracy: 1.0000 - val_loss: 0.0022 - val_accuracy: 0.9999\n",
            "Epoch 10/100\n",
            "28996/28996 [==============================] - 0s 13us/step - loss: 0.0017 - accuracy: 0.9999 - val_loss: 0.0021 - val_accuracy: 1.0000\n",
            "Epoch 11/100\n",
            "28996/28996 [==============================] - 0s 13us/step - loss: 0.0016 - accuracy: 0.9999 - val_loss: 0.0020 - val_accuracy: 1.0000\n",
            "Epoch 12/100\n",
            "28996/28996 [==============================] - 0s 13us/step - loss: 0.0015 - accuracy: 0.9998 - val_loss: 0.0019 - val_accuracy: 0.9999\n",
            "Epoch 13/100\n",
            "28996/28996 [==============================] - 0s 13us/step - loss: 0.0014 - accuracy: 0.9998 - val_loss: 0.0019 - val_accuracy: 0.9997\n",
            "Epoch 14/100\n",
            "28996/28996 [==============================] - 0s 14us/step - loss: 0.0013 - accuracy: 0.9999 - val_loss: 0.0018 - val_accuracy: 0.9997\n",
            "Epoch 15/100\n",
            "28996/28996 [==============================] - 0s 13us/step - loss: 0.0013 - accuracy: 0.9999 - val_loss: 0.0016 - val_accuracy: 1.0000\n",
            "Epoch 16/100\n",
            "28996/28996 [==============================] - 0s 13us/step - loss: 0.0012 - accuracy: 0.9999 - val_loss: 0.0016 - val_accuracy: 1.0000\n",
            "Epoch 17/100\n",
            "28996/28996 [==============================] - 0s 13us/step - loss: 0.0012 - accuracy: 0.9999 - val_loss: 0.0015 - val_accuracy: 0.9999\n",
            "Epoch 18/100\n",
            "28996/28996 [==============================] - 0s 13us/step - loss: 0.0011 - accuracy: 0.9999 - val_loss: 0.0015 - val_accuracy: 0.9997\n",
            "Epoch 19/100\n",
            "28996/28996 [==============================] - 0s 13us/step - loss: 0.0011 - accuracy: 0.9999 - val_loss: 0.0014 - val_accuracy: 0.9999\n",
            "Epoch 20/100\n",
            "28996/28996 [==============================] - 0s 13us/step - loss: 0.0010 - accuracy: 0.9999 - val_loss: 0.0013 - val_accuracy: 0.9999\n",
            "Epoch 21/100\n",
            "28996/28996 [==============================] - 0s 13us/step - loss: 9.9190e-04 - accuracy: 1.0000 - val_loss: 0.0013 - val_accuracy: 1.0000\n",
            "Epoch 22/100\n",
            "28996/28996 [==============================] - 0s 13us/step - loss: 9.5810e-04 - accuracy: 0.9999 - val_loss: 0.0012 - val_accuracy: 1.0000\n",
            "Epoch 23/100\n",
            "28996/28996 [==============================] - 0s 13us/step - loss: 9.2160e-04 - accuracy: 0.9999 - val_loss: 0.0013 - val_accuracy: 0.9996\n",
            "Epoch 24/100\n",
            "28996/28996 [==============================] - 0s 14us/step - loss: 9.1166e-04 - accuracy: 0.9998 - val_loss: 0.0012 - val_accuracy: 1.0000\n",
            "Epoch 25/100\n",
            "28996/28996 [==============================] - 0s 13us/step - loss: 8.4571e-04 - accuracy: 0.9999 - val_loss: 0.0012 - val_accuracy: 0.9996\n",
            "Epoch 26/100\n",
            "28996/28996 [==============================] - 0s 13us/step - loss: 8.5568e-04 - accuracy: 0.9999 - val_loss: 0.0011 - val_accuracy: 1.0000\n",
            "Epoch 27/100\n",
            "28996/28996 [==============================] - 0s 13us/step - loss: 8.2761e-04 - accuracy: 0.9999 - val_loss: 0.0010 - val_accuracy: 0.9999\n",
            "Epoch 28/100\n",
            "28996/28996 [==============================] - 0s 13us/step - loss: 7.8601e-04 - accuracy: 0.9999 - val_loss: 9.9680e-04 - val_accuracy: 0.9999\n",
            "Epoch 29/100\n",
            "28996/28996 [==============================] - 0s 13us/step - loss: 7.9051e-04 - accuracy: 0.9999 - val_loss: 0.0010 - val_accuracy: 1.0000\n",
            "Epoch 30/100\n",
            "28996/28996 [==============================] - 0s 14us/step - loss: 7.7649e-04 - accuracy: 1.0000 - val_loss: 0.0011 - val_accuracy: 0.9997\n",
            "Epoch 31/100\n",
            "28996/28996 [==============================] - 0s 13us/step - loss: 7.2686e-04 - accuracy: 0.9999 - val_loss: 9.3265e-04 - val_accuracy: 0.9999\n",
            "Epoch 32/100\n",
            "28996/28996 [==============================] - 0s 13us/step - loss: 7.8160e-04 - accuracy: 0.9999 - val_loss: 8.9591e-04 - val_accuracy: 0.9999\n",
            "Epoch 33/100\n",
            "28996/28996 [==============================] - 0s 13us/step - loss: 7.0757e-04 - accuracy: 1.0000 - val_loss: 9.2475e-04 - val_accuracy: 1.0000\n",
            "Epoch 34/100\n",
            "28996/28996 [==============================] - 0s 13us/step - loss: 6.9430e-04 - accuracy: 1.0000 - val_loss: 8.4399e-04 - val_accuracy: 0.9999\n",
            "Epoch 35/100\n",
            "28996/28996 [==============================] - 0s 13us/step - loss: 6.9203e-04 - accuracy: 0.9999 - val_loss: 9.8829e-04 - val_accuracy: 0.9997\n",
            "Epoch 36/100\n",
            "28996/28996 [==============================] - 0s 13us/step - loss: 6.8795e-04 - accuracy: 0.9999 - val_loss: 8.1736e-04 - val_accuracy: 0.9999\n",
            "Epoch 37/100\n",
            "28996/28996 [==============================] - 0s 13us/step - loss: 6.4781e-04 - accuracy: 0.9999 - val_loss: 9.6816e-04 - val_accuracy: 0.9997\n",
            "Epoch 38/100\n",
            "28996/28996 [==============================] - 0s 13us/step - loss: 6.3997e-04 - accuracy: 1.0000 - val_loss: 8.4928e-04 - val_accuracy: 1.0000\n",
            "Epoch 39/100\n",
            "28996/28996 [==============================] - 0s 13us/step - loss: 6.3198e-04 - accuracy: 0.9999 - val_loss: 9.6084e-04 - val_accuracy: 0.9997\n",
            "Epoch 40/100\n",
            "28996/28996 [==============================] - 0s 13us/step - loss: 5.8955e-04 - accuracy: 0.9999 - val_loss: 9.3110e-04 - val_accuracy: 0.9997\n",
            "Epoch 41/100\n",
            "28996/28996 [==============================] - 0s 13us/step - loss: 6.1749e-04 - accuracy: 0.9999 - val_loss: 7.2042e-04 - val_accuracy: 0.9999\n",
            "Epoch 42/100\n",
            "28996/28996 [==============================] - 0s 13us/step - loss: 6.0633e-04 - accuracy: 0.9999 - val_loss: 7.4200e-04 - val_accuracy: 1.0000\n",
            "Epoch 43/100\n",
            "28996/28996 [==============================] - 0s 13us/step - loss: 5.8811e-04 - accuracy: 0.9998 - val_loss: 7.3962e-04 - val_accuracy: 0.9999\n",
            "Epoch 44/100\n",
            "28996/28996 [==============================] - 0s 13us/step - loss: 6.0697e-04 - accuracy: 0.9998 - val_loss: 6.9063e-04 - val_accuracy: 1.0000\n",
            "Epoch 45/100\n",
            "28996/28996 [==============================] - 0s 13us/step - loss: 5.4676e-04 - accuracy: 0.9999 - val_loss: 7.4408e-04 - val_accuracy: 1.0000\n",
            "Epoch 46/100\n",
            "28996/28996 [==============================] - 0s 13us/step - loss: 5.6679e-04 - accuracy: 0.9999 - val_loss: 6.5550e-04 - val_accuracy: 0.9999\n",
            "Epoch 47/100\n",
            "28996/28996 [==============================] - 0s 13us/step - loss: 5.4967e-04 - accuracy: 0.9999 - val_loss: 6.5045e-04 - val_accuracy: 1.0000\n",
            "Epoch 48/100\n",
            "28996/28996 [==============================] - 0s 14us/step - loss: 5.6329e-04 - accuracy: 0.9999 - val_loss: 6.2946e-04 - val_accuracy: 0.9999\n",
            "Epoch 49/100\n",
            "28996/28996 [==============================] - 0s 14us/step - loss: 5.2122e-04 - accuracy: 0.9999 - val_loss: 8.3133e-04 - val_accuracy: 0.9997\n",
            "Epoch 50/100\n",
            "28996/28996 [==============================] - 0s 14us/step - loss: 5.0832e-04 - accuracy: 0.9999 - val_loss: 8.1738e-04 - val_accuracy: 0.9997\n",
            "Epoch 51/100\n",
            "28996/28996 [==============================] - 0s 14us/step - loss: 4.9167e-04 - accuracy: 0.9999 - val_loss: 6.2606e-04 - val_accuracy: 1.0000\n",
            "Epoch 52/100\n",
            "28996/28996 [==============================] - 0s 13us/step - loss: 5.0081e-04 - accuracy: 1.0000 - val_loss: 5.9359e-04 - val_accuracy: 0.9999\n",
            "Epoch 53/100\n",
            "28996/28996 [==============================] - 0s 13us/step - loss: 5.0846e-04 - accuracy: 0.9999 - val_loss: 6.5519e-04 - val_accuracy: 1.0000\n",
            "Epoch 54/100\n"
          ],
          "name": "stdout"
        },
        {
          "output_type": "stream",
          "text": [
            "28996/28996 [==============================] - 0s 14us/step - loss: 4.7859e-04 - accuracy: 1.0000 - val_loss: 5.7037e-04 - val_accuracy: 0.9999\n",
            "Epoch 55/100\n",
            "28996/28996 [==============================] - 0s 13us/step - loss: 4.7510e-04 - accuracy: 0.9999 - val_loss: 5.6124e-04 - val_accuracy: 0.9999\n",
            "Epoch 56/100\n",
            "28996/28996 [==============================] - 0s 13us/step - loss: 4.7011e-04 - accuracy: 1.0000 - val_loss: 5.6471e-04 - val_accuracy: 0.9999\n",
            "Epoch 57/100\n",
            "28996/28996 [==============================] - 0s 13us/step - loss: 4.8522e-04 - accuracy: 0.9998 - val_loss: 5.4652e-04 - val_accuracy: 0.9999\n",
            "Epoch 58/100\n",
            "28996/28996 [==============================] - 0s 14us/step - loss: 4.9514e-04 - accuracy: 0.9999 - val_loss: 5.8090e-04 - val_accuracy: 1.0000\n",
            "Epoch 59/100\n",
            "28996/28996 [==============================] - 0s 13us/step - loss: 4.9175e-04 - accuracy: 1.0000 - val_loss: 5.3096e-04 - val_accuracy: 0.9999\n",
            "Epoch 60/100\n",
            "28996/28996 [==============================] - 0s 13us/step - loss: 4.3725e-04 - accuracy: 1.0000 - val_loss: 5.3660e-04 - val_accuracy: 1.0000\n",
            "Epoch 61/100\n",
            "28996/28996 [==============================] - 0s 13us/step - loss: 4.4637e-04 - accuracy: 0.9999 - val_loss: 5.8710e-04 - val_accuracy: 1.0000\n",
            "Epoch 62/100\n",
            "28996/28996 [==============================] - 0s 13us/step - loss: 4.4479e-04 - accuracy: 0.9999 - val_loss: 5.3279e-04 - val_accuracy: 0.9999\n",
            "Epoch 63/100\n",
            "28996/28996 [==============================] - 0s 13us/step - loss: 4.3462e-04 - accuracy: 0.9999 - val_loss: 4.9706e-04 - val_accuracy: 0.9999\n",
            "Epoch 64/100\n",
            "28996/28996 [==============================] - 0s 13us/step - loss: 3.8609e-04 - accuracy: 1.0000 - val_loss: 7.4608e-04 - val_accuracy: 0.9997\n",
            "Epoch 65/100\n",
            "28996/28996 [==============================] - 0s 13us/step - loss: 4.3789e-04 - accuracy: 0.9999 - val_loss: 4.9422e-04 - val_accuracy: 0.9999\n",
            "Epoch 66/100\n",
            "28996/28996 [==============================] - 0s 13us/step - loss: 4.2841e-04 - accuracy: 0.9999 - val_loss: 5.1909e-04 - val_accuracy: 1.0000\n",
            "Epoch 67/100\n",
            "28996/28996 [==============================] - 0s 13us/step - loss: 4.3868e-04 - accuracy: 0.9999 - val_loss: 5.7350e-04 - val_accuracy: 1.0000\n",
            "Epoch 68/100\n",
            "28996/28996 [==============================] - 0s 13us/step - loss: 4.3774e-04 - accuracy: 0.9999 - val_loss: 4.6754e-04 - val_accuracy: 0.9999\n",
            "Epoch 69/100\n",
            "28996/28996 [==============================] - 0s 13us/step - loss: 4.0362e-04 - accuracy: 0.9999 - val_loss: 4.9521e-04 - val_accuracy: 1.0000\n",
            "Epoch 70/100\n",
            "28996/28996 [==============================] - 0s 13us/step - loss: 3.9549e-04 - accuracy: 0.9999 - val_loss: 6.5143e-04 - val_accuracy: 0.9997\n",
            "Epoch 71/100\n",
            "28996/28996 [==============================] - 0s 13us/step - loss: 4.2857e-04 - accuracy: 0.9999 - val_loss: 5.1904e-04 - val_accuracy: 1.0000\n",
            "Epoch 72/100\n",
            "28996/28996 [==============================] - 0s 13us/step - loss: 3.8999e-04 - accuracy: 1.0000 - val_loss: 4.9164e-04 - val_accuracy: 1.0000\n",
            "Epoch 73/100\n",
            "28996/28996 [==============================] - 0s 13us/step - loss: 4.1611e-04 - accuracy: 0.9999 - val_loss: 4.4992e-04 - val_accuracy: 0.9999\n",
            "Epoch 74/100\n",
            "28996/28996 [==============================] - 0s 13us/step - loss: 3.8311e-04 - accuracy: 0.9999 - val_loss: 4.5103e-04 - val_accuracy: 1.0000\n",
            "Epoch 75/100\n",
            "28996/28996 [==============================] - 0s 13us/step - loss: 4.0759e-04 - accuracy: 0.9999 - val_loss: 4.4142e-04 - val_accuracy: 1.0000\n",
            "Epoch 76/100\n",
            "28996/28996 [==============================] - 0s 13us/step - loss: 3.8538e-04 - accuracy: 1.0000 - val_loss: 4.5204e-04 - val_accuracy: 1.0000\n",
            "Epoch 77/100\n",
            "28996/28996 [==============================] - 0s 13us/step - loss: 4.0629e-04 - accuracy: 0.9999 - val_loss: 6.0602e-04 - val_accuracy: 0.9997\n",
            "Epoch 78/100\n",
            "28996/28996 [==============================] - 0s 13us/step - loss: 3.7953e-04 - accuracy: 0.9999 - val_loss: 4.7807e-04 - val_accuracy: 1.0000\n",
            "Epoch 79/100\n",
            "28996/28996 [==============================] - 0s 13us/step - loss: 3.9667e-04 - accuracy: 0.9999 - val_loss: 4.3881e-04 - val_accuracy: 0.9999\n",
            "Epoch 80/100\n",
            "28996/28996 [==============================] - 0s 13us/step - loss: 3.8058e-04 - accuracy: 0.9999 - val_loss: 5.2044e-04 - val_accuracy: 0.9999\n",
            "Epoch 81/100\n",
            "28996/28996 [==============================] - 0s 13us/step - loss: 3.6227e-04 - accuracy: 0.9999 - val_loss: 4.7878e-04 - val_accuracy: 0.9999\n",
            "Epoch 82/100\n",
            "28996/28996 [==============================] - 0s 13us/step - loss: 3.8401e-04 - accuracy: 0.9999 - val_loss: 4.0057e-04 - val_accuracy: 0.9999\n",
            "Epoch 83/100\n",
            "28996/28996 [==============================] - 0s 13us/step - loss: 3.6484e-04 - accuracy: 0.9999 - val_loss: 5.9990e-04 - val_accuracy: 0.9997\n",
            "Epoch 84/100\n",
            "28996/28996 [==============================] - 0s 13us/step - loss: 3.7422e-04 - accuracy: 0.9999 - val_loss: 3.9494e-04 - val_accuracy: 0.9999\n",
            "Epoch 85/100\n",
            "28996/28996 [==============================] - 0s 13us/step - loss: 3.6486e-04 - accuracy: 0.9999 - val_loss: 4.1672e-04 - val_accuracy: 1.0000\n",
            "Epoch 86/100\n",
            "28996/28996 [==============================] - 0s 15us/step - loss: 3.5006e-04 - accuracy: 1.0000 - val_loss: 6.4981e-04 - val_accuracy: 0.9997\n",
            "Epoch 87/100\n",
            "28996/28996 [==============================] - 0s 14us/step - loss: 3.5225e-04 - accuracy: 0.9999 - val_loss: 3.8704e-04 - val_accuracy: 1.0000\n",
            "Epoch 88/100\n",
            "28996/28996 [==============================] - 0s 14us/step - loss: 3.4623e-04 - accuracy: 1.0000 - val_loss: 4.2170e-04 - val_accuracy: 1.0000\n",
            "Epoch 89/100\n",
            "28996/28996 [==============================] - 0s 13us/step - loss: 3.3505e-04 - accuracy: 0.9999 - val_loss: 3.7518e-04 - val_accuracy: 0.9999\n",
            "Epoch 90/100\n",
            "28996/28996 [==============================] - 0s 13us/step - loss: 3.5108e-04 - accuracy: 0.9998 - val_loss: 4.0160e-04 - val_accuracy: 0.9999\n",
            "Epoch 91/100\n",
            "28996/28996 [==============================] - 0s 13us/step - loss: 3.3171e-04 - accuracy: 0.9999 - val_loss: 6.3147e-04 - val_accuracy: 0.9997\n",
            "Epoch 92/100\n",
            "28996/28996 [==============================] - 0s 13us/step - loss: 3.1576e-04 - accuracy: 1.0000 - val_loss: 6.0418e-04 - val_accuracy: 0.9997\n",
            "Epoch 93/100\n",
            "28996/28996 [==============================] - 0s 13us/step - loss: 3.2742e-04 - accuracy: 0.9999 - val_loss: 4.3740e-04 - val_accuracy: 1.0000\n",
            "Epoch 94/100\n",
            "28996/28996 [==============================] - 0s 13us/step - loss: 3.3319e-04 - accuracy: 1.0000 - val_loss: 3.6883e-04 - val_accuracy: 1.0000\n",
            "Epoch 95/100\n",
            "28996/28996 [==============================] - 0s 13us/step - loss: 3.3925e-04 - accuracy: 0.9999 - val_loss: 3.5464e-04 - val_accuracy: 0.9999\n",
            "Epoch 96/100\n",
            "28996/28996 [==============================] - 0s 13us/step - loss: 3.5136e-04 - accuracy: 0.9998 - val_loss: 4.3743e-04 - val_accuracy: 1.0000\n",
            "Epoch 97/100\n",
            "28996/28996 [==============================] - 0s 13us/step - loss: 3.2841e-04 - accuracy: 0.9998 - val_loss: 4.0369e-04 - val_accuracy: 1.0000\n",
            "Epoch 98/100\n",
            "28996/28996 [==============================] - 0s 13us/step - loss: 3.2515e-04 - accuracy: 0.9998 - val_loss: 3.4795e-04 - val_accuracy: 0.9999\n",
            "Epoch 99/100\n",
            "28996/28996 [==============================] - 0s 13us/step - loss: 3.1500e-04 - accuracy: 1.0000 - val_loss: 3.8612e-04 - val_accuracy: 1.0000\n",
            "Epoch 100/100\n",
            "28996/28996 [==============================] - 0s 13us/step - loss: 3.1583e-04 - accuracy: 0.9999 - val_loss: 3.8888e-04 - val_accuracy: 1.0000\n",
            "Elapsed Time:  39.742984771728516\n"
          ],
          "name": "stdout"
        }
      ]
    },
    {
      "cell_type": "code",
      "metadata": {
        "trusted": true,
        "id": "jnMDpvk8mCTK",
        "colab_type": "code",
        "colab": {},
        "outputId": "5304a471-70c8-44f0-991f-207ac3032378"
      },
      "source": [
        "# predict probabilities for test set\n",
        "yhat_probs = model.predict(X_test, verbose=0)\n",
        "# predict crisp classes for test set\n",
        "yhat_classes = model.predict_classes(X_test, verbose=1)"
      ],
      "execution_count": 0,
      "outputs": [
        {
          "output_type": "stream",
          "text": [
            "9062/9062 [==============================] - 0s 13us/step\n"
          ],
          "name": "stdout"
        }
      ]
    },
    {
      "cell_type": "code",
      "metadata": {
        "trusted": true,
        "id": "tOog16BzmCTN",
        "colab_type": "code",
        "colab": {},
        "outputId": "e8632814-9f16-4aaa-fbc5-4921e7322eee"
      },
      "source": [
        "# accuracy: (tp + tn) / (p + n)\n",
        "accuracy = accuracy_score(y_test, yhat_classes)\n",
        "print('Accuracy: %f' % accuracy)\n",
        "#precision tp / (tp + fp)\n",
        "precision = precision_score(y_test, yhat_classes)\n",
        "print('Precision: %f' % precision)\n",
        "# recall: tp / (tp + fn)\n",
        "#recall = recall_score(y_test, yhat_classes)\n",
        "#print('Recall: %f' % recall)\n",
        "# f1: 2 tp / (2 tp + fp + fn)\n",
        "#f1 = f1_score(y_test, yhat_classes)\n",
        "#print('F1 score: %f' % f1)"
      ],
      "execution_count": 0,
      "outputs": [
        {
          "output_type": "stream",
          "text": [
            "Accuracy: 1.000000\n",
            "Precision: 1.000000\n"
          ],
          "name": "stdout"
        }
      ]
    },
    {
      "cell_type": "code",
      "metadata": {
        "trusted": true,
        "id": "uqYKfVhmmCTP",
        "colab_type": "code",
        "colab": {},
        "outputId": "ebdb3bbb-8bca-450b-9750-d24058f0a73d"
      },
      "source": [
        "\n",
        "# ROC AUC\n",
        "auc = roc_auc_score(y_test_enc, yhat_probs)\n",
        "print('ROC AUC: %f' % auc)\n"
      ],
      "execution_count": 0,
      "outputs": [
        {
          "output_type": "stream",
          "text": [
            "ROC AUC: 1.000000\n"
          ],
          "name": "stdout"
        }
      ]
    },
    {
      "cell_type": "code",
      "metadata": {
        "trusted": true,
        "id": "wb4wt2grmCTR",
        "colab_type": "code",
        "colab": {},
        "outputId": "7f2ea83b-45f2-4b96-8ef9-bdeb105d8767"
      },
      "source": [
        "# confusion matrix\n",
        "matrix = confusion_matrix(y_test, yhat_classes)\n",
        "print(matrix)"
      ],
      "execution_count": 0,
      "outputs": [
        {
          "output_type": "stream",
          "text": [
            "[[ 490    0]\n",
            " [   0 8572]]\n"
          ],
          "name": "stdout"
        }
      ]
    },
    {
      "cell_type": "code",
      "metadata": {
        "trusted": true,
        "id": "NZrAZweOmCTU",
        "colab_type": "code",
        "colab": {},
        "outputId": "29e9222d-828c-4392-e930-a77e6608a0ee"
      },
      "source": [
        "\n",
        "# plot loss during training\n",
        "plt.figure(1, figsize=(10,12))\n",
        "plt.subplot(211)\n",
        "plt.title('Loss')\n",
        "plt.plot(hist.history['loss'], label='Train')\n",
        "plt.plot(hist.history['val_loss'], label='Validation')\n",
        "plt.ylabel('loss')\n",
        "plt.xlabel('epoch')\n",
        "plt.legend()\n",
        "# plot accuracy during training\n",
        "plt.subplot(212)\n",
        "plt.title('Accuracy')\n",
        "plt.plot(hist.history['accuracy'], label='Train')\n",
        "plt.plot(hist.history['val_accuracy'], label='Validation')\n",
        "plt.ylabel('accuracy')\n",
        "plt.xlabel('epoch')\n",
        "plt.legend()\n",
        "plt.show()"
      ],
      "execution_count": 0,
      "outputs": [
        {
          "output_type": "display_data",
          "data": {
            "text/plain": [
              "<Figure size 720x864 with 2 Axes>"
            ],
            "image/png": "[encoded data removed]"
          },
          "metadata": {
            "tags": [],
            "needs_background": "light"
          }
        }
      ]
    }
  ]
}