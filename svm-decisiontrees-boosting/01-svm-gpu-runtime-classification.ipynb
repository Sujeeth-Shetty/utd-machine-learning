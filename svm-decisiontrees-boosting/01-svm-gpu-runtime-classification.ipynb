{
 "cells": [
  {
   "cell_type": "code",
   "execution_count": 1,
   "metadata": {},
   "outputs": [],
   "source": [
    "import pandas as pd\n",
    "import numpy as np\n",
    "import matplotlib as plt\n",
    "from sklearn import metrics\n",
    "from sklearn.model_selection import KFold\n",
    "from sklearn.svm import SVC\n",
    "%matplotlib inline"
   ]
  },
  {
   "cell_type": "code",
   "execution_count": 2,
   "metadata": {},
   "outputs": [
    {
     "name": "stdout",
     "output_type": "stream",
     "text": [
      "217.571953093958\n"
     ]
    },
    {
     "data": {
      "text/html": [
       "<div>\n",
       "<style scoped>\n",
       "    .dataframe tbody tr th:only-of-type {\n",
       "        vertical-align: middle;\n",
       "    }\n",
       "\n",
       "    .dataframe tbody tr th {\n",
       "        vertical-align: top;\n",
       "    }\n",
       "\n",
       "    .dataframe thead th {\n",
       "        text-align: right;\n",
       "    }\n",
       "</style>\n",
       "<table border=\"1\" class=\"dataframe\">\n",
       "  <thead>\n",
       "    <tr style=\"text-align: right;\">\n",
       "      <th></th>\n",
       "      <th>MWG</th>\n",
       "      <th>NWG</th>\n",
       "      <th>KWG</th>\n",
       "      <th>MDIMC</th>\n",
       "      <th>NDIMC</th>\n",
       "      <th>MDIMA</th>\n",
       "      <th>NDIMB</th>\n",
       "      <th>KWI</th>\n",
       "      <th>VWM</th>\n",
       "      <th>VWN</th>\n",
       "      <th>STRM</th>\n",
       "      <th>STRN</th>\n",
       "      <th>SA</th>\n",
       "      <th>SB</th>\n",
       "      <th>Run1 (ms)</th>\n",
       "      <th>Run2 (ms)</th>\n",
       "      <th>Run3 (ms)</th>\n",
       "      <th>Run4 (ms)</th>\n",
       "      <th>run_avg</th>\n",
       "      <th>run_class</th>\n",
       "    </tr>\n",
       "  </thead>\n",
       "  <tbody>\n",
       "    <tr>\n",
       "      <th>count</th>\n",
       "      <td>241600.000000</td>\n",
       "      <td>241600.000000</td>\n",
       "      <td>241600.000000</td>\n",
       "      <td>241600.000000</td>\n",
       "      <td>241600.000000</td>\n",
       "      <td>241600.000000</td>\n",
       "      <td>241600.000000</td>\n",
       "      <td>241600.000000</td>\n",
       "      <td>241600.000000</td>\n",
       "      <td>241600.000000</td>\n",
       "      <td>241600.000000</td>\n",
       "      <td>241600.000000</td>\n",
       "      <td>241600.000000</td>\n",
       "      <td>241600.000000</td>\n",
       "      <td>241600.000000</td>\n",
       "      <td>241600.000000</td>\n",
       "      <td>241600.000000</td>\n",
       "      <td>241600.000000</td>\n",
       "      <td>241600.000000</td>\n",
       "      <td>241600.000000</td>\n",
       "    </tr>\n",
       "    <tr>\n",
       "      <th>mean</th>\n",
       "      <td>80.415364</td>\n",
       "      <td>80.415364</td>\n",
       "      <td>25.513113</td>\n",
       "      <td>13.935894</td>\n",
       "      <td>13.935894</td>\n",
       "      <td>17.371126</td>\n",
       "      <td>17.371126</td>\n",
       "      <td>5.000000</td>\n",
       "      <td>2.448609</td>\n",
       "      <td>2.448609</td>\n",
       "      <td>0.500000</td>\n",
       "      <td>0.500000</td>\n",
       "      <td>0.500000</td>\n",
       "      <td>0.500000</td>\n",
       "      <td>217.647852</td>\n",
       "      <td>217.579536</td>\n",
       "      <td>217.532756</td>\n",
       "      <td>217.527669</td>\n",
       "      <td>217.571953</td>\n",
       "      <td>0.261370</td>\n",
       "    </tr>\n",
       "    <tr>\n",
       "      <th>std</th>\n",
       "      <td>42.469220</td>\n",
       "      <td>42.469220</td>\n",
       "      <td>7.855619</td>\n",
       "      <td>7.873662</td>\n",
       "      <td>7.873662</td>\n",
       "      <td>9.389418</td>\n",
       "      <td>9.389418</td>\n",
       "      <td>3.000006</td>\n",
       "      <td>1.953759</td>\n",
       "      <td>1.953759</td>\n",
       "      <td>0.500001</td>\n",
       "      <td>0.500001</td>\n",
       "      <td>0.500001</td>\n",
       "      <td>0.500001</td>\n",
       "      <td>369.012422</td>\n",
       "      <td>368.677309</td>\n",
       "      <td>368.655118</td>\n",
       "      <td>368.677413</td>\n",
       "      <td>368.750161</td>\n",
       "      <td>0.439382</td>\n",
       "    </tr>\n",
       "    <tr>\n",
       "      <th>min</th>\n",
       "      <td>16.000000</td>\n",
       "      <td>16.000000</td>\n",
       "      <td>16.000000</td>\n",
       "      <td>8.000000</td>\n",
       "      <td>8.000000</td>\n",
       "      <td>8.000000</td>\n",
       "      <td>8.000000</td>\n",
       "      <td>2.000000</td>\n",
       "      <td>1.000000</td>\n",
       "      <td>1.000000</td>\n",
       "      <td>0.000000</td>\n",
       "      <td>0.000000</td>\n",
       "      <td>0.000000</td>\n",
       "      <td>0.000000</td>\n",
       "      <td>13.290000</td>\n",
       "      <td>13.250000</td>\n",
       "      <td>13.360000</td>\n",
       "      <td>13.370000</td>\n",
       "      <td>13.317500</td>\n",
       "      <td>0.000000</td>\n",
       "    </tr>\n",
       "    <tr>\n",
       "      <th>25%</th>\n",
       "      <td>32.000000</td>\n",
       "      <td>32.000000</td>\n",
       "      <td>16.000000</td>\n",
       "      <td>8.000000</td>\n",
       "      <td>8.000000</td>\n",
       "      <td>8.000000</td>\n",
       "      <td>8.000000</td>\n",
       "      <td>2.000000</td>\n",
       "      <td>1.000000</td>\n",
       "      <td>1.000000</td>\n",
       "      <td>0.000000</td>\n",
       "      <td>0.000000</td>\n",
       "      <td>0.000000</td>\n",
       "      <td>0.000000</td>\n",
       "      <td>40.660000</td>\n",
       "      <td>40.710000</td>\n",
       "      <td>40.660000</td>\n",
       "      <td>40.640000</td>\n",
       "      <td>40.667500</td>\n",
       "      <td>0.000000</td>\n",
       "    </tr>\n",
       "    <tr>\n",
       "      <th>50%</th>\n",
       "      <td>64.000000</td>\n",
       "      <td>64.000000</td>\n",
       "      <td>32.000000</td>\n",
       "      <td>8.000000</td>\n",
       "      <td>8.000000</td>\n",
       "      <td>16.000000</td>\n",
       "      <td>16.000000</td>\n",
       "      <td>5.000000</td>\n",
       "      <td>2.000000</td>\n",
       "      <td>2.000000</td>\n",
       "      <td>0.500000</td>\n",
       "      <td>0.500000</td>\n",
       "      <td>0.500000</td>\n",
       "      <td>0.500000</td>\n",
       "      <td>69.825000</td>\n",
       "      <td>69.930000</td>\n",
       "      <td>69.790000</td>\n",
       "      <td>69.820000</td>\n",
       "      <td>69.790000</td>\n",
       "      <td>0.000000</td>\n",
       "    </tr>\n",
       "    <tr>\n",
       "      <th>75%</th>\n",
       "      <td>128.000000</td>\n",
       "      <td>128.000000</td>\n",
       "      <td>32.000000</td>\n",
       "      <td>16.000000</td>\n",
       "      <td>16.000000</td>\n",
       "      <td>32.000000</td>\n",
       "      <td>32.000000</td>\n",
       "      <td>8.000000</td>\n",
       "      <td>4.000000</td>\n",
       "      <td>4.000000</td>\n",
       "      <td>1.000000</td>\n",
       "      <td>1.000000</td>\n",
       "      <td>1.000000</td>\n",
       "      <td>1.000000</td>\n",
       "      <td>228.530000</td>\n",
       "      <td>228.310000</td>\n",
       "      <td>228.320000</td>\n",
       "      <td>228.320000</td>\n",
       "      <td>228.387500</td>\n",
       "      <td>1.000000</td>\n",
       "    </tr>\n",
       "    <tr>\n",
       "      <th>max</th>\n",
       "      <td>128.000000</td>\n",
       "      <td>128.000000</td>\n",
       "      <td>32.000000</td>\n",
       "      <td>32.000000</td>\n",
       "      <td>32.000000</td>\n",
       "      <td>32.000000</td>\n",
       "      <td>32.000000</td>\n",
       "      <td>8.000000</td>\n",
       "      <td>8.000000</td>\n",
       "      <td>8.000000</td>\n",
       "      <td>1.000000</td>\n",
       "      <td>1.000000</td>\n",
       "      <td>1.000000</td>\n",
       "      <td>1.000000</td>\n",
       "      <td>3339.630000</td>\n",
       "      <td>3375.420000</td>\n",
       "      <td>3397.080000</td>\n",
       "      <td>3361.710000</td>\n",
       "      <td>3341.507500</td>\n",
       "      <td>1.000000</td>\n",
       "    </tr>\n",
       "  </tbody>\n",
       "</table>\n",
       "</div>"
      ],
      "text/plain": [
       "                 MWG            NWG            KWG          MDIMC  \\\n",
       "count  241600.000000  241600.000000  241600.000000  241600.000000   \n",
       "mean       80.415364      80.415364      25.513113      13.935894   \n",
       "std        42.469220      42.469220       7.855619       7.873662   \n",
       "min        16.000000      16.000000      16.000000       8.000000   \n",
       "25%        32.000000      32.000000      16.000000       8.000000   \n",
       "50%        64.000000      64.000000      32.000000       8.000000   \n",
       "75%       128.000000     128.000000      32.000000      16.000000   \n",
       "max       128.000000     128.000000      32.000000      32.000000   \n",
       "\n",
       "               NDIMC          MDIMA          NDIMB            KWI  \\\n",
       "count  241600.000000  241600.000000  241600.000000  241600.000000   \n",
       "mean       13.935894      17.371126      17.371126       5.000000   \n",
       "std         7.873662       9.389418       9.389418       3.000006   \n",
       "min         8.000000       8.000000       8.000000       2.000000   \n",
       "25%         8.000000       8.000000       8.000000       2.000000   \n",
       "50%         8.000000      16.000000      16.000000       5.000000   \n",
       "75%        16.000000      32.000000      32.000000       8.000000   \n",
       "max        32.000000      32.000000      32.000000       8.000000   \n",
       "\n",
       "                 VWM            VWN           STRM           STRN  \\\n",
       "count  241600.000000  241600.000000  241600.000000  241600.000000   \n",
       "mean        2.448609       2.448609       0.500000       0.500000   \n",
       "std         1.953759       1.953759       0.500001       0.500001   \n",
       "min         1.000000       1.000000       0.000000       0.000000   \n",
       "25%         1.000000       1.000000       0.000000       0.000000   \n",
       "50%         2.000000       2.000000       0.500000       0.500000   \n",
       "75%         4.000000       4.000000       1.000000       1.000000   \n",
       "max         8.000000       8.000000       1.000000       1.000000   \n",
       "\n",
       "                  SA             SB      Run1 (ms)      Run2 (ms)  \\\n",
       "count  241600.000000  241600.000000  241600.000000  241600.000000   \n",
       "mean        0.500000       0.500000     217.647852     217.579536   \n",
       "std         0.500001       0.500001     369.012422     368.677309   \n",
       "min         0.000000       0.000000      13.290000      13.250000   \n",
       "25%         0.000000       0.000000      40.660000      40.710000   \n",
       "50%         0.500000       0.500000      69.825000      69.930000   \n",
       "75%         1.000000       1.000000     228.530000     228.310000   \n",
       "max         1.000000       1.000000    3339.630000    3375.420000   \n",
       "\n",
       "           Run3 (ms)      Run4 (ms)        run_avg      run_class  \n",
       "count  241600.000000  241600.000000  241600.000000  241600.000000  \n",
       "mean      217.532756     217.527669     217.571953       0.261370  \n",
       "std       368.655118     368.677413     368.750161       0.439382  \n",
       "min        13.360000      13.370000      13.317500       0.000000  \n",
       "25%        40.660000      40.640000      40.667500       0.000000  \n",
       "50%        69.790000      69.820000      69.790000       0.000000  \n",
       "75%       228.320000     228.320000     228.387500       1.000000  \n",
       "max      3397.080000    3361.710000    3341.507500       1.000000  "
      ]
     },
     "execution_count": 2,
     "metadata": {},
     "output_type": "execute_result"
    }
   ],
   "source": [
    "data=pd.read_csv(\"sgemm_product.csv\")\n",
    "data.head()\n",
    "#take average of 4 run\n",
    "data[\"run_avg\"]=np.mean(data.iloc[:,14:18],axis=1)\n",
    "\n",
    "mean_run=np.mean(data[\"run_avg\"])\n",
    "print(mean_run)\n",
    "\n",
    "#Binary Classification run_avg>mean_run\n",
    "data[\"run_class\"]=np.where(data['run_avg']>=mean_run, 1, 0)\n",
    "data.groupby(\"run_class\").size()\n",
    "\n",
    "data.describe()\n"
   ]
  },
  {
   "cell_type": "code",
   "execution_count": 3,
   "metadata": {},
   "outputs": [
    {
     "data": {
      "text/html": [
       "<div>\n",
       "<style scoped>\n",
       "    .dataframe tbody tr th:only-of-type {\n",
       "        vertical-align: middle;\n",
       "    }\n",
       "\n",
       "    .dataframe tbody tr th {\n",
       "        vertical-align: top;\n",
       "    }\n",
       "\n",
       "    .dataframe thead th {\n",
       "        text-align: right;\n",
       "    }\n",
       "</style>\n",
       "<table border=\"1\" class=\"dataframe\">\n",
       "  <thead>\n",
       "    <tr style=\"text-align: right;\">\n",
       "      <th></th>\n",
       "      <th>MWG</th>\n",
       "      <th>NWG</th>\n",
       "      <th>KWG</th>\n",
       "      <th>MDIMC</th>\n",
       "      <th>NDIMC</th>\n",
       "      <th>MDIMA</th>\n",
       "      <th>NDIMB</th>\n",
       "      <th>KWI</th>\n",
       "      <th>VWM</th>\n",
       "      <th>VWN</th>\n",
       "      <th>STRM</th>\n",
       "      <th>STRN</th>\n",
       "      <th>SA</th>\n",
       "      <th>SB</th>\n",
       "      <th>run_class</th>\n",
       "    </tr>\n",
       "  </thead>\n",
       "  <tbody>\n",
       "    <tr>\n",
       "      <th>208830</th>\n",
       "      <td>128</td>\n",
       "      <td>128</td>\n",
       "      <td>16</td>\n",
       "      <td>8</td>\n",
       "      <td>32</td>\n",
       "      <td>16</td>\n",
       "      <td>32</td>\n",
       "      <td>8</td>\n",
       "      <td>8</td>\n",
       "      <td>1</td>\n",
       "      <td>1</td>\n",
       "      <td>1</td>\n",
       "      <td>1</td>\n",
       "      <td>0</td>\n",
       "      <td>0</td>\n",
       "    </tr>\n",
       "    <tr>\n",
       "      <th>109564</th>\n",
       "      <td>64</td>\n",
       "      <td>64</td>\n",
       "      <td>32</td>\n",
       "      <td>32</td>\n",
       "      <td>8</td>\n",
       "      <td>32</td>\n",
       "      <td>16</td>\n",
       "      <td>2</td>\n",
       "      <td>2</td>\n",
       "      <td>4</td>\n",
       "      <td>1</td>\n",
       "      <td>1</td>\n",
       "      <td>0</td>\n",
       "      <td>0</td>\n",
       "      <td>0</td>\n",
       "    </tr>\n",
       "    <tr>\n",
       "      <th>185445</th>\n",
       "      <td>128</td>\n",
       "      <td>64</td>\n",
       "      <td>32</td>\n",
       "      <td>8</td>\n",
       "      <td>16</td>\n",
       "      <td>8</td>\n",
       "      <td>16</td>\n",
       "      <td>8</td>\n",
       "      <td>2</td>\n",
       "      <td>2</td>\n",
       "      <td>0</td>\n",
       "      <td>1</td>\n",
       "      <td>0</td>\n",
       "      <td>1</td>\n",
       "      <td>0</td>\n",
       "    </tr>\n",
       "    <tr>\n",
       "      <th>52683</th>\n",
       "      <td>32</td>\n",
       "      <td>128</td>\n",
       "      <td>16</td>\n",
       "      <td>16</td>\n",
       "      <td>8</td>\n",
       "      <td>16</td>\n",
       "      <td>16</td>\n",
       "      <td>8</td>\n",
       "      <td>2</td>\n",
       "      <td>4</td>\n",
       "      <td>1</td>\n",
       "      <td>0</td>\n",
       "      <td>1</td>\n",
       "      <td>1</td>\n",
       "      <td>0</td>\n",
       "    </tr>\n",
       "    <tr>\n",
       "      <th>152392</th>\n",
       "      <td>128</td>\n",
       "      <td>32</td>\n",
       "      <td>16</td>\n",
       "      <td>8</td>\n",
       "      <td>16</td>\n",
       "      <td>16</td>\n",
       "      <td>8</td>\n",
       "      <td>2</td>\n",
       "      <td>2</td>\n",
       "      <td>1</td>\n",
       "      <td>1</td>\n",
       "      <td>0</td>\n",
       "      <td>0</td>\n",
       "      <td>0</td>\n",
       "      <td>0</td>\n",
       "    </tr>\n",
       "  </tbody>\n",
       "</table>\n",
       "</div>"
      ],
      "text/plain": [
       "        MWG  NWG  KWG  MDIMC  NDIMC  MDIMA  NDIMB  KWI  VWM  VWN  STRM  STRN  \\\n",
       "208830  128  128   16      8     32     16     32    8    8    1     1     1   \n",
       "109564   64   64   32     32      8     32     16    2    2    4     1     1   \n",
       "185445  128   64   32      8     16      8     16    8    2    2     0     1   \n",
       "52683    32  128   16     16      8     16     16    8    2    4     1     0   \n",
       "152392  128   32   16      8     16     16      8    2    2    1     1     0   \n",
       "\n",
       "        SA  SB  run_class  \n",
       "208830   1   0          0  \n",
       "109564   0   0          0  \n",
       "185445   0   1          0  \n",
       "52683    1   1          0  \n",
       "152392   0   0          0  "
      ]
     },
     "execution_count": 3,
     "metadata": {},
     "output_type": "execute_result"
    }
   ],
   "source": [
    "#Drop unwanted fields\n",
    "sgemm_df=data.drop(columns=['Run1 (ms)','Run2 (ms)','Run3 (ms)','Run4 (ms)','run_avg'])\n",
    "sgemm_df.to_csv(r'segmm_product_classification.csv')\n",
    "sgemm_df.head()"
   ]
  },
  {
   "cell_type": "code",
   "execution_count": 4,
   "metadata": {},
   "outputs": [],
   "source": [
    "#Varibale and predictor\n",
    "y=np.array(sgemm_df[\"run_class\"])\n",
    "\n",
    "X=np.array(sgemm_df.iloc[:,0:14])\n"
   ]
  },
  {
   "cell_type": "code",
   "execution_count": 5,
   "metadata": {},
   "outputs": [],
   "source": [
    "#Train Test Validation Split\n",
    "from sklearn.model_selection import train_test_split\n",
    "\n",
    "X_train_80, X_test, y_train_80, y_test = train_test_split(X, y, test_size=0.2, random_state=1)\n",
    "\n",
    "\n",
    "X_train, X_val, y_train, y_val = train_test_split(X_train_80, y_train_80, test_size=0.2, random_state=1)"
   ]
  },
  {
   "cell_type": "code",
   "execution_count": 6,
   "metadata": {},
   "outputs": [
    {
     "data": {
      "text/plain": [
       "SVC(C=1.0, cache_size=200, class_weight=None, coef0=0.0,\n",
       "    decision_function_shape='ovr', degree=3, gamma='auto_deprecated',\n",
       "    kernel='linear', max_iter=-1, probability=False, random_state=None,\n",
       "    shrinking=True, tol=0.001, verbose=False)"
      ]
     },
     "execution_count": 6,
     "metadata": {},
     "output_type": "execute_result"
    }
   ],
   "source": [
    "##Initial run for entire dataset\n",
    "from sklearn.svm import SVC\n",
    "svm_linear = SVC(kernel='linear')\n",
    "svm_linear.fit(X_train, y_train)"
   ]
  },
  {
   "cell_type": "code",
   "execution_count": 7,
   "metadata": {},
   "outputs": [],
   "source": [
    "#Predict on Test Data\n",
    "y_pred_t = svm_linear.predict(X_test)"
   ]
  },
  {
   "cell_type": "code",
   "execution_count": 8,
   "metadata": {
    "scrolled": true
   },
   "outputs": [
    {
     "name": "stdout",
     "output_type": "stream",
     "text": [
      "[[14243   533]\n",
      " [  817  4407]]\n",
      "              precision    recall  f1-score   support\n",
      "\n",
      "           0       0.95      0.96      0.95     14776\n",
      "           1       0.89      0.84      0.87      5224\n",
      "\n",
      "    accuracy                           0.93     20000\n",
      "   macro avg       0.92      0.90      0.91     20000\n",
      "weighted avg       0.93      0.93      0.93     20000\n",
      "\n"
     ]
    }
   ],
   "source": [
    "#Confusion Matrix\n",
    "from sklearn.metrics import classification_report, confusion_matrix\n",
    "print(confusion_matrix(y_test,y_pred_t))\n",
    "print(classification_report(y_test,y_pred_t))"
   ]
  },
  {
   "cell_type": "code",
   "execution_count": 9,
   "metadata": {},
   "outputs": [],
   "source": [
    "#Predict on Validation data\n",
    "y_pred_v = svm_linear.predict(X_val)"
   ]
  },
  {
   "cell_type": "code",
   "execution_count": 10,
   "metadata": {},
   "outputs": [
    {
     "name": "stdout",
     "output_type": "stream",
     "text": [
      "[[11402   403]\n",
      " [  666  3529]]\n",
      "              precision    recall  f1-score   support\n",
      "\n",
      "           0       0.94      0.97      0.96     11805\n",
      "           1       0.90      0.84      0.87      4195\n",
      "\n",
      "    accuracy                           0.93     16000\n",
      "   macro avg       0.92      0.90      0.91     16000\n",
      "weighted avg       0.93      0.93      0.93     16000\n",
      "\n"
     ]
    }
   ],
   "source": [
    "from sklearn.metrics import classification_report, confusion_matrix\n",
    "print(confusion_matrix(y_val,y_pred_v))\n",
    "print(classification_report(y_val,y_pred_v))"
   ]
  },
  {
   "cell_type": "code",
   "execution_count": 2,
   "metadata": {},
   "outputs": [],
   "source": [
    "##Resample and Train/Test split"
   ]
  },
  {
   "cell_type": "code",
   "execution_count": 8,
   "metadata": {},
   "outputs": [],
   "source": [
    "sgemm_df=sgemm_df.loc[np.random.choice(sgemm_df.index, 50000, replace=False)]\n",
    "y=np.array(sgemm_df[\"run_class\"])\n",
    "\n",
    "X=np.array(sgemm_df.iloc[:,0:14])\n",
    "\n",
    "X_train_80, X_test, y_train_80, y_test = train_test_split(X, y, test_size=0.2, random_state=1)\n",
    "\n",
    "\n",
    "X_train, X_val, y_train, y_val = train_test_split(X_train_80, y_train_80, test_size=0.2, random_state=1)"
   ]
  },
  {
   "cell_type": "code",
   "execution_count": null,
   "metadata": {},
   "outputs": [],
   "source": [
    "##Linear Kernel Cross Validation"
   ]
  },
  {
   "cell_type": "code",
   "execution_count": 12,
   "metadata": {},
   "outputs": [],
   "source": [
    "\n",
    "scores = []\n",
    "n=10\n",
    "i=0\n",
    "mean_auc=0\n",
    "accuracy_test=0\n",
    "accuracy_train=0\n",
    "svm_linear_cv = SVC(kernel='linear')\n",
    "cv = KFold(n_splits=n, random_state=42, shuffle=False)"
   ]
  },
  {
   "cell_type": "code",
   "execution_count": 13,
   "metadata": {
    "scrolled": true
   },
   "outputs": [
    {
     "name": "stdout",
     "output_type": "stream",
     "text": [
      "Train Index:  [ 4000  4001  4002 ... 39997 39998 39999]\n",
      "Test Index:  [   0    1    2 ... 3997 3998 3999]\n",
      "AUC (fold 1/10): 0.9061911492242969\n",
      "Accuracy Test Fold 1 : 93.65\n",
      "Accuracy Train Fold 1 : 93.31388888888888\n",
      " \n",
      "Train Index:  [    0     1     2 ... 39997 39998 39999]\n",
      "Test Index:  [4000 4001 4002 ... 7997 7998 7999]\n",
      "AUC (fold 2/10): 0.8989009548578277\n",
      "Accuracy Test Fold 2 : 93.27499999999999\n",
      "Accuracy Train Fold 2 : 93.29166666666666\n",
      " \n",
      "Train Index:  [    0     1     2 ... 39997 39998 39999]\n",
      "Test Index:  [ 8000  8001  8002 ... 11997 11998 11999]\n",
      "AUC (fold 3/10): 0.905382316614495\n",
      "Accuracy Test Fold 3 : 93.7\n",
      "Accuracy Train Fold 3 : 93.28333333333333\n",
      " \n",
      "Train Index:  [    0     1     2 ... 39997 39998 39999]\n",
      "Test Index:  [12000 12001 12002 ... 15997 15998 15999]\n",
      "AUC (fold 4/10): 0.8924954465171399\n",
      "Accuracy Test Fold 4 : 92.45\n",
      "Accuracy Train Fold 4 : 93.43055555555554\n",
      " \n",
      "Train Index:  [    0     1     2 ... 39997 39998 39999]\n",
      "Test Index:  [16000 16001 16002 ... 19997 19998 19999]\n",
      "AUC (fold 5/10): 0.8999342161106867\n",
      "Accuracy Test Fold 5 : 93.10000000000001\n",
      "Accuracy Train Fold 5 : 93.28055555555555\n",
      " \n",
      "Train Index:  [    0     1     2 ... 39997 39998 39999]\n",
      "Test Index:  [20000 20001 20002 ... 23997 23998 23999]\n",
      "AUC (fold 6/10): 0.8992001364394934\n",
      "Accuracy Test Fold 6 : 92.85\n",
      "Accuracy Train Fold 6 : 93.33611111111111\n",
      " \n",
      "Train Index:  [    0     1     2 ... 39997 39998 39999]\n",
      "Test Index:  [24000 24001 24002 ... 27997 27998 27999]\n",
      "AUC (fold 7/10): 0.9005841389286308\n",
      "Accuracy Test Fold 7 : 93.10000000000001\n",
      "Accuracy Train Fold 7 : 93.28055555555555\n",
      " \n",
      "Train Index:  [    0     1     2 ... 39997 39998 39999]\n",
      "Test Index:  [28000 28001 28002 ... 31997 31998 31999]\n",
      "AUC (fold 8/10): 0.9070121063966009\n",
      "Accuracy Test Fold 8 : 93.625\n",
      "Accuracy Train Fold 8 : 93.26666666666667\n",
      " \n",
      "Train Index:  [    0     1     2 ... 39997 39998 39999]\n",
      "Test Index:  [32000 32001 32002 ... 35997 35998 35999]\n",
      "AUC (fold 9/10): 0.9045295456761862\n",
      "Accuracy Test Fold 9 : 93.525\n",
      "Accuracy Train Fold 9 : 93.22222222222221\n",
      " \n",
      "Train Index:  [    0     1     2 ... 35997 35998 35999]\n",
      "Test Index:  [36000 36001 36002 ... 39997 39998 39999]\n",
      "AUC (fold 10/10): 0.9071850801479253\n",
      "Accuracy Test Fold 10 : 93.4\n",
      "Accuracy Train Fold 10 : 93.27222222222223\n",
      " \n",
      "Mean AUC: 0.9021415090913283\n",
      "Mean Test Accuracy: 93.2675\n",
      "Mean Train Accuracy: 93.29777777777778\n"
     ]
    }
   ],
   "source": [
    "for train_index, test_index in cv.split(X_train_80):\n",
    "    print(\"Train Index: \", train_index)\n",
    "    print(\"Test Index: \", test_index)\n",
    "    X_train_cv, X_test_cv= X_train_80[train_index], X_train_80[test_index]\n",
    "    y_train_cv, y_test_cv = y_train_80[train_index], y_train_80[test_index]\n",
    "    \n",
    "    # train model and make predictions    \n",
    "    svm_linear_cv.fit(X_train_cv, y_train_cv) \n",
    "    \n",
    "    #predict train\n",
    "    preds_train = svm_linear_cv.predict(X_train_cv)\n",
    "\n",
    "    #predict test\n",
    "    preds_test = svm_linear_cv.predict(X_test_cv)\n",
    "    \n",
    "    i+=1\n",
    "    # compute AUC metric for this CV fold\n",
    "    fpr, tpr, thresholds = metrics.roc_curve(y_test_cv, preds_test)\n",
    "    roc_auc = metrics.auc(fpr, tpr)\n",
    "    print (\"AUC (fold \"+str(i)+\"/\"+str(n)+\"): \"+str(roc_auc))\n",
    "    mean_auc += roc_auc\n",
    "    \n",
    "    print(\"Accuracy Test Fold \"+str(i)+\" : \"+str(metrics.accuracy_score(y_test_cv,preds_test)*100))\n",
    "    accuracy_test+=metrics.accuracy_score(y_test_cv,preds_test)*100\n",
    "    print(\"Accuracy Train Fold \"+str(i)+\" : \"+str(metrics.accuracy_score(y_train_cv,preds_train)*100))\n",
    "    accuracy_train+=metrics.accuracy_score(y_train_cv,preds_train)*100\n",
    "    print( \" \")\n",
    "    \n",
    "print (\"Mean AUC: \"+str(mean_auc/n) )\n",
    "print (\"Mean Test Accuracy: \"+str(accuracy_test/n))\n",
    "print (\"Mean Train Accuracy: \"+str(accuracy_train/n))"
   ]
  },
  {
   "cell_type": "code",
   "execution_count": null,
   "metadata": {},
   "outputs": [],
   "source": []
  },
  {
   "cell_type": "code",
   "execution_count": null,
   "metadata": {},
   "outputs": [],
   "source": []
  },
  {
   "cell_type": "code",
   "execution_count": null,
   "metadata": {},
   "outputs": [],
   "source": [
    "##Learning Curve"
   ]
  },
  {
   "cell_type": "code",
   "execution_count": 51,
   "metadata": {},
   "outputs": [
    {
     "data": {
      "image/png": "[encoded data removed]",
      "text/plain": [
       "<Figure size 576x396 with 1 Axes>"
      ]
     },
     "metadata": {},
     "output_type": "display_data"
    },
    {
     "data": {
      "text/plain": [
       "<matplotlib.axes._subplots.AxesSubplot at 0x1cbd6c6e0f0>"
      ]
     },
     "execution_count": 51,
     "metadata": {},
     "output_type": "execute_result"
    }
   ],
   "source": [
    "from yellowbrick.model_selection import LearningCurve\n",
    "sizes = np.linspace(0.3, 1.0, 10)\n",
    "visualizer = LearningCurve(\n",
    "    svm_linear_cv, cv=cv, scoring='f1_weighted', train_sizes=sizes, n_jobs=4\n",
    ")\n",
    "\n",
    "visualizer.fit(X_train_80,y_train_80)        # Fit the data to the visualizer\n",
    "visualizer.show() "
   ]
  },
  {
   "cell_type": "code",
   "execution_count": 52,
   "metadata": {
    "scrolled": true
   },
   "outputs": [
    {
     "data": {
      "image/png": "[encoded data removed]",
      "text/plain": [
       "<Figure size 576x396 with 1 Axes>"
      ]
     },
     "metadata": {},
     "output_type": "display_data"
    },
    {
     "data": {
      "text/plain": [
       "<matplotlib.axes._subplots.AxesSubplot at 0x1cbc53f9518>"
      ]
     },
     "execution_count": 52,
     "metadata": {},
     "output_type": "execute_result"
    }
   ],
   "source": [
    "from yellowbrick.model_selection import LearningCurve\n",
    "sizes = np.linspace(0.3, 1.0, 10)\n",
    "visualizer = LearningCurve(\n",
    "    svm_linear_cv, cv=cv, scoring='accuracy', train_sizes=sizes, n_jobs=4\n",
    ")\n",
    "\n",
    "visualizer.fit(X_train_80,y_train_80)        # Fit the data to the visualizer\n",
    "visualizer.show() "
   ]
  },
  {
   "cell_type": "code",
   "execution_count": 53,
   "metadata": {},
   "outputs": [],
   "source": [
    "#Predict on test for Linear\n",
    "y_pred_1 = svm_linear_cv.predict(X_test)\n"
   ]
  },
  {
   "cell_type": "code",
   "execution_count": 54,
   "metadata": {
    "scrolled": true
   },
   "outputs": [
    {
     "name": "stdout",
     "output_type": "stream",
     "text": [
      "[[7168  268]\n",
      " [ 392 2172]]\n",
      "              precision    recall  f1-score   support\n",
      "\n",
      "           0       0.95      0.96      0.96      7436\n",
      "           1       0.89      0.85      0.87      2564\n",
      "\n",
      "    accuracy                           0.93     10000\n",
      "   macro avg       0.92      0.91      0.91     10000\n",
      "weighted avg       0.93      0.93      0.93     10000\n",
      "\n"
     ]
    }
   ],
   "source": [
    "from sklearn.metrics import classification_report, confusion_matrix\n",
    "print(confusion_matrix(y_test,y_pred_1))\n",
    "print(classification_report(y_test,y_pred_1))"
   ]
  },
  {
   "cell_type": "code",
   "execution_count": 55,
   "metadata": {},
   "outputs": [
    {
     "data": {
      "image/png": "[encoded data removed]",
      "text/plain": [
       "<Figure size 576x396 with 1 Axes>"
      ]
     },
     "metadata": {},
     "output_type": "display_data"
    }
   ],
   "source": [
    "#ROC-AUC curve\n",
    "from sklearn import metrics\n",
    "import matplotlib.pyplot as plt\n",
    "\n",
    "fpr, tpr, _ = metrics.roc_curve(y_test,  y_pred_1)\n",
    "auc = metrics.roc_auc_score(y_test, y_pred_1)\n",
    "plt.plot(fpr,tpr,label=\", auc=\"+str(auc))\n",
    "plt.legend(loc=4)\n",
    "plt.show()"
   ]
  },
  {
   "cell_type": "code",
   "execution_count": null,
   "metadata": {},
   "outputs": [],
   "source": [
    "##RBF Kernel Cross Validation"
   ]
  },
  {
   "cell_type": "code",
   "execution_count": 12,
   "metadata": {},
   "outputs": [],
   "source": [
    "\n",
    "scores = []\n",
    "n=10\n",
    "i=0\n",
    "mean_auc=0\n",
    "accuracy_test=0\n",
    "accuracy_train=0\n",
    "svm_rbf_cv = SVC(kernel='rbf')\n",
    "cv = KFold(n_splits=n, random_state=42, shuffle=False)\n"
   ]
  },
  {
   "cell_type": "code",
   "execution_count": 13,
   "metadata": {},
   "outputs": [
    {
     "name": "stdout",
     "output_type": "stream",
     "text": [
      "Train Index:  [ 4000  4001  4002 ... 39997 39998 39999]\n",
      "Test Index:  [   0    1    2 ... 3997 3998 3999]\n"
     ]
    },
    {
     "name": "stderr",
     "output_type": "stream",
     "text": [
      "C:\\ProgramData\\Anaconda3\\lib\\site-packages\\sklearn\\svm\\base.py:193: FutureWarning: The default value of gamma will change from 'auto' to 'scale' in version 0.22 to account better for unscaled features. Set gamma explicitly to 'auto' or 'scale' to avoid this warning.\n",
      "  \"avoid this warning.\", FutureWarning)\n"
     ]
    },
    {
     "name": "stdout",
     "output_type": "stream",
     "text": [
      "AUC (fold 1/10): 0.8999374917752336\n",
      "Accuracy Test Fold 1 : 92.825\n",
      "Accuracy Train Fold 1 : 94.69999999999999\n",
      " \n",
      "Train Index:  [    0     1     2 ... 39997 39998 39999]\n",
      "Test Index:  [4000 4001 4002 ... 7997 7998 7999]\n"
     ]
    },
    {
     "name": "stderr",
     "output_type": "stream",
     "text": [
      "C:\\ProgramData\\Anaconda3\\lib\\site-packages\\sklearn\\svm\\base.py:193: FutureWarning: The default value of gamma will change from 'auto' to 'scale' in version 0.22 to account better for unscaled features. Set gamma explicitly to 'auto' or 'scale' to avoid this warning.\n",
      "  \"avoid this warning.\", FutureWarning)\n"
     ]
    },
    {
     "name": "stdout",
     "output_type": "stream",
     "text": [
      "AUC (fold 2/10): 0.8909109800630411\n",
      "Accuracy Test Fold 2 : 92.2\n",
      "Accuracy Train Fold 2 : 94.88888888888889\n",
      " \n",
      "Train Index:  [    0     1     2 ... 39997 39998 39999]\n",
      "Test Index:  [ 8000  8001  8002 ... 11997 11998 11999]\n"
     ]
    },
    {
     "name": "stderr",
     "output_type": "stream",
     "text": [
      "C:\\ProgramData\\Anaconda3\\lib\\site-packages\\sklearn\\svm\\base.py:193: FutureWarning: The default value of gamma will change from 'auto' to 'scale' in version 0.22 to account better for unscaled features. Set gamma explicitly to 'auto' or 'scale' to avoid this warning.\n",
      "  \"avoid this warning.\", FutureWarning)\n"
     ]
    },
    {
     "name": "stdout",
     "output_type": "stream",
     "text": [
      "AUC (fold 3/10): 0.8799958118795612\n",
      "Accuracy Test Fold 3 : 91.725\n",
      "Accuracy Train Fold 3 : 94.75\n",
      " \n",
      "Train Index:  [    0     1     2 ... 39997 39998 39999]\n",
      "Test Index:  [12000 12001 12002 ... 15997 15998 15999]\n"
     ]
    },
    {
     "name": "stderr",
     "output_type": "stream",
     "text": [
      "C:\\ProgramData\\Anaconda3\\lib\\site-packages\\sklearn\\svm\\base.py:193: FutureWarning: The default value of gamma will change from 'auto' to 'scale' in version 0.22 to account better for unscaled features. Set gamma explicitly to 'auto' or 'scale' to avoid this warning.\n",
      "  \"avoid this warning.\", FutureWarning)\n"
     ]
    },
    {
     "name": "stdout",
     "output_type": "stream",
     "text": [
      "AUC (fold 4/10): 0.8934005430377591\n",
      "Accuracy Test Fold 4 : 92.60000000000001\n",
      "Accuracy Train Fold 4 : 94.65555555555557\n",
      " \n",
      "Train Index:  [    0     1     2 ... 39997 39998 39999]\n",
      "Test Index:  [16000 16001 16002 ... 19997 19998 19999]\n"
     ]
    },
    {
     "name": "stderr",
     "output_type": "stream",
     "text": [
      "C:\\ProgramData\\Anaconda3\\lib\\site-packages\\sklearn\\svm\\base.py:193: FutureWarning: The default value of gamma will change from 'auto' to 'scale' in version 0.22 to account better for unscaled features. Set gamma explicitly to 'auto' or 'scale' to avoid this warning.\n",
      "  \"avoid this warning.\", FutureWarning)\n"
     ]
    },
    {
     "name": "stdout",
     "output_type": "stream",
     "text": [
      "AUC (fold 5/10): 0.8921647609147608\n",
      "Accuracy Test Fold 5 : 92.625\n",
      "Accuracy Train Fold 5 : 94.60555555555555\n",
      " \n",
      "Train Index:  [    0     1     2 ... 39997 39998 39999]\n",
      "Test Index:  [20000 20001 20002 ... 23997 23998 23999]\n"
     ]
    },
    {
     "name": "stderr",
     "output_type": "stream",
     "text": [
      "C:\\ProgramData\\Anaconda3\\lib\\site-packages\\sklearn\\svm\\base.py:193: FutureWarning: The default value of gamma will change from 'auto' to 'scale' in version 0.22 to account better for unscaled features. Set gamma explicitly to 'auto' or 'scale' to avoid this warning.\n",
      "  \"avoid this warning.\", FutureWarning)\n"
     ]
    },
    {
     "name": "stdout",
     "output_type": "stream",
     "text": [
      "AUC (fold 6/10): 0.8833478102779573\n",
      "Accuracy Test Fold 6 : 91.77499999999999\n",
      "Accuracy Train Fold 6 : 94.77222222222223\n",
      " \n",
      "Train Index:  [    0     1     2 ... 39997 39998 39999]\n",
      "Test Index:  [24000 24001 24002 ... 27997 27998 27999]\n"
     ]
    },
    {
     "name": "stderr",
     "output_type": "stream",
     "text": [
      "C:\\ProgramData\\Anaconda3\\lib\\site-packages\\sklearn\\svm\\base.py:193: FutureWarning: The default value of gamma will change from 'auto' to 'scale' in version 0.22 to account better for unscaled features. Set gamma explicitly to 'auto' or 'scale' to avoid this warning.\n",
      "  \"avoid this warning.\", FutureWarning)\n"
     ]
    },
    {
     "name": "stdout",
     "output_type": "stream",
     "text": [
      "AUC (fold 7/10): 0.8961053227160692\n",
      "Accuracy Test Fold 7 : 92.7\n",
      "Accuracy Train Fold 7 : 94.73611111111111\n",
      " \n",
      "Train Index:  [    0     1     2 ... 39997 39998 39999]\n",
      "Test Index:  [28000 28001 28002 ... 31997 31998 31999]\n"
     ]
    },
    {
     "name": "stderr",
     "output_type": "stream",
     "text": [
      "C:\\ProgramData\\Anaconda3\\lib\\site-packages\\sklearn\\svm\\base.py:193: FutureWarning: The default value of gamma will change from 'auto' to 'scale' in version 0.22 to account better for unscaled features. Set gamma explicitly to 'auto' or 'scale' to avoid this warning.\n",
      "  \"avoid this warning.\", FutureWarning)\n"
     ]
    },
    {
     "name": "stdout",
     "output_type": "stream",
     "text": [
      "AUC (fold 8/10): 0.8933571072838858\n",
      "Accuracy Test Fold 8 : 92.5\n",
      "Accuracy Train Fold 8 : 94.75\n",
      " \n",
      "Train Index:  [    0     1     2 ... 39997 39998 39999]\n",
      "Test Index:  [32000 32001 32002 ... 35997 35998 35999]\n"
     ]
    },
    {
     "name": "stderr",
     "output_type": "stream",
     "text": [
      "C:\\ProgramData\\Anaconda3\\lib\\site-packages\\sklearn\\svm\\base.py:193: FutureWarning: The default value of gamma will change from 'auto' to 'scale' in version 0.22 to account better for unscaled features. Set gamma explicitly to 'auto' or 'scale' to avoid this warning.\n",
      "  \"avoid this warning.\", FutureWarning)\n"
     ]
    },
    {
     "name": "stdout",
     "output_type": "stream",
     "text": [
      "AUC (fold 9/10): 0.8859630230703182\n",
      "Accuracy Test Fold 9 : 92.07499999999999\n",
      "Accuracy Train Fold 9 : 94.72222222222221\n",
      " \n",
      "Train Index:  [    0     1     2 ... 35997 35998 35999]\n",
      "Test Index:  [36000 36001 36002 ... 39997 39998 39999]\n"
     ]
    },
    {
     "name": "stderr",
     "output_type": "stream",
     "text": [
      "C:\\ProgramData\\Anaconda3\\lib\\site-packages\\sklearn\\svm\\base.py:193: FutureWarning: The default value of gamma will change from 'auto' to 'scale' in version 0.22 to account better for unscaled features. Set gamma explicitly to 'auto' or 'scale' to avoid this warning.\n",
      "  \"avoid this warning.\", FutureWarning)\n"
     ]
    },
    {
     "name": "stdout",
     "output_type": "stream",
     "text": [
      "AUC (fold 10/10): 0.8828657009316687\n",
      "Accuracy Test Fold 10 : 91.75\n",
      "Accuracy Train Fold 10 : 94.84722222222223\n",
      " \n",
      "Mean AUC: 0.8898048551950255\n",
      "Mean Test Accuracy: 92.2775\n",
      "Mean Train Accuracy: 94.74277777777777\n"
     ]
    }
   ],
   "source": [
    "for train_index, test_index in cv.split(X_train_80):\n",
    "    print(\"Train Index: \", train_index)\n",
    "    print(\"Test Index: \", test_index)\n",
    "    X_train_cv, X_test_cv= X_train_80[train_index], X_train_80[test_index]\n",
    "    y_train_cv, y_test_cv = y_train_80[train_index], y_train_80[test_index]\n",
    "\n",
    "    # train model and make predictions         \n",
    "    svm_rbf_cv.fit(X_train_cv, y_train_cv) \n",
    "    \n",
    "    #predict train\n",
    "    preds_train = svm_rbf_cv.predict(X_train_cv)\n",
    "\n",
    "    #predict test\n",
    "    preds_test = svm_rbf_cv.predict(X_test_cv)\n",
    "    \n",
    "    i+=1\n",
    "    # compute AUC metric for this CV fold\n",
    "    fpr, tpr, thresholds = metrics.roc_curve(y_test_cv, preds_test)\n",
    "    roc_auc = metrics.auc(fpr, tpr)\n",
    "    print (\"AUC (fold \"+str(i)+\"/\"+str(n)+\"): \"+str(roc_auc))\n",
    "    mean_auc += roc_auc\n",
    "    \n",
    "    print(\"Accuracy Test Fold \"+str(i)+\" : \"+str(metrics.accuracy_score(y_test_cv,preds_test)*100))\n",
    "    accuracy_test+=metrics.accuracy_score(y_test_cv,preds_test)*100\n",
    "    print(\"Accuracy Train Fold \"+str(i)+\" : \"+str(metrics.accuracy_score(y_train_cv,preds_train)*100))\n",
    "    accuracy_train+=metrics.accuracy_score(y_train_cv,preds_train)*100\n",
    "    print( \" \")\n",
    "    \n",
    "print (\"Mean AUC: \"+str(mean_auc/n) )\n",
    "print (\"Mean Test Accuracy: \"+str(accuracy_test/n))\n",
    "print (\"Mean Train Accuracy: \"+str(accuracy_train/n))"
   ]
  },
  {
   "cell_type": "code",
   "execution_count": 14,
   "metadata": {},
   "outputs": [],
   "source": [
    "#rbf - predict for Test\n",
    "y_pred_2 = svm_rbf_cv.predict(X_test)"
   ]
  },
  {
   "cell_type": "code",
   "execution_count": 15,
   "metadata": {},
   "outputs": [
    {
     "name": "stdout",
     "output_type": "stream",
     "text": [
      "[[7117  328]\n",
      " [ 546 2009]]\n",
      "              precision    recall  f1-score   support\n",
      "\n",
      "           0       0.93      0.96      0.94      7445\n",
      "           1       0.86      0.79      0.82      2555\n",
      "\n",
      "    accuracy                           0.91     10000\n",
      "   macro avg       0.89      0.87      0.88     10000\n",
      "weighted avg       0.91      0.91      0.91     10000\n",
      "\n"
     ]
    }
   ],
   "source": [
    "from sklearn.metrics import classification_report, confusion_matrix\n",
    "print(confusion_matrix(y_test,y_pred_2))\n",
    "print(classification_report(y_test,y_pred_2))"
   ]
  },
  {
   "cell_type": "code",
   "execution_count": null,
   "metadata": {},
   "outputs": [],
   "source": [
    "#Learning Curve"
   ]
  },
  {
   "cell_type": "code",
   "execution_count": 16,
   "metadata": {},
   "outputs": [
    {
     "data": {
      "image/png": "[encoded data removed]",
      "text/plain": [
       "<Figure size 576x396 with 1 Axes>"
      ]
     },
     "metadata": {},
     "output_type": "display_data"
    },
    {
     "data": {
      "text/plain": [
       "<matplotlib.axes._subplots.AxesSubplot at 0x241f446c898>"
      ]
     },
     "execution_count": 16,
     "metadata": {},
     "output_type": "execute_result"
    }
   ],
   "source": [
    "from yellowbrick.model_selection import LearningCurve\n",
    "sizes = np.linspace(0.3, 1.0, 10)\n",
    "visualizer = LearningCurve(\n",
    "    svm_rbf_cv, cv=cv, scoring='accuracy', train_sizes=sizes, n_jobs=4\n",
    ")\n",
    "\n",
    "visualizer.fit(X_train_80,y_train_80)        # Fit the data to the visualizer\n",
    "visualizer.show() "
   ]
  },
  {
   "cell_type": "code",
   "execution_count": 18,
   "metadata": {},
   "outputs": [
    {
     "data": {
      "image/png": "[encoded data removed]",
      "text/plain": [
       "<Figure size 576x396 with 1 Axes>"
      ]
     },
     "metadata": {},
     "output_type": "display_data"
    },
    {
     "data": {
      "text/plain": [
       "<matplotlib.axes._subplots.AxesSubplot at 0x241f4559eb8>"
      ]
     },
     "execution_count": 18,
     "metadata": {},
     "output_type": "execute_result"
    }
   ],
   "source": [
    "from yellowbrick.model_selection import LearningCurve\n",
    "sizes = np.linspace(0.3, 1.0, 10)\n",
    "visualizer = LearningCurve(\n",
    "    svm_rbf_cv, cv=cv, scoring='f1_weighted', train_sizes=sizes, n_jobs=4\n",
    ")\n",
    "\n",
    "visualizer.fit(X_train_80,y_train_80)        # Fit the data to the visualizer\n",
    "visualizer.show() "
   ]
  },
  {
   "cell_type": "code",
   "execution_count": null,
   "metadata": {},
   "outputs": [],
   "source": [
    "##Polynomial Kernel"
   ]
  },
  {
   "cell_type": "code",
   "execution_count": 11,
   "metadata": {},
   "outputs": [],
   "source": [
    "\n",
    "scores = []\n",
    "n=10\n",
    "i=0\n",
    "mean_auc=0\n",
    "accuracy_test=0\n",
    "accuracy_train=0\n",
    "svm_poly_cv = SVC(kernel='poly')\n",
    "cv = KFold(n_splits=n, random_state=42, shuffle=False)\n",
    "#print(cv.split(X_train_80))"
   ]
  },
  {
   "cell_type": "code",
   "execution_count": null,
   "metadata": {},
   "outputs": [],
   "source": []
  },
  {
   "cell_type": "code",
   "execution_count": null,
   "metadata": {
    "scrolled": true
   },
   "outputs": [
    {
     "name": "stdout",
     "output_type": "stream",
     "text": [
      "Train Index:  [ 8000  8001  8002 ... 79997 79998 79999]\n",
      "Test Index:  [   0    1    2 ... 7997 7998 7999]\n"
     ]
    },
    {
     "name": "stderr",
     "output_type": "stream",
     "text": [
      "C:\\ProgramData\\Anaconda3\\lib\\site-packages\\sklearn\\svm\\base.py:193: FutureWarning: The default value of gamma will change from 'auto' to 'scale' in version 0.22 to account better for unscaled features. Set gamma explicitly to 'auto' or 'scale' to avoid this warning.\n",
      "  \"avoid this warning.\", FutureWarning)\n"
     ]
    },
    {
     "name": "stdout",
     "output_type": "stream",
     "text": [
      "AUC (fold 1/10): 0.9500973741007549\n",
      "Accuracy Test Fold 1 : 96.22500000000001\n",
      "Accuracy Train Fold 1 : 96.4875\n",
      " \n",
      "Train Index:  [    0     1     2 ... 79997 79998 79999]\n",
      "Test Index:  [ 8000  8001  8002 ... 15997 15998 15999]\n"
     ]
    },
    {
     "name": "stderr",
     "output_type": "stream",
     "text": [
      "C:\\ProgramData\\Anaconda3\\lib\\site-packages\\sklearn\\svm\\base.py:193: FutureWarning: The default value of gamma will change from 'auto' to 'scale' in version 0.22 to account better for unscaled features. Set gamma explicitly to 'auto' or 'scale' to avoid this warning.\n",
      "  \"avoid this warning.\", FutureWarning)\n"
     ]
    }
   ],
   "source": [
    "for train_index, test_index in cv.split(X_train_80):\n",
    "    print(\"Train Index: \", train_index)\n",
    "    print(\"Test Index: \", test_index)\n",
    "    X_train_cv, X_test_cv= X_train_80[train_index], X_train_80[test_index]\n",
    "    y_train_cv, y_test_cv = y_train_80[train_index], y_train_80[test_index]\n",
    "\n",
    "    # train model and make predictions\n",
    "    svm_poly_cv.fit(X_train_cv, y_train_cv) \n",
    "    \n",
    "    #predict train\n",
    "    preds_train = svm_poly_cv.predict(X_train_cv)\n",
    "\n",
    "    #predict test\n",
    "    preds_test = svm_poly_cv.predict(X_test_cv)\n",
    "    \n",
    "    i+=1\n",
    "    # compute AUC metric for this CV fold\n",
    "    fpr, tpr, thresholds = metrics.roc_curve(y_test_cv, preds_test)\n",
    "    roc_auc = metrics.auc(fpr, tpr)\n",
    "    print (\"AUC (fold \"+str(i)+\"/\"+str(n)+\"): \"+str(roc_auc))\n",
    "    mean_auc += roc_auc\n",
    "    \n",
    "    print(\"Accuracy Test Fold \"+str(i)+\" : \"+str(metrics.accuracy_score(y_test_cv,preds_test)*100))\n",
    "    accuracy_test+=metrics.accuracy_score(y_test_cv,preds_test)*100\n",
    "    print(\"Accuracy Train Fold \"+str(i)+\" : \"+str(metrics.accuracy_score(y_train_cv,preds_train)*100))\n",
    "    accuracy_train+=metrics.accuracy_score(y_train_cv,preds_train)*100\n",
    "    print( \" \")\n",
    "    \n",
    "print (\"Mean AUC: \"+str(mean_auc/n) )\n",
    "print (\"Mean Test Accuracy: \"+str(accuracy_test/n))\n",
    "print (\"Mean Train Accuracy: \"+str(accuracy_train/n))"
   ]
  },
  {
   "cell_type": "code",
   "execution_count": null,
   "metadata": {},
   "outputs": [],
   "source": []
  },
  {
   "cell_type": "code",
   "execution_count": null,
   "metadata": {},
   "outputs": [],
   "source": [
    "#poly - predict for Test \n",
    "y_pred_3 = svm_poly_cv.predict(X_test)"
   ]
  },
  {
   "cell_type": "code",
   "execution_count": null,
   "metadata": {},
   "outputs": [],
   "source": [
    "from sklearn.metrics import classification_report, confusion_matrix\n",
    "print(confusion_matrix(y_test,y_pred_3))\n",
    "print(classification_report(y_test,y_pred_3))"
   ]
  },
  {
   "cell_type": "code",
   "execution_count": null,
   "metadata": {},
   "outputs": [],
   "source": [
    "#Plot ROC-AUC for all three predictions"
   ]
  },
  {
   "cell_type": "code",
   "execution_count": null,
   "metadata": {},
   "outputs": [],
   "source": [
    "from sklearn import metrics\n",
    "import matplotlib.pyplot as plt\n",
    "\n",
    "fpr1, tpr1, _ = metrics.roc_curve(y_test,  y_pred_1)\n",
    "fpr2, tpr2, _ = metrics.roc_curve(y_test,  y_pred_2)\n",
    "fpr3,tpr3, _ = metrics.roc_curve(y_test, y_pred_3)\n",
    "\n",
    "auc1 = metrics.roc_auc_score(y_test, y_pred_1)\n",
    "auc2 = metrics.roc_auc_score(y_test, y_pred_2)\n",
    "auc3 = metrics.roc_auc_score(y_test, y_pred_3)\n",
    "plt.plot(fpr1,tpr1,label=\"Linear, auc=\"+str(auc1))\n",
    "plt.plot(fpr2,tpr2,label=\"RBF, auc=\"+str(auc2))\n",
    "plt.plot(fpr3,tpr3,label=\"Poly, auc=\"+str(auc3))\n",
    "\n",
    "plt.legend(loc=4)\n",
    "plt.show()"
   ]
  },
  {
   "cell_type": "code",
   "execution_count": null,
   "metadata": {},
   "outputs": [],
   "source": [
    "##Perform Grid Search to find the best hyperparamter"
   ]
  },
  {
   "cell_type": "code",
   "execution_count": 12,
   "metadata": {},
   "outputs": [
    {
     "name": "stdout",
     "output_type": "stream",
     "text": [
      "Best Parameters for rbf : {'C': 10, 'gamma': 0.001}\n"
     ]
    }
   ],
   "source": [
    "from sklearn.model_selection import GridSearchCV\n",
    "\n",
    "def svc_param_selection(X, y, nfolds):\n",
    "    Cs = [0.001, 0.01, 0.1, 1, 10]\n",
    "    gammas = [0.001, 0.01, 0.1, 1]\n",
    "    param_grid = {'C': Cs, 'gamma' : gammas}\n",
    "    grid_search = GridSearchCV(SVC(kernel='rbf'), param_grid, cv=nfolds)\n",
    "    grid_search.fit(X, y)\n",
    "    grid_search.best_params_\n",
    "    return grid_search.best_params_\n",
    "\n",
    "print(\"Best Parameters for rbf :\",svc_param_selection(X_train_80,y_train_80,cv))"
   ]
  },
  {
   "cell_type": "code",
   "execution_count": 13,
   "metadata": {},
   "outputs": [
    {
     "name": "stdout",
     "output_type": "stream",
     "text": [
      "Best Parameters for linear : {'C': 0.001, 'gamma': 0.001}\n"
     ]
    }
   ],
   "source": [
    "from sklearn.model_selection import GridSearchCV\n",
    "\n",
    "def svc_param_selection(X, y, nfolds):\n",
    "    Cs = [0.001, 0.01, 0.1, 1, 10]\n",
    "    gammas = [0.001, 0.01, 0.1, 1]\n",
    "    param_grid = {'C': Cs, 'gamma' : gammas}\n",
    "    grid_search = GridSearchCV(SVC(kernel='linear'), param_grid, cv=nfolds)\n",
    "    grid_search.fit(X, y)\n",
    "    grid_search.best_params_\n",
    "    return grid_search.best_params_\n",
    "\n",
    "print(\"Best Parameters for linear :\",svc_param_selection(X_train_80,y_train_80,cv))"
   ]
  },
  {
   "cell_type": "code",
   "execution_count": null,
   "metadata": {},
   "outputs": [],
   "source": [
    "from sklearn.model_selection import GridSearchCV\n",
    "\n",
    "def svc_param_selection(X, y, nfolds):\n",
    "    Cs = [0.001, 0.01, 0.1, 1, 10]\n",
    "    gammas = [0.001, 0.01, 0.1, 1]\n",
    "    param_grid = {'C': Cs, 'gamma' : gammas}\n",
    "    grid_search = GridSearchCV(SVC(kernel='poly'), param_grid, cv=nfolds)\n",
    "    grid_search.fit(X, y)\n",
    "    grid_search.best_params_\n",
    "    return grid_search.best_params_\n",
    "\n",
    "print(\"Best Parameters for linear :\",svc_param_selection(X_train_80,y_train_80,cv))"
   ]
  },
  {
   "cell_type": "code",
   "execution_count": null,
   "metadata": {},
   "outputs": [],
   "source": [
    "#Run the model with linear Kernel for the best hyperparameters"
   ]
  },
  {
   "cell_type": "code",
   "execution_count": null,
   "metadata": {},
   "outputs": [],
   "source": [
    "\n",
    "scores = []\n",
    "n=10\n",
    "i=0\n",
    "mean_auc=0\n",
    "accuracy_test=0\n",
    "accuracy_train=0\n",
    "svm_sig_cv = SVC(kernel='linear',C= 0.001, gamma = 0.001)\n",
    "cv = KFold(n_splits=n, random_state=42, shuffle=False)\n"
   ]
  },
  {
   "cell_type": "code",
   "execution_count": null,
   "metadata": {},
   "outputs": [],
   "source": [
    "for train_index, test_index in cv.split(X_train_80):\n",
    "    print(\"Train Index: \", train_index)\n",
    "    print(\"Test Index: \", test_index)\n",
    "    X_train_cv, X_test_cv= X_train_80[train_index], X_train_80[test_index]\n",
    "    y_train_cv, y_test_cv = y_train_80[train_index], y_train_80[test_index]\n",
    "\n",
    "    # train model and make predictions\n",
    "    svm_sig_cv.fit(X_train_cv, y_train_cv) \n",
    "    \n",
    "    #predict train\n",
    "    preds_train = svm_sig_cv.predict(X_train_cv)\n",
    "\n",
    "    #predict test\n",
    "    preds_test = svm_sig_cv.predict(X_test_cv)\n",
    "    \n",
    "    i+=1\n",
    "    # compute AUC metric for this CV fold\n",
    "    fpr, tpr, thresholds = metrics.roc_curve(y_test_cv, preds_test)\n",
    "    roc_auc = metrics.auc(fpr, tpr)\n",
    "    print (\"AUC (fold \"+str(i)+\"/\"+str(n)+\"): \"+str(roc_auc))\n",
    "    mean_auc += roc_auc\n",
    "    \n",
    "    print(\"Accuracy Test Fold \"+str(i)+\" : \"+str(metrics.accuracy_score(y_test_cv,preds_test)*100))\n",
    "    accuracy_test+=metrics.accuracy_score(y_test_cv,preds_test)*100\n",
    "    print(\"Accuracy Train Fold \"+str(i)+\" : \"+str(metrics.accuracy_score(y_train_cv,preds_train)*100))\n",
    "    accuracy_train+=metrics.accuracy_score(y_train_cv,preds_train)*100\n",
    "    print( \" \")\n",
    "    \n",
    "print (\"Mean AUC: \"+str(mean_auc/n) )\n",
    "print (\"Mean Test Accuracy: \"+str(accuracy_test/n))\n",
    "print (\"Mean Train Accuracy: \"+str(accuracy_train/n))"
   ]
  },
  {
   "cell_type": "code",
   "execution_count": null,
   "metadata": {},
   "outputs": [],
   "source": [
    "y_pred = svm_sig_cv.predict(X_test)"
   ]
  },
  {
   "cell_type": "code",
   "execution_count": null,
   "metadata": {},
   "outputs": [],
   "source": [
    "from sklearn.metrics import classification_report, confusion_matrix\n",
    "print(confusion_matrix(y_test,y_pred))\n",
    "print(classification_report(y_test,y_pred))"
   ]
  }
 ],
 "metadata": {
  "kernelspec": {
   "display_name": "Python 3",
   "language": "python",
   "name": "python3"
  },
  "language_info": {
   "codemirror_mode": {
    "name": "ipython",
    "version": 3
   },
   "file_extension": ".py",
   "mimetype": "text/x-python",
   "name": "python",
   "nbconvert_exporter": "python",
   "pygments_lexer": "ipython3",
   "version": "3.7.3"
  }
 },
 "nbformat": 4,
 "nbformat_minor": 2
}
