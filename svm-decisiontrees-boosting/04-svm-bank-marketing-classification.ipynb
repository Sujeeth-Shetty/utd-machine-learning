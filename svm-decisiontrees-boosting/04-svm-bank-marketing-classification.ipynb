{
 "cells": [
  {
   "cell_type": "code",
   "execution_count": 2,
   "metadata": {},
   "outputs": [],
   "source": [
    "import pandas as pd\n",
    "import numpy as np\n",
    "import matplotlib.pyplot as plt\n",
    "from sklearn import metrics\n",
    "from sklearn.model_selection import KFold\n",
    "from sklearn.svm import SVC\n",
    "import seaborn as sns\n",
    "from sklearn.preprocessing import LabelEncoder \n",
    "\n",
    "%matplotlib inline"
   ]
  },
  {
   "cell_type": "code",
   "execution_count": null,
   "metadata": {},
   "outputs": [],
   "source": [
    "#Read Data"
   ]
  },
  {
   "cell_type": "code",
   "execution_count": 3,
   "metadata": {},
   "outputs": [
    {
     "data": {
      "text/html": [
       "<div>\n",
       "<style scoped>\n",
       "    .dataframe tbody tr th:only-of-type {\n",
       "        vertical-align: middle;\n",
       "    }\n",
       "\n",
       "    .dataframe tbody tr th {\n",
       "        vertical-align: top;\n",
       "    }\n",
       "\n",
       "    .dataframe thead th {\n",
       "        text-align: right;\n",
       "    }\n",
       "</style>\n",
       "<table border=\"1\" class=\"dataframe\">\n",
       "  <thead>\n",
       "    <tr style=\"text-align: right;\">\n",
       "      <th></th>\n",
       "      <th>age</th>\n",
       "      <th>job</th>\n",
       "      <th>marital</th>\n",
       "      <th>education</th>\n",
       "      <th>default</th>\n",
       "      <th>housing</th>\n",
       "      <th>loan</th>\n",
       "      <th>contact</th>\n",
       "      <th>month</th>\n",
       "      <th>day_of_week</th>\n",
       "      <th>...</th>\n",
       "      <th>campaign</th>\n",
       "      <th>pdays</th>\n",
       "      <th>previous</th>\n",
       "      <th>poutcome</th>\n",
       "      <th>emp.var.rate</th>\n",
       "      <th>cons.price.idx</th>\n",
       "      <th>cons.conf.idx</th>\n",
       "      <th>euribor3m</th>\n",
       "      <th>nr.employed</th>\n",
       "      <th>y</th>\n",
       "    </tr>\n",
       "  </thead>\n",
       "  <tbody>\n",
       "    <tr>\n",
       "      <th>0</th>\n",
       "      <td>56</td>\n",
       "      <td>housemaid</td>\n",
       "      <td>married</td>\n",
       "      <td>basic.4y</td>\n",
       "      <td>no</td>\n",
       "      <td>no</td>\n",
       "      <td>no</td>\n",
       "      <td>telephone</td>\n",
       "      <td>may</td>\n",
       "      <td>mon</td>\n",
       "      <td>...</td>\n",
       "      <td>1</td>\n",
       "      <td>999</td>\n",
       "      <td>0</td>\n",
       "      <td>nonexistent</td>\n",
       "      <td>1.1</td>\n",
       "      <td>93.994</td>\n",
       "      <td>-36.4</td>\n",
       "      <td>4.857</td>\n",
       "      <td>5191.0</td>\n",
       "      <td>no</td>\n",
       "    </tr>\n",
       "    <tr>\n",
       "      <th>1</th>\n",
       "      <td>57</td>\n",
       "      <td>services</td>\n",
       "      <td>married</td>\n",
       "      <td>high.school</td>\n",
       "      <td>unknown</td>\n",
       "      <td>no</td>\n",
       "      <td>no</td>\n",
       "      <td>telephone</td>\n",
       "      <td>may</td>\n",
       "      <td>mon</td>\n",
       "      <td>...</td>\n",
       "      <td>1</td>\n",
       "      <td>999</td>\n",
       "      <td>0</td>\n",
       "      <td>nonexistent</td>\n",
       "      <td>1.1</td>\n",
       "      <td>93.994</td>\n",
       "      <td>-36.4</td>\n",
       "      <td>4.857</td>\n",
       "      <td>5191.0</td>\n",
       "      <td>no</td>\n",
       "    </tr>\n",
       "    <tr>\n",
       "      <th>2</th>\n",
       "      <td>37</td>\n",
       "      <td>services</td>\n",
       "      <td>married</td>\n",
       "      <td>high.school</td>\n",
       "      <td>no</td>\n",
       "      <td>yes</td>\n",
       "      <td>no</td>\n",
       "      <td>telephone</td>\n",
       "      <td>may</td>\n",
       "      <td>mon</td>\n",
       "      <td>...</td>\n",
       "      <td>1</td>\n",
       "      <td>999</td>\n",
       "      <td>0</td>\n",
       "      <td>nonexistent</td>\n",
       "      <td>1.1</td>\n",
       "      <td>93.994</td>\n",
       "      <td>-36.4</td>\n",
       "      <td>4.857</td>\n",
       "      <td>5191.0</td>\n",
       "      <td>no</td>\n",
       "    </tr>\n",
       "    <tr>\n",
       "      <th>3</th>\n",
       "      <td>40</td>\n",
       "      <td>admin.</td>\n",
       "      <td>married</td>\n",
       "      <td>basic.6y</td>\n",
       "      <td>no</td>\n",
       "      <td>no</td>\n",
       "      <td>no</td>\n",
       "      <td>telephone</td>\n",
       "      <td>may</td>\n",
       "      <td>mon</td>\n",
       "      <td>...</td>\n",
       "      <td>1</td>\n",
       "      <td>999</td>\n",
       "      <td>0</td>\n",
       "      <td>nonexistent</td>\n",
       "      <td>1.1</td>\n",
       "      <td>93.994</td>\n",
       "      <td>-36.4</td>\n",
       "      <td>4.857</td>\n",
       "      <td>5191.0</td>\n",
       "      <td>no</td>\n",
       "    </tr>\n",
       "    <tr>\n",
       "      <th>4</th>\n",
       "      <td>56</td>\n",
       "      <td>services</td>\n",
       "      <td>married</td>\n",
       "      <td>high.school</td>\n",
       "      <td>no</td>\n",
       "      <td>no</td>\n",
       "      <td>yes</td>\n",
       "      <td>telephone</td>\n",
       "      <td>may</td>\n",
       "      <td>mon</td>\n",
       "      <td>...</td>\n",
       "      <td>1</td>\n",
       "      <td>999</td>\n",
       "      <td>0</td>\n",
       "      <td>nonexistent</td>\n",
       "      <td>1.1</td>\n",
       "      <td>93.994</td>\n",
       "      <td>-36.4</td>\n",
       "      <td>4.857</td>\n",
       "      <td>5191.0</td>\n",
       "      <td>no</td>\n",
       "    </tr>\n",
       "  </tbody>\n",
       "</table>\n",
       "<p>5 rows × 21 columns</p>\n",
       "</div>"
      ],
      "text/plain": [
       "   age        job  marital    education  default housing loan    contact  \\\n",
       "0   56  housemaid  married     basic.4y       no      no   no  telephone   \n",
       "1   57   services  married  high.school  unknown      no   no  telephone   \n",
       "2   37   services  married  high.school       no     yes   no  telephone   \n",
       "3   40     admin.  married     basic.6y       no      no   no  telephone   \n",
       "4   56   services  married  high.school       no      no  yes  telephone   \n",
       "\n",
       "  month day_of_week  ...  campaign  pdays  previous     poutcome emp.var.rate  \\\n",
       "0   may         mon  ...         1    999         0  nonexistent          1.1   \n",
       "1   may         mon  ...         1    999         0  nonexistent          1.1   \n",
       "2   may         mon  ...         1    999         0  nonexistent          1.1   \n",
       "3   may         mon  ...         1    999         0  nonexistent          1.1   \n",
       "4   may         mon  ...         1    999         0  nonexistent          1.1   \n",
       "\n",
       "   cons.price.idx  cons.conf.idx  euribor3m  nr.employed   y  \n",
       "0          93.994          -36.4      4.857       5191.0  no  \n",
       "1          93.994          -36.4      4.857       5191.0  no  \n",
       "2          93.994          -36.4      4.857       5191.0  no  \n",
       "3          93.994          -36.4      4.857       5191.0  no  \n",
       "4          93.994          -36.4      4.857       5191.0  no  \n",
       "\n",
       "[5 rows x 21 columns]"
      ]
     },
     "execution_count": 3,
     "metadata": {},
     "output_type": "execute_result"
    }
   ],
   "source": [
    "\n",
    "data_1=pd.read_csv(\"bank-additional-full.csv\",sep=\";\")\n",
    "data_2=pd.read_csv(\"bank-additional.csv\",sep=\";\")\n",
    "data=pd.concat([data_1,data_2],axis=0)\n",
    "data.head()"
   ]
  },
  {
   "cell_type": "code",
   "execution_count": 174,
   "metadata": {
    "scrolled": true
   },
   "outputs": [
    {
     "data": {
      "text/plain": [
       "Text(0.5, 1, 'Variable Correlation')"
      ]
     },
     "execution_count": 174,
     "metadata": {},
     "output_type": "execute_result"
    },
    {
     "data": {
      "image/png": "[encoded data removed]",
      "text/plain": [
       "<Figure size 1008x1008 with 2 Axes>"
      ]
     },
     "metadata": {},
     "output_type": "display_data"
    }
   ],
   "source": [
    "#Correlation Plot\n",
    "plt.figure(figsize=(14,14))\n",
    "sns.set(font_scale=1)\n",
    "sns.heatmap(data.corr(),cmap='GnBu_r',annot=True, square = True ,linewidths=.5);\n",
    "plt.title('Variable Correlation')"
   ]
  },
  {
   "cell_type": "code",
   "execution_count": 4,
   "metadata": {},
   "outputs": [
    {
     "data": {
      "text/html": [
       "<div>\n",
       "<style scoped>\n",
       "    .dataframe tbody tr th:only-of-type {\n",
       "        vertical-align: middle;\n",
       "    }\n",
       "\n",
       "    .dataframe tbody tr th {\n",
       "        vertical-align: top;\n",
       "    }\n",
       "\n",
       "    .dataframe thead th {\n",
       "        text-align: right;\n",
       "    }\n",
       "</style>\n",
       "<table border=\"1\" class=\"dataframe\">\n",
       "  <thead>\n",
       "    <tr style=\"text-align: right;\">\n",
       "      <th></th>\n",
       "      <th>age</th>\n",
       "      <th>job</th>\n",
       "      <th>marital</th>\n",
       "      <th>education</th>\n",
       "      <th>default</th>\n",
       "      <th>housing</th>\n",
       "      <th>loan</th>\n",
       "      <th>contact</th>\n",
       "      <th>month</th>\n",
       "      <th>day_of_week</th>\n",
       "      <th>duration</th>\n",
       "      <th>campaign</th>\n",
       "      <th>pdays</th>\n",
       "      <th>previous</th>\n",
       "      <th>poutcome</th>\n",
       "      <th>cons.price.idx</th>\n",
       "      <th>cons.conf.idx</th>\n",
       "      <th>euribor3m</th>\n",
       "      <th>y</th>\n",
       "    </tr>\n",
       "  </thead>\n",
       "  <tbody>\n",
       "    <tr>\n",
       "      <th>0</th>\n",
       "      <td>56</td>\n",
       "      <td>housemaid</td>\n",
       "      <td>married</td>\n",
       "      <td>basic.4y</td>\n",
       "      <td>no</td>\n",
       "      <td>no</td>\n",
       "      <td>no</td>\n",
       "      <td>telephone</td>\n",
       "      <td>may</td>\n",
       "      <td>mon</td>\n",
       "      <td>261</td>\n",
       "      <td>1</td>\n",
       "      <td>999</td>\n",
       "      <td>0</td>\n",
       "      <td>nonexistent</td>\n",
       "      <td>93.994</td>\n",
       "      <td>-36.4</td>\n",
       "      <td>4.857</td>\n",
       "      <td>no</td>\n",
       "    </tr>\n",
       "    <tr>\n",
       "      <th>1</th>\n",
       "      <td>57</td>\n",
       "      <td>services</td>\n",
       "      <td>married</td>\n",
       "      <td>high.school</td>\n",
       "      <td>unknown</td>\n",
       "      <td>no</td>\n",
       "      <td>no</td>\n",
       "      <td>telephone</td>\n",
       "      <td>may</td>\n",
       "      <td>mon</td>\n",
       "      <td>149</td>\n",
       "      <td>1</td>\n",
       "      <td>999</td>\n",
       "      <td>0</td>\n",
       "      <td>nonexistent</td>\n",
       "      <td>93.994</td>\n",
       "      <td>-36.4</td>\n",
       "      <td>4.857</td>\n",
       "      <td>no</td>\n",
       "    </tr>\n",
       "    <tr>\n",
       "      <th>2</th>\n",
       "      <td>37</td>\n",
       "      <td>services</td>\n",
       "      <td>married</td>\n",
       "      <td>high.school</td>\n",
       "      <td>no</td>\n",
       "      <td>yes</td>\n",
       "      <td>no</td>\n",
       "      <td>telephone</td>\n",
       "      <td>may</td>\n",
       "      <td>mon</td>\n",
       "      <td>226</td>\n",
       "      <td>1</td>\n",
       "      <td>999</td>\n",
       "      <td>0</td>\n",
       "      <td>nonexistent</td>\n",
       "      <td>93.994</td>\n",
       "      <td>-36.4</td>\n",
       "      <td>4.857</td>\n",
       "      <td>no</td>\n",
       "    </tr>\n",
       "    <tr>\n",
       "      <th>3</th>\n",
       "      <td>40</td>\n",
       "      <td>admin.</td>\n",
       "      <td>married</td>\n",
       "      <td>basic.6y</td>\n",
       "      <td>no</td>\n",
       "      <td>no</td>\n",
       "      <td>no</td>\n",
       "      <td>telephone</td>\n",
       "      <td>may</td>\n",
       "      <td>mon</td>\n",
       "      <td>151</td>\n",
       "      <td>1</td>\n",
       "      <td>999</td>\n",
       "      <td>0</td>\n",
       "      <td>nonexistent</td>\n",
       "      <td>93.994</td>\n",
       "      <td>-36.4</td>\n",
       "      <td>4.857</td>\n",
       "      <td>no</td>\n",
       "    </tr>\n",
       "    <tr>\n",
       "      <th>4</th>\n",
       "      <td>56</td>\n",
       "      <td>services</td>\n",
       "      <td>married</td>\n",
       "      <td>high.school</td>\n",
       "      <td>no</td>\n",
       "      <td>no</td>\n",
       "      <td>yes</td>\n",
       "      <td>telephone</td>\n",
       "      <td>may</td>\n",
       "      <td>mon</td>\n",
       "      <td>307</td>\n",
       "      <td>1</td>\n",
       "      <td>999</td>\n",
       "      <td>0</td>\n",
       "      <td>nonexistent</td>\n",
       "      <td>93.994</td>\n",
       "      <td>-36.4</td>\n",
       "      <td>4.857</td>\n",
       "      <td>no</td>\n",
       "    </tr>\n",
       "  </tbody>\n",
       "</table>\n",
       "</div>"
      ],
      "text/plain": [
       "   age        job  marital    education  default housing loan    contact  \\\n",
       "0   56  housemaid  married     basic.4y       no      no   no  telephone   \n",
       "1   57   services  married  high.school  unknown      no   no  telephone   \n",
       "2   37   services  married  high.school       no     yes   no  telephone   \n",
       "3   40     admin.  married     basic.6y       no      no   no  telephone   \n",
       "4   56   services  married  high.school       no      no  yes  telephone   \n",
       "\n",
       "  month day_of_week  duration  campaign  pdays  previous     poutcome  \\\n",
       "0   may         mon       261         1    999         0  nonexistent   \n",
       "1   may         mon       149         1    999         0  nonexistent   \n",
       "2   may         mon       226         1    999         0  nonexistent   \n",
       "3   may         mon       151         1    999         0  nonexistent   \n",
       "4   may         mon       307         1    999         0  nonexistent   \n",
       "\n",
       "   cons.price.idx  cons.conf.idx  euribor3m   y  \n",
       "0          93.994          -36.4      4.857  no  \n",
       "1          93.994          -36.4      4.857  no  \n",
       "2          93.994          -36.4      4.857  no  \n",
       "3          93.994          -36.4      4.857  no  \n",
       "4          93.994          -36.4      4.857  no  "
      ]
     },
     "execution_count": 4,
     "metadata": {},
     "output_type": "execute_result"
    }
   ],
   "source": [
    "#To avoid mulicorinality drop the higly correltaed column\n",
    "data = data.drop([\"emp.var.rate\",\"nr.employed\"],axis=1)\n",
    "data.head()\n"
   ]
  },
  {
   "cell_type": "code",
   "execution_count": 5,
   "metadata": {},
   "outputs": [
    {
     "data": {
      "text/plain": [
       "dtype('int8')"
      ]
     },
     "execution_count": 5,
     "metadata": {},
     "output_type": "execute_result"
    }
   ],
   "source": [
    "#label encoding\n",
    "\n",
    "jobDummies = pd.get_dummies(data['job'], prefix = 'job')\n",
    "maritalDummies = pd.get_dummies(data['marital'], prefix = 'marital')\n",
    "educationDummies = pd.get_dummies(data['education'], prefix = 'education')\n",
    "defaultDummies = pd.get_dummies(data['default'], prefix = 'default')\n",
    "housingDummies = pd.get_dummies(data['housing'], prefix = 'housing')\n",
    "loanDummies = pd.get_dummies(data['loan'], prefix = 'loan')\n",
    "contactDummies = pd.get_dummies(data['contact'], prefix = 'contact')\n",
    "poutcomeDummies = pd.get_dummies(data['poutcome'], prefix = 'poutcome')\n",
    "data['month']=data['month'].astype('category')\n",
    "data['day_of_week']=data['day_of_week'].astype('category')\n",
    "data['y']=data['y'].astype('category')\n",
    "\n",
    "# Assigning numerical values and storing in another column\n",
    "data['month'] = data['month'].cat.codes\n",
    "data['day_of_week'] = data['day_of_week'].cat.codes\n",
    "data['y'] = data['y'].cat.codes\n",
    "\n",
    "data['y'].dtype"
   ]
  },
  {
   "cell_type": "code",
   "execution_count": 6,
   "metadata": {},
   "outputs": [
    {
     "data": {
      "text/html": [
       "<div>\n",
       "<style scoped>\n",
       "    .dataframe tbody tr th:only-of-type {\n",
       "        vertical-align: middle;\n",
       "    }\n",
       "\n",
       "    .dataframe tbody tr th {\n",
       "        vertical-align: top;\n",
       "    }\n",
       "\n",
       "    .dataframe thead th {\n",
       "        text-align: right;\n",
       "    }\n",
       "</style>\n",
       "<table border=\"1\" class=\"dataframe\">\n",
       "  <thead>\n",
       "    <tr style=\"text-align: right;\">\n",
       "      <th></th>\n",
       "      <th>age</th>\n",
       "      <th>duration</th>\n",
       "      <th>campaign</th>\n",
       "      <th>pdays</th>\n",
       "      <th>previous</th>\n",
       "      <th>cons.price.idx</th>\n",
       "      <th>cons.conf.idx</th>\n",
       "      <th>euribor3m</th>\n",
       "      <th>job_admin.</th>\n",
       "      <th>job_blue-collar</th>\n",
       "      <th>...</th>\n",
       "      <th>loan_unknown</th>\n",
       "      <th>loan_yes</th>\n",
       "      <th>contact_cellular</th>\n",
       "      <th>contact_telephone</th>\n",
       "      <th>poutcome_failure</th>\n",
       "      <th>poutcome_nonexistent</th>\n",
       "      <th>poutcome_success</th>\n",
       "      <th>month</th>\n",
       "      <th>day_of_week</th>\n",
       "      <th>y</th>\n",
       "    </tr>\n",
       "  </thead>\n",
       "  <tbody>\n",
       "    <tr>\n",
       "      <th>0</th>\n",
       "      <td>56</td>\n",
       "      <td>261</td>\n",
       "      <td>1</td>\n",
       "      <td>999</td>\n",
       "      <td>0</td>\n",
       "      <td>93.994</td>\n",
       "      <td>-36.4</td>\n",
       "      <td>4.857</td>\n",
       "      <td>0</td>\n",
       "      <td>0</td>\n",
       "      <td>...</td>\n",
       "      <td>0</td>\n",
       "      <td>0</td>\n",
       "      <td>0</td>\n",
       "      <td>1</td>\n",
       "      <td>0</td>\n",
       "      <td>1</td>\n",
       "      <td>0</td>\n",
       "      <td>6</td>\n",
       "      <td>1</td>\n",
       "      <td>0</td>\n",
       "    </tr>\n",
       "    <tr>\n",
       "      <th>1</th>\n",
       "      <td>57</td>\n",
       "      <td>149</td>\n",
       "      <td>1</td>\n",
       "      <td>999</td>\n",
       "      <td>0</td>\n",
       "      <td>93.994</td>\n",
       "      <td>-36.4</td>\n",
       "      <td>4.857</td>\n",
       "      <td>0</td>\n",
       "      <td>0</td>\n",
       "      <td>...</td>\n",
       "      <td>0</td>\n",
       "      <td>0</td>\n",
       "      <td>0</td>\n",
       "      <td>1</td>\n",
       "      <td>0</td>\n",
       "      <td>1</td>\n",
       "      <td>0</td>\n",
       "      <td>6</td>\n",
       "      <td>1</td>\n",
       "      <td>0</td>\n",
       "    </tr>\n",
       "    <tr>\n",
       "      <th>2</th>\n",
       "      <td>37</td>\n",
       "      <td>226</td>\n",
       "      <td>1</td>\n",
       "      <td>999</td>\n",
       "      <td>0</td>\n",
       "      <td>93.994</td>\n",
       "      <td>-36.4</td>\n",
       "      <td>4.857</td>\n",
       "      <td>0</td>\n",
       "      <td>0</td>\n",
       "      <td>...</td>\n",
       "      <td>0</td>\n",
       "      <td>0</td>\n",
       "      <td>0</td>\n",
       "      <td>1</td>\n",
       "      <td>0</td>\n",
       "      <td>1</td>\n",
       "      <td>0</td>\n",
       "      <td>6</td>\n",
       "      <td>1</td>\n",
       "      <td>0</td>\n",
       "    </tr>\n",
       "    <tr>\n",
       "      <th>3</th>\n",
       "      <td>40</td>\n",
       "      <td>151</td>\n",
       "      <td>1</td>\n",
       "      <td>999</td>\n",
       "      <td>0</td>\n",
       "      <td>93.994</td>\n",
       "      <td>-36.4</td>\n",
       "      <td>4.857</td>\n",
       "      <td>1</td>\n",
       "      <td>0</td>\n",
       "      <td>...</td>\n",
       "      <td>0</td>\n",
       "      <td>0</td>\n",
       "      <td>0</td>\n",
       "      <td>1</td>\n",
       "      <td>0</td>\n",
       "      <td>1</td>\n",
       "      <td>0</td>\n",
       "      <td>6</td>\n",
       "      <td>1</td>\n",
       "      <td>0</td>\n",
       "    </tr>\n",
       "    <tr>\n",
       "      <th>4</th>\n",
       "      <td>56</td>\n",
       "      <td>307</td>\n",
       "      <td>1</td>\n",
       "      <td>999</td>\n",
       "      <td>0</td>\n",
       "      <td>93.994</td>\n",
       "      <td>-36.4</td>\n",
       "      <td>4.857</td>\n",
       "      <td>0</td>\n",
       "      <td>0</td>\n",
       "      <td>...</td>\n",
       "      <td>0</td>\n",
       "      <td>1</td>\n",
       "      <td>0</td>\n",
       "      <td>1</td>\n",
       "      <td>0</td>\n",
       "      <td>1</td>\n",
       "      <td>0</td>\n",
       "      <td>6</td>\n",
       "      <td>1</td>\n",
       "      <td>0</td>\n",
       "    </tr>\n",
       "  </tbody>\n",
       "</table>\n",
       "<p>5 rows × 49 columns</p>\n",
       "</div>"
      ],
      "text/plain": [
       "   age  duration  campaign  pdays  previous  cons.price.idx  cons.conf.idx  \\\n",
       "0   56       261         1    999         0          93.994          -36.4   \n",
       "1   57       149         1    999         0          93.994          -36.4   \n",
       "2   37       226         1    999         0          93.994          -36.4   \n",
       "3   40       151         1    999         0          93.994          -36.4   \n",
       "4   56       307         1    999         0          93.994          -36.4   \n",
       "\n",
       "   euribor3m  job_admin.  job_blue-collar  ...  loan_unknown  loan_yes  \\\n",
       "0      4.857           0                0  ...             0         0   \n",
       "1      4.857           0                0  ...             0         0   \n",
       "2      4.857           0                0  ...             0         0   \n",
       "3      4.857           1                0  ...             0         0   \n",
       "4      4.857           0                0  ...             0         1   \n",
       "\n",
       "   contact_cellular  contact_telephone  poutcome_failure  \\\n",
       "0                 0                  1                 0   \n",
       "1                 0                  1                 0   \n",
       "2                 0                  1                 0   \n",
       "3                 0                  1                 0   \n",
       "4                 0                  1                 0   \n",
       "\n",
       "   poutcome_nonexistent  poutcome_success  month  day_of_week  y  \n",
       "0                     1                 0      6            1  0  \n",
       "1                     1                 0      6            1  0  \n",
       "2                     1                 0      6            1  0  \n",
       "3                     1                 0      6            1  0  \n",
       "4                     1                 0      6            1  0  \n",
       "\n",
       "[5 rows x 49 columns]"
      ]
     },
     "execution_count": 6,
     "metadata": {},
     "output_type": "execute_result"
    }
   ],
   "source": [
    "data[\"age\"]=data[\"age\"].astype(\"int\")\n",
    "data[\"duration\"]=data[\"duration\"].astype(\"int\")\n",
    "data[\"pdays\"]=data[\"pdays\"].astype(\"int\")\n",
    "data[\"previous\"]=data[\"previous\"].astype(\"int\")\n",
    "data[\"campaign\"]=data[\"campaign\"].astype(\"int\")\n",
    "data_int=data.select_dtypes(include=['int','float64','bool'])\n",
    "#data_int\n",
    "bank_df=pd.concat([data_int,jobDummies,maritalDummies,educationDummies,defaultDummies,housingDummies,loanDummies\n",
    "                  ,contactDummies,poutcomeDummies,data['month'],data['day_of_week'],data['y']],axis=1)\n",
    "bank_df.head()"
   ]
  },
  {
   "cell_type": "code",
   "execution_count": 6,
   "metadata": {
    "scrolled": true
   },
   "outputs": [
    {
     "data": {
      "text/plain": [
       "y\n",
       "0    40216\n",
       "1     5091\n",
       "dtype: int64"
      ]
     },
     "execution_count": 6,
     "metadata": {},
     "output_type": "execute_result"
    }
   ],
   "source": [
    "#Predictors count\n",
    "bank_df.groupby('y').size()"
   ]
  },
  {
   "cell_type": "code",
   "execution_count": 7,
   "metadata": {},
   "outputs": [
    {
     "data": {
      "text/plain": [
       "49"
      ]
     },
     "execution_count": 7,
     "metadata": {},
     "output_type": "execute_result"
    }
   ],
   "source": [
    "#Total features after one-hot-encoding\n",
    "features = bank_df.columns\n",
    "len(features)"
   ]
  },
  {
   "cell_type": "code",
   "execution_count": 7,
   "metadata": {},
   "outputs": [
    {
     "name": "stdout",
     "output_type": "stream",
     "text": [
      "int8\n"
     ]
    },
    {
     "data": {
      "text/plain": [
       "array([[ 56., 261.,   1., ...,   0.,   6.,   1.],\n",
       "       [ 57., 149.,   1., ...,   0.,   6.,   1.],\n",
       "       [ 37., 226.,   1., ...,   0.,   6.,   1.],\n",
       "       ...,\n",
       "       [ 27.,  64.,   2., ...,   0.,   6.,   1.],\n",
       "       [ 58., 528.,   1., ...,   0.,   1.,   0.],\n",
       "       [ 34., 175.,   1., ...,   0.,   7.,   4.]])"
      ]
     },
     "execution_count": 7,
     "metadata": {},
     "output_type": "execute_result"
    }
   ],
   "source": [
    "#Variables and Output\n",
    "y=np.array(bank_df[\"y\"])\n",
    "X=np.array(bank_df.iloc[:,0:48])\n"
   ]
  },
  {
   "cell_type": "code",
   "execution_count": 8,
   "metadata": {},
   "outputs": [],
   "source": [
    "#Partition of Dataset\n",
    "from sklearn.model_selection import train_test_split\n",
    "\n",
    "X_train_80, X_test, y_train_80, y_test = train_test_split(X, y, test_size=0.2, random_state=1)\n",
    "\n",
    "X_train, X_val, y_train, y_val = train_test_split(X_train_80, y_train_80, test_size=0.2, random_state=1)"
   ]
  },
  {
   "cell_type": "code",
   "execution_count": null,
   "metadata": {},
   "outputs": [],
   "source": [
    "#Initial Run for entire dataset without cross validation"
   ]
  },
  {
   "cell_type": "code",
   "execution_count": 210,
   "metadata": {},
   "outputs": [
    {
     "data": {
      "text/plain": [
       "SVC(C=1.0, cache_size=200, class_weight=None, coef0=0.0,\n",
       "    decision_function_shape='ovr', degree=3, gamma='auto_deprecated',\n",
       "    kernel='linear', max_iter=-1, probability=False, random_state=None,\n",
       "    shrinking=True, tol=0.001, verbose=False)"
      ]
     },
     "execution_count": 210,
     "metadata": {},
     "output_type": "execute_result"
    }
   ],
   "source": [
    "from sklearn.svm import SVC\n",
    "svm_linear = SVC(kernel='linear')\n",
    "svm_linear.fit(X_train, y_train)"
   ]
  },
  {
   "cell_type": "code",
   "execution_count": 211,
   "metadata": {},
   "outputs": [],
   "source": [
    "y_pred_t = svm_linear.predict(X_test)"
   ]
  },
  {
   "cell_type": "code",
   "execution_count": 212,
   "metadata": {},
   "outputs": [
    {
     "name": "stdout",
     "output_type": "stream",
     "text": [
      "[[7805  240]\n",
      " [ 596  421]]\n",
      "              precision    recall  f1-score   support\n",
      "\n",
      "           0       0.93      0.97      0.95      8045\n",
      "           1       0.64      0.41      0.50      1017\n",
      "\n",
      "    accuracy                           0.91      9062\n",
      "   macro avg       0.78      0.69      0.73      9062\n",
      "weighted avg       0.90      0.91      0.90      9062\n",
      "\n"
     ]
    }
   ],
   "source": [
    "from sklearn.metrics import classification_report, confusion_matrix\n",
    "print(confusion_matrix(y_test,y_pred_t))\n",
    "print(classification_report(y_test,y_pred_t))"
   ]
  },
  {
   "cell_type": "code",
   "execution_count": 213,
   "metadata": {},
   "outputs": [],
   "source": [
    "y_pred_v = svm_linear.predict(X_val)"
   ]
  },
  {
   "cell_type": "code",
   "execution_count": 214,
   "metadata": {},
   "outputs": [
    {
     "name": "stdout",
     "output_type": "stream",
     "text": [
      "[[6267  185]\n",
      " [ 455  342]]\n",
      "              precision    recall  f1-score   support\n",
      "\n",
      "           0       0.93      0.97      0.95      6452\n",
      "           1       0.65      0.43      0.52       797\n",
      "\n",
      "    accuracy                           0.91      7249\n",
      "   macro avg       0.79      0.70      0.73      7249\n",
      "weighted avg       0.90      0.91      0.90      7249\n",
      "\n"
     ]
    }
   ],
   "source": [
    "from sklearn.metrics import classification_report, confusion_matrix\n",
    "print(confusion_matrix(y_val,y_pred_v))\n",
    "print(classification_report(y_val,y_pred_v))"
   ]
  },
  {
   "cell_type": "code",
   "execution_count": 6,
   "metadata": {},
   "outputs": [],
   "source": [
    "#Run Linear SVC with Cross Validation"
   ]
  },
  {
   "cell_type": "code",
   "execution_count": 215,
   "metadata": {},
   "outputs": [],
   "source": [
    "\n",
    "scores = []\n",
    "n=10\n",
    "i=0\n",
    "mean_auc=0\n",
    "accuracy_test=0\n",
    "accuracy_train=0\n",
    "svm_linear_cv = SVC(kernel='linear')\n",
    "cv = KFold(n_splits=n, random_state=42, shuffle=False)\n",
    "#print(cv.split(X_train_80))"
   ]
  },
  {
   "cell_type": "code",
   "execution_count": 216,
   "metadata": {
    "scrolled": true
   },
   "outputs": [
    {
     "name": "stdout",
     "output_type": "stream",
     "text": [
      "Train Index:  [ 3625  3626  3627 ... 36242 36243 36244]\n",
      "Test Index:  [   0    1    2 ... 3622 3623 3624]\n",
      "AUC (fold 1/10): 0.6838176817185214\n",
      "Accuracy Test Fold 1 : 90.04137931034482\n",
      "Accuracy Train Fold 1 : 90.29736358062537\n",
      " \n",
      "Train Index:  [    0     1     2 ... 36242 36243 36244]\n",
      "Test Index:  [3625 3626 3627 ... 7247 7248 7249]\n",
      "AUC (fold 2/10): 0.6788730960740079\n",
      "Accuracy Test Fold 2 : 90.37241379310345\n",
      "Accuracy Train Fold 2 : 90.33415082771306\n",
      " \n",
      "Train Index:  [    0     1     2 ... 36242 36243 36244]\n",
      "Test Index:  [ 7250  7251  7252 ... 10872 10873 10874]\n",
      "AUC (fold 3/10): 0.6926364985141474\n",
      "Accuracy Test Fold 3 : 89.98620689655172\n",
      "Accuracy Train Fold 3 : 90.31882280809319\n",
      " \n",
      "Train Index:  [    0     1     2 ... 36242 36243 36244]\n",
      "Test Index:  [10875 10876 10877 ... 14497 14498 14499]\n",
      "AUC (fold 4/10): 0.706498014225453\n",
      "Accuracy Test Fold 4 : 91.55862068965517\n",
      "Accuracy Train Fold 4 : 91.0453709380748\n",
      " \n",
      "Train Index:  [    0     1     2 ... 36242 36243 36244]\n",
      "Test Index:  [14500 14501 14502 ... 18122 18123 18124]\n",
      "AUC (fold 5/10): 0.6828835660027351\n",
      "Accuracy Test Fold 5 : 90.78620689655172\n",
      "Accuracy Train Fold 5 : 91.18025751072962\n",
      " \n",
      "Train Index:  [    0     1     2 ... 36242 36243 36244]\n",
      "Test Index:  [18125 18126 18127 ... 21746 21747 21748]\n",
      "AUC (fold 6/10): 0.7069242766808933\n",
      "Accuracy Test Fold 6 : 90.61810154525386\n",
      "Accuracy Train Fold 6 : 90.28233346617209\n",
      " \n",
      "Train Index:  [    0     1     2 ... 36242 36243 36244]\n",
      "Test Index:  [21749 21750 21751 ... 25370 25371 25372]\n",
      "AUC (fold 7/10): 0.6896355331959423\n",
      "Accuracy Test Fold 7 : 90.17660044150111\n",
      "Accuracy Train Fold 7 : 90.32218509549064\n",
      " \n",
      "Train Index:  [    0     1     2 ... 36242 36243 36244]\n",
      "Test Index:  [25373 25374 25375 ... 28994 28995 28996]\n",
      "AUC (fold 8/10): 0.6756362684934113\n",
      "Accuracy Test Fold 8 : 89.59713024282561\n",
      "Accuracy Train Fold 8 : 90.31605407559547\n",
      " \n",
      "Train Index:  [    0     1     2 ... 36242 36243 36244]\n",
      "Test Index:  [28997 28998 28999 ... 32618 32619 32620]\n",
      "AUC (fold 9/10): 0.6970990262877115\n",
      "Accuracy Test Fold 9 : 90.23178807947019\n",
      "Accuracy Train Fold 9 : 90.25474387664389\n",
      " \n",
      "Train Index:  [    0     1     2 ... 32618 32619 32620]\n",
      "Test Index:  [32621 32622 32623 ... 36242 36243 36244]\n",
      "AUC (fold 10/10): 0.6798045193405613\n",
      "Accuracy Test Fold 10 : 90.03863134657837\n",
      "Accuracy Train Fold 10 : 90.3405781551761\n",
      " \n",
      "Mean AUC: 0.6893808480533385\n",
      "Mean Test Accuracy: 90.3407079241836\n",
      "Mean Train Accuracy: 90.46918603343144\n"
     ]
    }
   ],
   "source": [
    "for train_index, test_index in cv.split(X_train_80):\n",
    "    print(\"Train Index: \", train_index)\n",
    "    print(\"Test Index: \", test_index)\n",
    "    X_train_cv, X_test_cv= X_train_80[train_index], X_train_80[test_index]\n",
    "    y_train_cv, y_test_cv = y_train_80[train_index], y_train_80[test_index]\n",
    "\n",
    "    \n",
    "    # train model and make predictions\n",
    "    svm_linear_cv.fit(X_train_cv, y_train_cv) \n",
    "    \n",
    "    #predict train\n",
    "    preds_train = svm_linear_cv.predict(X_train_cv)\n",
    "\n",
    "    #predict test\n",
    "    preds_test = svm_linear_cv.predict(X_test_cv)\n",
    "    \n",
    "    i+=1\n",
    "    # compute AUC metric for this CV fold\n",
    "    fpr, tpr, thresholds = metrics.roc_curve(y_test_cv, preds_test)\n",
    "    roc_auc = metrics.auc(fpr, tpr)\n",
    "    print (\"AUC (fold \"+str(i)+\"/\"+str(n)+\"): \"+str(roc_auc))\n",
    "    mean_auc += roc_auc\n",
    "    \n",
    "    print(\"Accuracy Test Fold \"+str(i)+\" : \"+str(metrics.accuracy_score(y_test_cv,preds_test)*100))\n",
    "    accuracy_test+=metrics.accuracy_score(y_test_cv,preds_test)*100\n",
    "    print(\"Accuracy Train Fold \"+str(i)+\" : \"+str(metrics.accuracy_score(y_train_cv,preds_train)*100))\n",
    "    accuracy_train+=metrics.accuracy_score(y_train_cv,preds_train)*100\n",
    "    print( \" \")\n",
    "    \n",
    "print (\"Mean AUC: \"+str(mean_auc/n) )\n",
    "print (\"Mean Test Accuracy: \"+str(accuracy_test/n))\n",
    "print (\"Mean Train Accuracy: \"+str(accuracy_train/n))"
   ]
  },
  {
   "cell_type": "code",
   "execution_count": null,
   "metadata": {},
   "outputs": [],
   "source": []
  },
  {
   "cell_type": "code",
   "execution_count": null,
   "metadata": {},
   "outputs": [],
   "source": []
  },
  {
   "cell_type": "code",
   "execution_count": null,
   "metadata": {},
   "outputs": [],
   "source": [
    "#Learning Curve Plot"
   ]
  },
  {
   "cell_type": "code",
   "execution_count": 218,
   "metadata": {},
   "outputs": [
    {
     "name": "stderr",
     "output_type": "stream",
     "text": [
      "C:\\ProgramData\\Anaconda3\\lib\\site-packages\\joblib\\externals\\loky\\process_executor.py:706: UserWarning: A worker stopped while some jobs were given to the executor. This can be caused by a too short worker timeout or by a memory leak.\n",
      "  \"timeout or by a memory leak.\", UserWarning\n"
     ]
    },
    {
     "data": {
      "image/png": "[encoded data removed]",
      "text/plain": [
       "<Figure size 576x396 with 1 Axes>"
      ]
     },
     "metadata": {},
     "output_type": "display_data"
    },
    {
     "data": {
      "text/plain": [
       "<matplotlib.axes._subplots.AxesSubplot at 0x12283a226a0>"
      ]
     },
     "execution_count": 218,
     "metadata": {},
     "output_type": "execute_result"
    }
   ],
   "source": [
    "from yellowbrick.model_selection import LearningCurve\n",
    "sizes = np.linspace(0.3, 1.0, 10)\n",
    "visualizer = LearningCurve(\n",
    "    svm_linear_cv, cv=cv, scoring='f1_weighted', train_sizes=sizes, n_jobs=4\n",
    ")\n",
    "\n",
    "visualizer.fit(X_train_80,y_train_80)        # Fit the data to the visualizer\n",
    "visualizer.show() "
   ]
  },
  {
   "cell_type": "code",
   "execution_count": 219,
   "metadata": {
    "scrolled": true
   },
   "outputs": [
    {
     "data": {
      "image/png": "[encoded data removed]",
      "text/plain": [
       "<Figure size 576x396 with 1 Axes>"
      ]
     },
     "metadata": {},
     "output_type": "display_data"
    },
    {
     "data": {
      "text/plain": [
       "<matplotlib.axes._subplots.AxesSubplot at 0x122842267b8>"
      ]
     },
     "execution_count": 219,
     "metadata": {},
     "output_type": "execute_result"
    }
   ],
   "source": [
    "from yellowbrick.model_selection import LearningCurve\n",
    "sizes = np.linspace(0.3, 1.0, 10)\n",
    "visualizer = LearningCurve(\n",
    "    svm_linear_cv, cv=cv, scoring='accuracy', train_sizes=sizes, n_jobs=4\n",
    ")\n",
    "\n",
    "visualizer.fit(X_train_80,y_train_80)        # Fit the data to the visualizer\n",
    "visualizer.show() "
   ]
  },
  {
   "cell_type": "code",
   "execution_count": 220,
   "metadata": {},
   "outputs": [],
   "source": [
    "y_pred_1 = svm_linear_cv.predict(X_test)"
   ]
  },
  {
   "cell_type": "code",
   "execution_count": 221,
   "metadata": {
    "scrolled": true
   },
   "outputs": [
    {
     "name": "stdout",
     "output_type": "stream",
     "text": [
      "[[7732  313]\n",
      " [ 596  421]]\n",
      "              precision    recall  f1-score   support\n",
      "\n",
      "           0       0.93      0.96      0.94      8045\n",
      "           1       0.57      0.41      0.48      1017\n",
      "\n",
      "    accuracy                           0.90      9062\n",
      "   macro avg       0.75      0.69      0.71      9062\n",
      "weighted avg       0.89      0.90      0.89      9062\n",
      "\n"
     ]
    }
   ],
   "source": [
    "from sklearn.metrics import classification_report, confusion_matrix\n",
    "print(confusion_matrix(y_test,y_pred_1))\n",
    "print(classification_report(y_test,y_pred_1))"
   ]
  },
  {
   "cell_type": "code",
   "execution_count": 222,
   "metadata": {},
   "outputs": [
    {
     "data": {
      "image/png": "[encoded data removed]",
      "text/plain": [
       "<Figure size 576x396 with 1 Axes>"
      ]
     },
     "metadata": {},
     "output_type": "display_data"
    }
   ],
   "source": [
    "from sklearn import metrics\n",
    "import matplotlib.pyplot as plt\n",
    "\n",
    "fpr, tpr, _ = metrics.roc_curve(y_test,  y_pred_1)\n",
    "auc = metrics.roc_auc_score(y_test, y_pred_1)\n",
    "plt.plot(fpr,tpr,label=\", auc=\"+str(auc))\n",
    "plt.legend(loc=4)\n",
    "plt.show()"
   ]
  },
  {
   "cell_type": "code",
   "execution_count": null,
   "metadata": {},
   "outputs": [],
   "source": [
    "#Run SVC with RBF Kernel using Cross Validation"
   ]
  },
  {
   "cell_type": "code",
   "execution_count": 223,
   "metadata": {},
   "outputs": [],
   "source": [
    "\n",
    "scores = []\n",
    "n=10\n",
    "i=0\n",
    "mean_auc=0\n",
    "accuracy_test=0\n",
    "accuracy_train=0\n",
    "svm_rbf_cv = SVC(kernel='rbf')\n",
    "cv = KFold(n_splits=n, random_state=42, shuffle=False)\n"
   ]
  },
  {
   "cell_type": "code",
   "execution_count": 224,
   "metadata": {},
   "outputs": [
    {
     "name": "stdout",
     "output_type": "stream",
     "text": [
      "Train Index:  [ 3625  3626  3627 ... 36242 36243 36244]\n",
      "Test Index:  [   0    1    2 ... 3622 3623 3624]\n"
     ]
    },
    {
     "name": "stderr",
     "output_type": "stream",
     "text": [
      "C:\\ProgramData\\Anaconda3\\lib\\site-packages\\sklearn\\svm\\base.py:193: FutureWarning: The default value of gamma will change from 'auto' to 'scale' in version 0.22 to account better for unscaled features. Set gamma explicitly to 'auto' or 'scale' to avoid this warning.\n",
      "  \"avoid this warning.\", FutureWarning)\n"
     ]
    },
    {
     "name": "stdout",
     "output_type": "stream",
     "text": [
      "AUC (fold 1/10): 0.6343345445704502\n",
      "Accuracy Test Fold 1 : 89.90344827586206\n",
      "Accuracy Train Fold 1 : 96.44389944819129\n",
      " \n",
      "Train Index:  [    0     1     2 ... 36242 36243 36244]\n",
      "Test Index:  [3625 3626 3627 ... 7247 7248 7249]\n"
     ]
    },
    {
     "name": "stderr",
     "output_type": "stream",
     "text": [
      "C:\\ProgramData\\Anaconda3\\lib\\site-packages\\sklearn\\svm\\base.py:193: FutureWarning: The default value of gamma will change from 'auto' to 'scale' in version 0.22 to account better for unscaled features. Set gamma explicitly to 'auto' or 'scale' to avoid this warning.\n",
      "  \"avoid this warning.\", FutureWarning)\n"
     ]
    },
    {
     "name": "stdout",
     "output_type": "stream",
     "text": [
      "AUC (fold 2/10): 0.6399156165316174\n",
      "Accuracy Test Fold 2 : 90.95172413793104\n",
      "Accuracy Train Fold 2 : 96.4316370324954\n",
      " \n",
      "Train Index:  [    0     1     2 ... 36242 36243 36244]\n",
      "Test Index:  [ 7250  7251  7252 ... 10872 10873 10874]\n"
     ]
    },
    {
     "name": "stderr",
     "output_type": "stream",
     "text": [
      "C:\\ProgramData\\Anaconda3\\lib\\site-packages\\sklearn\\svm\\base.py:193: FutureWarning: The default value of gamma will change from 'auto' to 'scale' in version 0.22 to account better for unscaled features. Set gamma explicitly to 'auto' or 'scale' to avoid this warning.\n",
      "  \"avoid this warning.\", FutureWarning)\n"
     ]
    },
    {
     "name": "stdout",
     "output_type": "stream",
     "text": [
      "AUC (fold 3/10): 0.6216103302268836\n",
      "Accuracy Test Fold 3 : 89.62758620689655\n",
      "Accuracy Train Fold 3 : 96.34580012262415\n",
      " \n",
      "Train Index:  [    0     1     2 ... 36242 36243 36244]\n",
      "Test Index:  [10875 10876 10877 ... 14497 14498 14499]\n"
     ]
    },
    {
     "name": "stderr",
     "output_type": "stream",
     "text": [
      "C:\\ProgramData\\Anaconda3\\lib\\site-packages\\sklearn\\svm\\base.py:193: FutureWarning: The default value of gamma will change from 'auto' to 'scale' in version 0.22 to account better for unscaled features. Set gamma explicitly to 'auto' or 'scale' to avoid this warning.\n",
      "  \"avoid this warning.\", FutureWarning)\n"
     ]
    },
    {
     "name": "stdout",
     "output_type": "stream",
     "text": [
      "AUC (fold 4/10): 0.6314723517865645\n",
      "Accuracy Test Fold 4 : 90.20689655172414\n",
      "Accuracy Train Fold 4 : 96.42244022072349\n",
      " \n",
      "Train Index:  [    0     1     2 ... 36242 36243 36244]\n",
      "Test Index:  [14500 14501 14502 ... 18122 18123 18124]\n"
     ]
    },
    {
     "name": "stderr",
     "output_type": "stream",
     "text": [
      "C:\\ProgramData\\Anaconda3\\lib\\site-packages\\sklearn\\svm\\base.py:193: FutureWarning: The default value of gamma will change from 'auto' to 'scale' in version 0.22 to account better for unscaled features. Set gamma explicitly to 'auto' or 'scale' to avoid this warning.\n",
      "  \"avoid this warning.\", FutureWarning)\n"
     ]
    },
    {
     "name": "stdout",
     "output_type": "stream",
     "text": [
      "AUC (fold 5/10): 0.647779673435368\n",
      "Accuracy Test Fold 5 : 90.3448275862069\n",
      "Accuracy Train Fold 5 : 96.364193746168\n",
      " \n",
      "Train Index:  [    0     1     2 ... 36242 36243 36244]\n",
      "Test Index:  [18125 18126 18127 ... 21746 21747 21748]\n"
     ]
    },
    {
     "name": "stderr",
     "output_type": "stream",
     "text": [
      "C:\\ProgramData\\Anaconda3\\lib\\site-packages\\sklearn\\svm\\base.py:193: FutureWarning: The default value of gamma will change from 'auto' to 'scale' in version 0.22 to account better for unscaled features. Set gamma explicitly to 'auto' or 'scale' to avoid this warning.\n",
      "  \"avoid this warning.\", FutureWarning)\n"
     ]
    },
    {
     "name": "stdout",
     "output_type": "stream",
     "text": [
      "AUC (fold 6/10): 0.6600959387732895\n",
      "Accuracy Test Fold 6 : 90.7560706401766\n",
      "Accuracy Train Fold 6 : 96.40415683148892\n",
      " \n",
      "Train Index:  [    0     1     2 ... 36242 36243 36244]\n",
      "Test Index:  [21749 21750 21751 ... 25370 25371 25372]\n"
     ]
    },
    {
     "name": "stderr",
     "output_type": "stream",
     "text": [
      "C:\\ProgramData\\Anaconda3\\lib\\site-packages\\sklearn\\svm\\base.py:193: FutureWarning: The default value of gamma will change from 'auto' to 'scale' in version 0.22 to account better for unscaled features. Set gamma explicitly to 'auto' or 'scale' to avoid this warning.\n",
      "  \"avoid this warning.\", FutureWarning)\n"
     ]
    },
    {
     "name": "stdout",
     "output_type": "stream",
     "text": [
      "AUC (fold 7/10): 0.6509663223981674\n",
      "Accuracy Test Fold 7 : 90.45253863134658\n",
      "Accuracy Train Fold 7 : 96.35204316238006\n",
      " \n",
      "Train Index:  [    0     1     2 ... 36242 36243 36244]\n",
      "Test Index:  [25373 25374 25375 ... 28994 28995 28996]\n"
     ]
    },
    {
     "name": "stderr",
     "output_type": "stream",
     "text": [
      "C:\\ProgramData\\Anaconda3\\lib\\site-packages\\sklearn\\svm\\base.py:193: FutureWarning: The default value of gamma will change from 'auto' to 'scale' in version 0.22 to account better for unscaled features. Set gamma explicitly to 'auto' or 'scale' to avoid this warning.\n",
      "  \"avoid this warning.\", FutureWarning)\n"
     ]
    },
    {
     "name": "stdout",
     "output_type": "stream",
     "text": [
      "AUC (fold 8/10): 0.6832310546596261\n",
      "Accuracy Test Fold 8 : 91.55629139072848\n",
      "Accuracy Train Fold 8 : 96.41641887127925\n",
      " \n",
      "Train Index:  [    0     1     2 ... 36242 36243 36244]\n",
      "Test Index:  [28997 28998 28999 ... 32618 32619 32620]\n"
     ]
    },
    {
     "name": "stderr",
     "output_type": "stream",
     "text": [
      "C:\\ProgramData\\Anaconda3\\lib\\site-packages\\sklearn\\svm\\base.py:193: FutureWarning: The default value of gamma will change from 'auto' to 'scale' in version 0.22 to account better for unscaled features. Set gamma explicitly to 'auto' or 'scale' to avoid this warning.\n",
      "  \"avoid this warning.\", FutureWarning)\n"
     ]
    },
    {
     "name": "stdout",
     "output_type": "stream",
     "text": [
      "AUC (fold 9/10): 0.6763336513103377\n",
      "Accuracy Test Fold 9 : 91.30794701986756\n",
      "Accuracy Train Fold 9 : 96.3459121424849\n",
      " \n",
      "Train Index:  [    0     1     2 ... 32618 32619 32620]\n",
      "Test Index:  [32621 32622 32623 ... 36242 36243 36244]\n"
     ]
    },
    {
     "name": "stderr",
     "output_type": "stream",
     "text": [
      "C:\\ProgramData\\Anaconda3\\lib\\site-packages\\sklearn\\svm\\base.py:193: FutureWarning: The default value of gamma will change from 'auto' to 'scale' in version 0.22 to account better for unscaled features. Set gamma explicitly to 'auto' or 'scale' to avoid this warning.\n",
      "  \"avoid this warning.\", FutureWarning)\n"
     ]
    },
    {
     "name": "stdout",
     "output_type": "stream",
     "text": [
      "AUC (fold 10/10): 0.6324553079706488\n",
      "Accuracy Test Fold 10 : 89.59713024282561\n",
      "Accuracy Train Fold 10 : 96.45320499065019\n",
      " \n",
      "Mean AUC: 0.6478194791662952\n",
      "Mean Test Accuracy: 90.47044606835655\n",
      "Mean Train Accuracy: 96.39797065684857\n"
     ]
    }
   ],
   "source": [
    "for train_index, test_index in cv.split(X_train_80):\n",
    "    print(\"Train Index: \", train_index)\n",
    "    print(\"Test Index: \", test_index)\n",
    "    X_train_cv, X_test_cv= X_train_80[train_index], X_train_80[test_index]\n",
    "    y_train_cv, y_test_cv = y_train_80[train_index], y_train_80[test_index]\n",
    "\n",
    "    # train model and make predictions\n",
    "    svm_rbf_cv.fit(X_train_cv, y_train_cv) \n",
    "    \n",
    "    #predict train\n",
    "    preds_train = svm_rbf_cv.predict(X_train_cv)\n",
    "\n",
    "    #predict test\n",
    "    preds_test = svm_rbf_cv.predict(X_test_cv)\n",
    "    \n",
    "    i+=1\n",
    "    # compute AUC metric for this CV fold\n",
    "    fpr, tpr, thresholds = metrics.roc_curve(y_test_cv, preds_test)\n",
    "    roc_auc = metrics.auc(fpr, tpr)\n",
    "    print (\"AUC (fold \"+str(i)+\"/\"+str(n)+\"): \"+str(roc_auc))\n",
    "    mean_auc += roc_auc\n",
    "    \n",
    "    print(\"Accuracy Test Fold \"+str(i)+\" : \"+str(metrics.accuracy_score(y_test_cv,preds_test)*100))\n",
    "    accuracy_test+=metrics.accuracy_score(y_test_cv,preds_test)*100\n",
    "    print(\"Accuracy Train Fold \"+str(i)+\" : \"+str(metrics.accuracy_score(y_train_cv,preds_train)*100))\n",
    "    accuracy_train+=metrics.accuracy_score(y_train_cv,preds_train)*100\n",
    "    print( \" \")\n",
    "    \n",
    "print (\"Mean AUC: \"+str(mean_auc/n) )\n",
    "print (\"Mean Test Accuracy: \"+str(accuracy_test/n))\n",
    "print (\"Mean Train Accuracy: \"+str(accuracy_train/n))"
   ]
  },
  {
   "cell_type": "code",
   "execution_count": 225,
   "metadata": {},
   "outputs": [],
   "source": [
    "y_pred_2 = svm_rbf_cv.predict(X_test)"
   ]
  },
  {
   "cell_type": "code",
   "execution_count": 226,
   "metadata": {},
   "outputs": [
    {
     "name": "stdout",
     "output_type": "stream",
     "text": [
      "[[7892  153]\n",
      " [ 710  307]]\n",
      "              precision    recall  f1-score   support\n",
      "\n",
      "           0       0.92      0.98      0.95      8045\n",
      "           1       0.67      0.30      0.42      1017\n",
      "\n",
      "    accuracy                           0.90      9062\n",
      "   macro avg       0.79      0.64      0.68      9062\n",
      "weighted avg       0.89      0.90      0.89      9062\n",
      "\n"
     ]
    }
   ],
   "source": [
    "from sklearn.metrics import classification_report, confusion_matrix\n",
    "print(confusion_matrix(y_test,y_pred_2))\n",
    "print(classification_report(y_test,y_pred_2))"
   ]
  },
  {
   "cell_type": "code",
   "execution_count": 227,
   "metadata": {},
   "outputs": [
    {
     "data": {
      "image/png": "[encoded data removed]",
      "text/plain": [
       "<Figure size 576x396 with 1 Axes>"
      ]
     },
     "metadata": {},
     "output_type": "display_data"
    },
    {
     "data": {
      "text/plain": [
       "<matplotlib.axes._subplots.AxesSubplot at 0x12284347240>"
      ]
     },
     "execution_count": 227,
     "metadata": {},
     "output_type": "execute_result"
    }
   ],
   "source": [
    "from yellowbrick.model_selection import LearningCurve\n",
    "sizes = np.linspace(0.3, 1.0, 10)\n",
    "visualizer = LearningCurve(\n",
    "    svm_rbf_cv, cv=cv, scoring='accuracy', train_sizes=sizes, n_jobs=4\n",
    ")\n",
    "\n",
    "visualizer.fit(X_train_80,y_train_80)        # Fit the data to the visualizer\n",
    "visualizer.show() "
   ]
  },
  {
   "cell_type": "code",
   "execution_count": 228,
   "metadata": {},
   "outputs": [
    {
     "data": {
      "image/png": "[encoded data removed]",
      "text/plain": [
       "<Figure size 576x396 with 1 Axes>"
      ]
     },
     "metadata": {},
     "output_type": "display_data"
    },
    {
     "data": {
      "text/plain": [
       "<matplotlib.axes._subplots.AxesSubplot at 0x1228438ef98>"
      ]
     },
     "execution_count": 228,
     "metadata": {},
     "output_type": "execute_result"
    }
   ],
   "source": [
    "from yellowbrick.model_selection import LearningCurve\n",
    "sizes = np.linspace(0.3, 1.0, 10)\n",
    "visualizer = LearningCurve(\n",
    "    svm_rbf_cv, cv=cv, scoring='f1_weighted', train_sizes=sizes, n_jobs=4\n",
    ")\n",
    "\n",
    "visualizer.fit(X_train_80,y_train_80)        # Fit the data to the visualizer\n",
    "visualizer.show() "
   ]
  },
  {
   "cell_type": "code",
   "execution_count": null,
   "metadata": {},
   "outputs": [],
   "source": [
    "##Run SVC on Polynomial Kernel with Cross Validation"
   ]
  },
  {
   "cell_type": "code",
   "execution_count": 11,
   "metadata": {},
   "outputs": [],
   "source": [
    "\n",
    "scores = []\n",
    "n=10\n",
    "i=0\n",
    "mean_auc=0\n",
    "accuracy_test=0\n",
    "accuracy_train=0\n",
    "svm_sig_cv = SVC(kernel='poly')\n",
    "cv = KFold(n_splits=n, random_state=42, shuffle=False)\n",
    "#print(cv.split(X_train_80))"
   ]
  },
  {
   "cell_type": "code",
   "execution_count": null,
   "metadata": {
    "scrolled": true
   },
   "outputs": [
    {
     "name": "stdout",
     "output_type": "stream",
     "text": [
      "Train Index:  [ 3625  3626  3627 ... 36242 36243 36244]\n",
      "Test Index:  [   0    1    2 ... 3622 3623 3624]\n"
     ]
    },
    {
     "name": "stderr",
     "output_type": "stream",
     "text": [
      "C:\\ProgramData\\Anaconda3\\lib\\site-packages\\sklearn\\svm\\base.py:193: FutureWarning: The default value of gamma will change from 'auto' to 'scale' in version 0.22 to account better for unscaled features. Set gamma explicitly to 'auto' or 'scale' to avoid this warning.\n",
      "  \"avoid this warning.\", FutureWarning)\n"
     ]
    }
   ],
   "source": [
    "for train_index, test_index in cv.split(X_train_80):\n",
    "    print(\"Train Index: \", train_index)\n",
    "    print(\"Test Index: \", test_index)\n",
    "    X_train_cv, X_test_cv= X_train_80[train_index], X_train_80[test_index]\n",
    "    y_train_cv, y_test_cv = y_train_80[train_index], y_train_80[test_index]\n",
    "\n",
    "    # train model and make predictions\n",
    "    \n",
    "    svm_sig_cv.fit(X_train_cv, y_train_cv) \n",
    "    \n",
    "    #predict train\n",
    "    preds_train = svm_sig_cv.predict(X_train_cv)\n",
    "\n",
    "    #predict test\n",
    "    preds_test = svm_sig_cv.predict(X_test_cv)\n",
    "    \n",
    "    i+=1\n",
    "    # compute AUC metric for this CV fold\n",
    "    fpr, tpr, thresholds = metrics.roc_curve(y_test_cv, preds_test)\n",
    "    roc_auc = metrics.auc(fpr, tpr)\n",
    "    print (\"AUC (fold \"+str(i)+\"/\"+str(n)+\"): \"+str(roc_auc))\n",
    "    mean_auc += roc_auc\n",
    "    \n",
    "    print(\"Accuracy Test Fold \"+str(i)+\" : \"+str(metrics.accuracy_score(y_test_cv,preds_test)*100))\n",
    "    accuracy_test+=metrics.accuracy_score(y_test_cv,preds_test)*100\n",
    "    print(\"Accuracy Train Fold \"+str(i)+\" : \"+str(metrics.accuracy_score(y_train_cv,preds_train)*100))\n",
    "    accuracy_train+=metrics.accuracy_score(y_train_cv,preds_train)*100\n",
    "    print( \" \")\n",
    "    \n",
    "print (\"Mean AUC: \"+str(mean_auc/n) )\n",
    "print (\"Mean Test Accuracy: \"+str(accuracy_test/n))\n",
    "print (\"Mean Train Accuracy: \"+str(accuracy_train/n))"
   ]
  },
  {
   "cell_type": "code",
   "execution_count": null,
   "metadata": {},
   "outputs": [],
   "source": [
    "#Perform Grid Search"
   ]
  },
  {
   "cell_type": "code",
   "execution_count": 12,
   "metadata": {},
   "outputs": [
    {
     "name": "stdout",
     "output_type": "stream",
     "text": [
      "Best Parameters for linear : {'C': 0.1, 'gamma': 0.001}\n"
     ]
    }
   ],
   "source": [
    "from sklearn.model_selection import GridSearchCV\n",
    "\n",
    "def svc_param_selection(X, y, nfolds, skernel):\n",
    "    Cs = [0.001, 0.01, 0.1, 1, 10]\n",
    "    gammas = [0.001, 0.01, 0.1, 1]\n",
    "    param_grid = {'C': Cs, 'gamma' : gammas}\n",
    "    grid_search = GridSearchCV(SVC(kernel=skernel), param_grid, cv=nfolds)\n",
    "    grid_search.fit(X, y)\n",
    "    grid_search.best_params_\n",
    "    return grid_search.best_params_\n",
    "\n",
    "\n",
    "print(\"Best Parameters for linear :\",svc_param_selection(X_train_80,y_train_80,cv,'linear'))"
   ]
  },
  {
   "cell_type": "code",
   "execution_count": null,
   "metadata": {},
   "outputs": [],
   "source": [
    "\n",
    "\n",
    "print(\"Best Parameters for rbf :\",svc_param_selection(X_train_80,y_train_80,cv,'rbf'))"
   ]
  },
  {
   "cell_type": "code",
   "execution_count": null,
   "metadata": {},
   "outputs": [],
   "source": [
    "\n",
    "\n",
    "print(\"Best Parameters for poly :\",svc_param_selection(X_train_80,y_train_80,cv,'poly'))"
   ]
  },
  {
   "cell_type": "code",
   "execution_count": null,
   "metadata": {},
   "outputs": [],
   "source": [
    "##Run the Linear SVC using best Hyperparameters"
   ]
  },
  {
   "cell_type": "code",
   "execution_count": null,
   "metadata": {},
   "outputs": [],
   "source": [
    "\n",
    "scores = []\n",
    "n=10\n",
    "i=0\n",
    "mean_auc=0\n",
    "accuracy_test=0\n",
    "accuracy_train=0\n",
    "svm_opt_cv = SVC(kernel='linear',C= 0.1, gamma = 0.001)\n",
    "cv = KFold(n_splits=n, random_state=42, shuffle=False)\n",
    "#print(cv.split(X_train_80))"
   ]
  },
  {
   "cell_type": "code",
   "execution_count": null,
   "metadata": {},
   "outputs": [],
   "source": [
    "for train_index, test_index in cv.split(X_train_80):\n",
    "    print(\"Train Index: \", train_index)\n",
    "    print(\"Test Index: \", test_index)\n",
    "    X_train_cv, X_test_cv= X_train_80[train_index], X_train_80[test_index]\n",
    "    y_train_cv, y_test_cv = y_train_80[train_index], y_train_80[test_index]\n",
    "    #X_train_cv, X_test_cv= X_train_80.iloc(train_index), X_train_80.iloc(test_index)\n",
    "    #y_train_cv, y_test_cv = y_train_80.iloc(train_index), y_train_80.iloc(test_index)\n",
    "    # train model and make predictions\n",
    "    \n",
    "        \n",
    "    svm_opt_cv.fit(X_train_cv, y_train_cv) \n",
    "    \n",
    "    #predict train\n",
    "    preds_train = svm_opt_cv.predict(X_train_cv)\n",
    "\n",
    "    #predict test\n",
    "    preds_test = svm_opt_cv.predict(X_test_cv)\n",
    "    \n",
    "    i+=1\n",
    "    # compute AUC metric for this CV fold\n",
    "    fpr, tpr, thresholds = metrics.roc_curve(y_test_cv, preds_test)\n",
    "    roc_auc = metrics.auc(fpr, tpr)\n",
    "    print (\"AUC (fold \"+str(i)+\"/\"+str(n)+\"): \"+str(roc_auc))\n",
    "    mean_auc += roc_auc\n",
    "    \n",
    "    print(\"Accuracy Test Fold \"+str(i)+\" : \"+str(metrics.accuracy_score(y_test_cv,preds_test)*100))\n",
    "    accuracy_test+=metrics.accuracy_score(y_test_cv,preds_test)*100\n",
    "    print(\"Accuracy Train Fold \"+str(i)+\" : \"+str(metrics.accuracy_score(y_train_cv,preds_train)*100))\n",
    "    accuracy_train+=metrics.accuracy_score(y_train_cv,preds_train)*100\n",
    "    print( \" \")\n",
    "    \n",
    "print (\"Mean AUC: \"+str(mean_auc/n) )\n",
    "print (\"Mean Test Accuracy: \"+str(accuracy_test/n))\n",
    "print (\"Mean Train Accuracy: \"+str(accuracy_train/n))"
   ]
  },
  {
   "cell_type": "code",
   "execution_count": null,
   "metadata": {},
   "outputs": [],
   "source": [
    "y_pred = svm_opt_cv.predict(X_test)"
   ]
  },
  {
   "cell_type": "code",
   "execution_count": null,
   "metadata": {},
   "outputs": [],
   "source": [
    "from sklearn.metrics import classification_report, confusion_matrix\n",
    "print(confusion_matrix(y_test,y_pred))\n",
    "print(classification_report(y_test,y_pred))"
   ]
  }
 ],
 "metadata": {
  "kernelspec": {
   "display_name": "Python 3",
   "language": "python",
   "name": "python3"
  },
  "language_info": {
   "codemirror_mode": {
    "name": "ipython",
    "version": 3
   },
   "file_extension": ".py",
   "mimetype": "text/x-python",
   "name": "python",
   "nbconvert_exporter": "python",
   "pygments_lexer": "ipython3",
   "version": "3.7.3"
  }
 },
 "nbformat": 4,
 "nbformat_minor": 2
}
